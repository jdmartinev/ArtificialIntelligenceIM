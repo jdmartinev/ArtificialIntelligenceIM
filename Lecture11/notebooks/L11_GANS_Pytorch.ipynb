{
  "cells": [
    {
      "cell_type": "markdown",
      "metadata": {
        "id": "view-in-github",
        "colab_type": "text"
      },
      "source": [
        "<a href=\"https://colab.research.google.com/github/jdmartinev/ArtificialIntelligenceIM/blob/main/Lecture07/notebooks/L07_GANS_Pytorch.ipynb\" target=\"_parent\"><img src=\"https://colab.research.google.com/assets/colab-badge.svg\" alt=\"Open In Colab\"/></a>"
      ]
    },
    {
      "cell_type": "markdown",
      "metadata": {
        "id": "1WKnp0AHwZm3"
      },
      "source": [
        "# Redes Generativas Antagónicas (GAN)\n",
        "\n",
        "El objetivo principal de una **Red Generativa Antagónica** (GAN, por sus siglas en inglés) es generar imágenes que sean similares (pero no idénticas) a las del conjunto de datos de entrenamiento.\n",
        "\n",
        "Una GAN está compuesta por dos redes neuronales que se entrenan en conjunto, compitiendo entre sí:\n",
        "\n",
        "* **Generador**: toma un vector aleatorio y genera una imagen a partir de él.\n",
        "* **Discriminador**: es una red neuronal que debe distinguir entre una imagen original (del conjunto de datos de entrenamiento) y una imagen generada por el generador.\n",
        "\n",
        "Durante el entrenamiento, el **generador** mejora su capacidad para engañar al **discriminador**, mientras que el discriminador se vuelve más hábil en diferenciar imágenes reales de las falsas. El objetivo es alcanzar un equilibrio en el que el generador produzca imágenes tan realistas que el discriminador no pueda distinguirlas de las imágenes reales.\n",
        "\n",
        "![Imagen de la arquitectura del VAE](https://drive.google.com/uc?id=1EJjgHmq8xJbAhdbMYWWTumM7OHQG8oZp)"
      ]
    },
    {
      "cell_type": "code",
      "execution_count": null,
      "metadata": {
        "id": "1KWsSqASyYMc"
      },
      "outputs": [],
      "source": [
        "import torch\n",
        "import torchvision\n",
        "import matplotlib.pyplot as plt\n",
        "from torchvision import transforms\n",
        "from torch import nn\n",
        "from torch import optim\n",
        "from tqdm import tqdm\n",
        "import numpy as np\n",
        "import torch.nn.functional as F\n",
        "torch.manual_seed(42)\n",
        "np.random.seed(42)"
      ]
    },
    {
      "cell_type": "code",
      "execution_count": null,
      "metadata": {
        "id": "ETzzrPaVyZv3"
      },
      "outputs": [],
      "source": [
        "device = 'cuda:0' if torch.cuda.is_available() else 'cpu'\n",
        "train_size = 1.0\n",
        "lr = 2e-4\n",
        "weight_decay = 8e-9\n",
        "beta1 = 0.5\n",
        "beta2 = 0.999\n",
        "batch_size = 256\n",
        "epochs = 100\n",
        "plot_every = 10"
      ]
    },
    {
      "cell_type": "markdown",
      "metadata": {
        "id": "Rb1VyLHYx_62"
      },
      "source": [
        "## Generador\n",
        "\n",
        "El rol del generador es tomar un vector aleatorio de cierto tamaño (similar al vector latente en los autoencoders) y generar la imagen objetivo. El proceso es muy parecido al lado generativo de un autoencoder.\n",
        "\n",
        "En nuestro ejemplo, utilizaremos redes neuronales lineales y el conjunto de datos MNIST para generar imágenes de dígitos escritos a mano. El generador comenzará con un vector de entrada aleatorio y aprenderá a transformarlo en imágenes que se asemejen a los dígitos reales del conjunto de datos.\n"
      ]
    },
    {
      "cell_type": "code",
      "execution_count": null,
      "metadata": {
        "id": "ur0L8RevyyoJ"
      },
      "outputs": [],
      "source": [
        "class Generator(nn.Module):\n",
        "    def __init__(self):\n",
        "        super().__init__()\n",
        "        self.linear1 = nn.Linear(100, 256)\n",
        "        self.bn1 = nn.BatchNorm1d(256, momentum=0.2)\n",
        "        self.linear2 = nn.Linear(256, 512)\n",
        "        self.bn2 = nn.BatchNorm1d(512, momentum=0.2)\n",
        "        self.linear3 = nn.Linear(512, 1024)\n",
        "        self.bn3 = nn.BatchNorm1d(1024, momentum=0.2)\n",
        "        self.linear4 = nn.Linear(1024, 784)\n",
        "        self.tanh = nn.Tanh()\n",
        "        self.leaky_relu = nn.LeakyReLU(0.2)\n",
        "\n",
        "    def forward(self, input):\n",
        "        hidden1 = self.leaky_relu(self.bn1(self.linear1(input)))\n",
        "        hidden2 = self.leaky_relu(self.bn2(self.linear2(hidden1)))\n",
        "        hidden3 = self.leaky_relu(self.bn3(self.linear3(hidden2)))\n",
        "        generated = self.tanh(self.linear4(hidden3)).view(input.shape[0], 1, 28, 28)\n",
        "        return generated"
      ]
    },
    {
      "cell_type": "markdown",
      "metadata": {
        "id": "cNirTAsRy_Lp"
      },
      "source": [
        "## Algunos trucos utilizados en el generador:\n",
        "\n",
        "* En lugar de **ReLU**, utilizamos **LeakyReLU**, es decir, una variación de ReLU que no es exactamente 0 para valores negativos de $x$, sino que aplica una función lineal con una pendiente muy pequeña.\n",
        "* Utilizamos **BatchNorm1D** para estabilizar el entrenamiento, lo que ayuda a normalizar las activaciones y acelerar la convergencia.\n",
        "* La función de activación en la última capa es **Tanh**, lo que significa que la salida estará en el rango [-1,1].\n"
      ]
    },
    {
      "cell_type": "markdown",
      "metadata": {
        "id": "xl2JSKdgzKLf"
      },
      "source": [
        "## Discriminador\n",
        "\n",
        "El discriminador es una red clásica de clasificación de imágenes. En nuestro primer ejemplo, también utilizaremos un clasificador lineal.\n"
      ]
    },
    {
      "cell_type": "code",
      "execution_count": null,
      "metadata": {
        "id": "6efpRP_lzNlF"
      },
      "outputs": [],
      "source": [
        "class Discriminator(nn.Module):\n",
        "    def __init__(self):\n",
        "        super().__init__()\n",
        "        self.linear1 = nn.Linear(784, 512)\n",
        "        self.linear2 = nn.Linear(512, 256)\n",
        "        self.linear3 = nn.Linear(256, 1)\n",
        "        self.leaky_relu = nn.LeakyReLU(0.2)\n",
        "        self.sigmoid = nn.Sigmoid()\n",
        "\n",
        "    def forward(self, input):\n",
        "        input = input.view(input.shape[0], -1)\n",
        "        hidden1 = self.leaky_relu(self.linear1(input))\n",
        "        hidden2 = self.leaky_relu(self.linear2(hidden1))\n",
        "        classififed = self.sigmoid(self.linear3(hidden2))\n",
        "        return classififed"
      ]
    },
    {
      "cell_type": "markdown",
      "metadata": {
        "id": "DgD4_7btzT1c"
      },
      "source": [
        "## Carga del conjunto de datos\n",
        "\n",
        "Utilizaremos el conjunto de datos MNIST.\n"
      ]
    },
    {
      "cell_type": "code",
      "execution_count": null,
      "metadata": {
        "id": "yiXl8e21zW-g"
      },
      "outputs": [],
      "source": [
        "def mnist(train_part, transform=None):\n",
        "    dataset = torchvision.datasets.MNIST('.', download=True, transform=transform)\n",
        "    train_part = int(train_part * len(dataset))\n",
        "    train_dataset, test_dataset = torch.utils.data.random_split(dataset, [train_part, len(dataset) - train_part])\n",
        "    return train_dataset, test_dataset"
      ]
    },
    {
      "cell_type": "code",
      "execution_count": null,
      "metadata": {
        "id": "CCl94XhWzZN0"
      },
      "outputs": [],
      "source": [
        "transform = transforms.Compose([\n",
        "                                transforms.ToTensor(),\n",
        "                                transforms.Normalize(mean=0.5, std=0.5)\n",
        "])"
      ]
    },
    {
      "cell_type": "code",
      "execution_count": null,
      "metadata": {
        "colab": {
          "base_uri": "https://localhost:8080/"
        },
        "id": "vpXJfD8WzcVY",
        "outputId": "0ef24c76-73e7-497d-9432-d9c2805911bd"
      },
      "outputs": [
        {
          "name": "stdout",
          "output_type": "stream",
          "text": [
            "Downloading http://yann.lecun.com/exdb/mnist/train-images-idx3-ubyte.gz\n",
            "Failed to download (trying next):\n",
            "HTTP Error 403: Forbidden\n",
            "\n",
            "Downloading https://ossci-datasets.s3.amazonaws.com/mnist/train-images-idx3-ubyte.gz\n",
            "Downloading https://ossci-datasets.s3.amazonaws.com/mnist/train-images-idx3-ubyte.gz to ./MNIST/raw/train-images-idx3-ubyte.gz\n"
          ]
        },
        {
          "name": "stderr",
          "output_type": "stream",
          "text": [
            "100%|██████████| 9912422/9912422 [00:00<00:00, 130691501.80it/s]\n"
          ]
        },
        {
          "name": "stdout",
          "output_type": "stream",
          "text": [
            "Extracting ./MNIST/raw/train-images-idx3-ubyte.gz to ./MNIST/raw\n",
            "\n",
            "Downloading http://yann.lecun.com/exdb/mnist/train-labels-idx1-ubyte.gz\n",
            "Failed to download (trying next):\n",
            "HTTP Error 403: Forbidden\n",
            "\n",
            "Downloading https://ossci-datasets.s3.amazonaws.com/mnist/train-labels-idx1-ubyte.gz\n",
            "Downloading https://ossci-datasets.s3.amazonaws.com/mnist/train-labels-idx1-ubyte.gz to ./MNIST/raw/train-labels-idx1-ubyte.gz\n"
          ]
        },
        {
          "name": "stderr",
          "output_type": "stream",
          "text": [
            "100%|██████████| 28881/28881 [00:00<00:00, 39886629.51it/s]"
          ]
        },
        {
          "name": "stdout",
          "output_type": "stream",
          "text": [
            "Extracting ./MNIST/raw/train-labels-idx1-ubyte.gz to ./MNIST/raw\n",
            "\n",
            "Downloading http://yann.lecun.com/exdb/mnist/t10k-images-idx3-ubyte.gz\n"
          ]
        },
        {
          "name": "stderr",
          "output_type": "stream",
          "text": [
            "\n"
          ]
        },
        {
          "name": "stdout",
          "output_type": "stream",
          "text": [
            "Failed to download (trying next):\n",
            "HTTP Error 403: Forbidden\n",
            "\n",
            "Downloading https://ossci-datasets.s3.amazonaws.com/mnist/t10k-images-idx3-ubyte.gz\n",
            "Downloading https://ossci-datasets.s3.amazonaws.com/mnist/t10k-images-idx3-ubyte.gz to ./MNIST/raw/t10k-images-idx3-ubyte.gz\n"
          ]
        },
        {
          "name": "stderr",
          "output_type": "stream",
          "text": [
            "100%|██████████| 1648877/1648877 [00:00<00:00, 50618775.18it/s]"
          ]
        },
        {
          "name": "stdout",
          "output_type": "stream",
          "text": [
            "Extracting ./MNIST/raw/t10k-images-idx3-ubyte.gz to ./MNIST/raw\n",
            "\n",
            "Downloading http://yann.lecun.com/exdb/mnist/t10k-labels-idx1-ubyte.gz\n"
          ]
        },
        {
          "name": "stderr",
          "output_type": "stream",
          "text": [
            "\n"
          ]
        },
        {
          "name": "stdout",
          "output_type": "stream",
          "text": [
            "Failed to download (trying next):\n",
            "HTTP Error 403: Forbidden\n",
            "\n",
            "Downloading https://ossci-datasets.s3.amazonaws.com/mnist/t10k-labels-idx1-ubyte.gz\n",
            "Downloading https://ossci-datasets.s3.amazonaws.com/mnist/t10k-labels-idx1-ubyte.gz to ./MNIST/raw/t10k-labels-idx1-ubyte.gz\n"
          ]
        },
        {
          "name": "stderr",
          "output_type": "stream",
          "text": [
            "100%|██████████| 4542/4542 [00:00<00:00, 8127358.69it/s]"
          ]
        },
        {
          "name": "stdout",
          "output_type": "stream",
          "text": [
            "Extracting ./MNIST/raw/t10k-labels-idx1-ubyte.gz to ./MNIST/raw\n",
            "\n"
          ]
        },
        {
          "name": "stderr",
          "output_type": "stream",
          "text": [
            "\n"
          ]
        }
      ],
      "source": [
        "train_dataset, test_dataset = mnist(train_size, transform)"
      ]
    },
    {
      "cell_type": "code",
      "execution_count": null,
      "metadata": {
        "id": "PbrJAlsyzgMy"
      },
      "outputs": [],
      "source": [
        "train_dataloader = torch.utils.data.DataLoader(train_dataset, drop_last=True, batch_size=batch_size, shuffle=True)\n",
        "dataloaders = (train_dataloader, )"
      ]
    },
    {
      "cell_type": "markdown",
      "metadata": {
        "id": "-H2OSK7dzrSE"
      },
      "source": [
        "## Entrenamiento de la red\n",
        "\n",
        "En cada paso del entrenamiento, tenemos **dos** fases:\n",
        "\n",
        "* **Entrenamiento del generador**. Generamos algunos vectores aleatorios (**ruido**) (el entrenamiento se realiza en minibatches, por lo que usamos 100 vectores a la vez), generamos **etiquetas verdaderas** (un vector con forma (bs, 1) con valores de 1.0), y calculamos la pérdida del generador entre la salida del **discriminador congelado** (con el ruido como entrada) y las etiquetas verdaderas.\n",
        "\n",
        "* **Entrenamiento del discriminador**. Calculamos la pérdida del discriminador a partir de **dos** partes. La **primera** parte es la pérdida entre la salida del discriminador con el ruido como entrada y las **etiquetas falsas** (un vector con forma (bs, 1) con valores de 0.0). La **segunda** parte es la pérdida entre la salida del discriminador con imágenes reales como entrada y las etiquetas verdaderas (un vector con forma (bs, 1) con valores de 1.0). La **pérdida resultante** es (pérdida_primera_parte + pérdida_segunda_parte) / 2.\n"
      ]
    },
    {
      "cell_type": "code",
      "execution_count": null,
      "metadata": {
        "id": "UQs0gnVvzzWx"
      },
      "outputs": [],
      "source": [
        "def plotn(n, generator, device):\n",
        "    generator.eval()\n",
        "    noise = torch.FloatTensor(np.random.normal(0, 1, (n, 100))).to(device)\n",
        "    imgs = generator(noise).detach().cpu()\n",
        "    fig, ax = plt.subplots(1, n)\n",
        "    for i, im in enumerate(imgs):\n",
        "        ax[i].imshow(im[0])\n",
        "    plt.show()"
      ]
    },
    {
      "cell_type": "code",
      "execution_count": null,
      "metadata": {
        "id": "tlgpI9Dz-wB3"
      },
      "outputs": [],
      "source": [
        "def train_gan(dataloaders, models, optimizers, loss_fn, epochs, plot_every, device):\n",
        "    tqdm_iter = tqdm(range(epochs))\n",
        "    train_dataloader = dataloaders[0]\n",
        "\n",
        "    gen, disc = models[0], models[1]\n",
        "    optim_gen, optim_disc = optimizers[0], optimizers[1]\n",
        "\n",
        "    for epoch in tqdm_iter:\n",
        "        gen.train()\n",
        "        disc.train()\n",
        "\n",
        "        train_gen_loss = 0.0\n",
        "        train_disc_loss = 0.0\n",
        "\n",
        "        test_gen_loss = 0.0\n",
        "        test_disc_loss = 0.0\n",
        "\n",
        "        for batch in train_dataloader:\n",
        "            imgs, _ = batch\n",
        "            imgs = imgs.to(device)\n",
        "\n",
        "            disc.eval()\n",
        "            gen.zero_grad()\n",
        "\n",
        "            noise = torch.FloatTensor(np.random.normal(0.0, 1.0, (imgs.shape[0], 100))).to(device)\n",
        "            real_labels = torch.ones((imgs.shape[0], 1)).to(device)\n",
        "            fake_labels = torch.zeros((imgs.shape[0], 1)).to(device)\n",
        "\n",
        "            generated = gen(noise)\n",
        "            disc_preds = disc(generated)\n",
        "\n",
        "            g_loss = loss_fn(disc_preds, real_labels)\n",
        "            g_loss.backward()\n",
        "            optim_gen.step()\n",
        "\n",
        "            disc.train()\n",
        "            disc.zero_grad()\n",
        "\n",
        "            disc_real = disc(imgs)\n",
        "            disc_real_loss = loss_fn(disc_real, real_labels)\n",
        "\n",
        "            disc_fake = disc(generated.detach())\n",
        "            disc_fake_loss = loss_fn(disc_fake, fake_labels)\n",
        "\n",
        "            d_loss = (disc_real_loss + disc_fake_loss) / 2.0\n",
        "            d_loss.backward()\n",
        "            optim_disc.step()\n",
        "\n",
        "            train_gen_loss += g_loss.item()\n",
        "            train_disc_loss += d_loss.item()\n",
        "\n",
        "        train_gen_loss /= len(train_dataloader)\n",
        "        train_disc_loss /= len(train_dataloader)\n",
        "\n",
        "        if epoch % plot_every == 0 or epoch == epochs - 1:\n",
        "            plotn(5, gen, device)\n",
        "\n",
        "        tqdm_dct = {'generator loss:': train_gen_loss, 'discriminator loss:': train_disc_loss}\n",
        "        tqdm_iter.set_postfix(tqdm_dct, refresh=True)\n",
        "        tqdm_iter.refresh()"
      ]
    },
    {
      "cell_type": "code",
      "execution_count": null,
      "metadata": {
        "id": "k4zqIYjk0TNU"
      },
      "outputs": [],
      "source": [
        "generator = Generator().to(device)\n",
        "discriminator = Discriminator().to(device)\n",
        "optimizer_generator = optim.Adam(generator.parameters(), lr=lr, weight_decay=weight_decay, betas=(beta1, beta2))\n",
        "optimizer_discriminator = optim.Adam(discriminator.parameters(), lr=lr, weight_decay=weight_decay, betas=(beta1, beta2))\n",
        "loss_fn = nn.BCELoss()\n",
        "\n",
        "models = (generator, discriminator)\n",
        "optimizers = (optimizer_generator, optimizer_discriminator)"
      ]
    },
    {
      "cell_type": "code",
      "execution_count": null,
      "metadata": {
        "colab": {
          "base_uri": "https://localhost:8080/",
          "height": 493
        },
        "id": "_rDkkrll0Vz2",
        "outputId": "e10646ba-4c34-4d14-cf2d-d9e4c2004045"
      },
      "outputs": [
        {
          "name": "stderr",
          "output_type": "stream",
          "text": [
            "\r  0%|          | 0/100 [00:00<?, ?it/s]"
          ]
        },
        {
          "data": {
            "image/png": "[encoded data removed]",
            "text/plain": [
              "<Figure size 640x480 with 5 Axes>"
            ]
          },
          "metadata": {},
          "output_type": "display_data"
        },
        {
          "name": "stderr",
          "output_type": "stream",
          "text": [
            "  6%|▌         | 6/100 [04:16<1:06:56, 42.73s/it, generator loss:=0.953, discriminator loss:=0.573]\n"
          ]
        },
        {
          "ename": "KeyboardInterrupt",
          "evalue": "",
          "output_type": "error",
          "traceback": [
            "\u001b[0;31m---------------------------------------------------------------------------\u001b[0m",
            "\u001b[0;31mKeyboardInterrupt\u001b[0m                         Traceback (most recent call last)",
            "\u001b[0;32m<ipython-input-14-2d1af7e3d9bb>\u001b[0m in \u001b[0;36m<cell line: 1>\u001b[0;34m()\u001b[0m\n\u001b[0;32m----> 1\u001b[0;31m \u001b[0mtrain_gan\u001b[0m\u001b[0;34m(\u001b[0m\u001b[0mdataloaders\u001b[0m\u001b[0;34m,\u001b[0m \u001b[0mmodels\u001b[0m\u001b[0;34m,\u001b[0m \u001b[0moptimizers\u001b[0m\u001b[0;34m,\u001b[0m \u001b[0mloss_fn\u001b[0m\u001b[0;34m,\u001b[0m \u001b[0mepochs\u001b[0m\u001b[0;34m,\u001b[0m \u001b[0mplot_every\u001b[0m\u001b[0;34m,\u001b[0m \u001b[0mdevice\u001b[0m\u001b[0;34m)\u001b[0m\u001b[0;34m\u001b[0m\u001b[0;34m\u001b[0m\u001b[0m\n\u001b[0m",
            "\u001b[0;32m<ipython-input-11-c3d299a6b950>\u001b[0m in \u001b[0;36mtrain_gan\u001b[0;34m(dataloaders, models, optimizers, loss_fn, epochs, plot_every, device)\u001b[0m\n\u001b[1;32m     44\u001b[0m \u001b[0;34m\u001b[0m\u001b[0m\n\u001b[1;32m     45\u001b[0m             \u001b[0md_loss\u001b[0m \u001b[0;34m=\u001b[0m \u001b[0;34m(\u001b[0m\u001b[0mdisc_real_loss\u001b[0m \u001b[0;34m+\u001b[0m \u001b[0mdisc_fake_loss\u001b[0m\u001b[0;34m)\u001b[0m \u001b[0;34m/\u001b[0m \u001b[0;36m2.0\u001b[0m\u001b[0;34m\u001b[0m\u001b[0;34m\u001b[0m\u001b[0m\n\u001b[0;32m---> 46\u001b[0;31m             \u001b[0md_loss\u001b[0m\u001b[0;34m.\u001b[0m\u001b[0mbackward\u001b[0m\u001b[0;34m(\u001b[0m\u001b[0;34m)\u001b[0m\u001b[0;34m\u001b[0m\u001b[0;34m\u001b[0m\u001b[0m\n\u001b[0m\u001b[1;32m     47\u001b[0m             \u001b[0moptim_disc\u001b[0m\u001b[0;34m.\u001b[0m\u001b[0mstep\u001b[0m\u001b[0;34m(\u001b[0m\u001b[0;34m)\u001b[0m\u001b[0;34m\u001b[0m\u001b[0;34m\u001b[0m\u001b[0m\n\u001b[1;32m     48\u001b[0m \u001b[0;34m\u001b[0m\u001b[0m\n",
            "\u001b[0;32m/usr/local/lib/python3.10/dist-packages/torch/_tensor.py\u001b[0m in \u001b[0;36mbackward\u001b[0;34m(self, gradient, retain_graph, create_graph, inputs)\u001b[0m\n\u001b[1;32m    519\u001b[0m                 \u001b[0minputs\u001b[0m\u001b[0;34m=\u001b[0m\u001b[0minputs\u001b[0m\u001b[0;34m,\u001b[0m\u001b[0;34m\u001b[0m\u001b[0;34m\u001b[0m\u001b[0m\n\u001b[1;32m    520\u001b[0m             )\n\u001b[0;32m--> 521\u001b[0;31m         torch.autograd.backward(\n\u001b[0m\u001b[1;32m    522\u001b[0m             \u001b[0mself\u001b[0m\u001b[0;34m,\u001b[0m \u001b[0mgradient\u001b[0m\u001b[0;34m,\u001b[0m \u001b[0mretain_graph\u001b[0m\u001b[0;34m,\u001b[0m \u001b[0mcreate_graph\u001b[0m\u001b[0;34m,\u001b[0m \u001b[0minputs\u001b[0m\u001b[0;34m=\u001b[0m\u001b[0minputs\u001b[0m\u001b[0;34m\u001b[0m\u001b[0;34m\u001b[0m\u001b[0m\n\u001b[1;32m    523\u001b[0m         )\n",
            "\u001b[0;32m/usr/local/lib/python3.10/dist-packages/torch/autograd/__init__.py\u001b[0m in \u001b[0;36mbackward\u001b[0;34m(tensors, grad_tensors, retain_graph, create_graph, grad_variables, inputs)\u001b[0m\n\u001b[1;32m    287\u001b[0m     \u001b[0;31m# some Python versions print out the first line of a multi-line function\u001b[0m\u001b[0;34m\u001b[0m\u001b[0;34m\u001b[0m\u001b[0m\n\u001b[1;32m    288\u001b[0m     \u001b[0;31m# calls in the traceback and some print out the last line\u001b[0m\u001b[0;34m\u001b[0m\u001b[0;34m\u001b[0m\u001b[0m\n\u001b[0;32m--> 289\u001b[0;31m     _engine_run_backward(\n\u001b[0m\u001b[1;32m    290\u001b[0m         \u001b[0mtensors\u001b[0m\u001b[0;34m,\u001b[0m\u001b[0;34m\u001b[0m\u001b[0;34m\u001b[0m\u001b[0m\n\u001b[1;32m    291\u001b[0m         \u001b[0mgrad_tensors_\u001b[0m\u001b[0;34m,\u001b[0m\u001b[0;34m\u001b[0m\u001b[0;34m\u001b[0m\u001b[0m\n",
            "\u001b[0;32m/usr/local/lib/python3.10/dist-packages/torch/autograd/graph.py\u001b[0m in \u001b[0;36m_engine_run_backward\u001b[0;34m(t_outputs, *args, **kwargs)\u001b[0m\n\u001b[1;32m    766\u001b[0m         \u001b[0munregister_hooks\u001b[0m \u001b[0;34m=\u001b[0m \u001b[0m_register_logging_hooks_on_whole_graph\u001b[0m\u001b[0;34m(\u001b[0m\u001b[0mt_outputs\u001b[0m\u001b[0;34m)\u001b[0m\u001b[0;34m\u001b[0m\u001b[0;34m\u001b[0m\u001b[0m\n\u001b[1;32m    767\u001b[0m     \u001b[0;32mtry\u001b[0m\u001b[0;34m:\u001b[0m\u001b[0;34m\u001b[0m\u001b[0;34m\u001b[0m\u001b[0m\n\u001b[0;32m--> 768\u001b[0;31m         return Variable._execution_engine.run_backward(  # Calls into the C++ engine to run the backward pass\n\u001b[0m\u001b[1;32m    769\u001b[0m             \u001b[0mt_outputs\u001b[0m\u001b[0;34m,\u001b[0m \u001b[0;34m*\u001b[0m\u001b[0margs\u001b[0m\u001b[0;34m,\u001b[0m \u001b[0;34m**\u001b[0m\u001b[0mkwargs\u001b[0m\u001b[0;34m\u001b[0m\u001b[0;34m\u001b[0m\u001b[0m\n\u001b[1;32m    770\u001b[0m         )  # Calls into the C++ engine to run the backward pass\n",
            "\u001b[0;31mKeyboardInterrupt\u001b[0m: "
          ]
        }
      ],
      "source": [
        "train_gan(dataloaders, models, optimizers, loss_fn, epochs, plot_every, device)"
      ]
    },
    {
      "cell_type": "markdown",
      "metadata": {
        "id": "2RSqvRki0moS"
      },
      "source": [
        "## DCGAN\n",
        "\n",
        "La **GAN convolucional profunda** (DCGAN, por sus siglas en inglés) es una idea bastante obvia que implica el uso de capas convolucionales tanto para el generador como para el discriminador. La principal diferencia aquí es el uso de la capa **Conv2DTranspose** o **Upsampling** en el generador.\n",
        "\n",
        "\n",
        "![Imagen de la arquitectura de DCGAN](https://drive.google.com/uc?id=1JejhsoWOTsRVjrl8fy4xJKFNlbNuH3Og)"
      ]
    },
    {
      "cell_type": "code",
      "execution_count": null,
      "metadata": {
        "id": "opp7TLt41X4f"
      },
      "outputs": [],
      "source": [
        "class DCGenerator(nn.Module):\n",
        "    def __init__(self):\n",
        "        super().__init__()\n",
        "        self.conv1 = nn.ConvTranspose2d(100, 256, kernel_size=(3, 3), stride=(2, 2), bias=False)\n",
        "        self.bn1 = nn.BatchNorm2d(256)\n",
        "        self.conv2 = nn.ConvTranspose2d(256, 128, kernel_size=(3, 3), stride=(2, 2), bias=False)\n",
        "        self.bn2 = nn.BatchNorm2d(128)\n",
        "        self.conv3 = nn.ConvTranspose2d(128, 64, kernel_size=(3, 3), stride=(2, 2), bias=False)\n",
        "        self.bn3 = nn.BatchNorm2d(64)\n",
        "        self.conv4 = nn.ConvTranspose2d(64, 1, kernel_size=(3, 3), stride=(2, 2), padding=(2, 2), output_padding=(1, 1), bias=False)\n",
        "        self.tanh = nn.Tanh()\n",
        "        self.relu = nn.ReLU()\n",
        "\n",
        "    def forward(self, input):\n",
        "        hidden1 = self.relu(self.bn1(self.conv1(input)))\n",
        "        hidden2 = self.relu(self.bn2(self.conv2(hidden1)))\n",
        "        hidden3 = self.relu(self.bn3(self.conv3(hidden2)))\n",
        "        generated = self.tanh(self.conv4(hidden3)).view(input.shape[0], 1, 28, 28)\n",
        "        return generated"
      ]
    },
    {
      "cell_type": "code",
      "execution_count": null,
      "metadata": {
        "id": "-oocqGRB1fi8"
      },
      "outputs": [],
      "source": [
        "class DCDiscriminator(nn.Module):\n",
        "    def __init__(self):\n",
        "        super().__init__()\n",
        "        self.conv1 = nn.Conv2d(1, 64, kernel_size=(4, 4), stride=(2, 2), padding=(1, 1), bias=False)\n",
        "        self.conv2 = nn.Conv2d(64, 128, kernel_size=(4, 4), stride=(2, 2), padding=(1, 1), bias=False)\n",
        "        self.bn2 = nn.BatchNorm2d(128)\n",
        "        self.conv3 = nn.Conv2d(128, 256, kernel_size=(4, 4), stride=(2, 2), padding=(1, 1), bias=False)\n",
        "        self.bn3 = nn.BatchNorm2d(256)\n",
        "        self.conv4 = nn.Conv2d(256, 1, kernel_size=(4, 4), stride=(2, 2), padding=(1, 1), bias=False)\n",
        "        self.leaky_relu = nn.LeakyReLU(0.2)\n",
        "        self.sigmoid = nn.Sigmoid()\n",
        "\n",
        "    def forward(self, input):\n",
        "        hidden1 = self.leaky_relu(self.conv1(input))\n",
        "        hidden2 = self.leaky_relu(self.bn2(self.conv2(hidden1)))\n",
        "        hidden3 = self.leaky_relu(self.bn3(self.conv3(hidden2)))\n",
        "        classified = self.sigmoid(self.conv4(hidden3)).view(input.shape[0], -1)\n",
        "        return classified"
      ]
    },
    {
      "cell_type": "markdown",
      "metadata": {
        "id": "bZrhVBeq1ntG"
      },
      "source": [
        "Inicialización de los pesos según el paper de [DCGAN](https://arxiv.org/pdf/1511.06434.pdf)\n"
      ]
    },
    {
      "cell_type": "code",
      "execution_count": null,
      "metadata": {
        "id": "1kTB3UBR1rPa"
      },
      "outputs": [],
      "source": [
        "def weights_init(model):\n",
        "    classname = model.__class__.__name__\n",
        "    if classname.find('Conv') != -1:\n",
        "        nn.init.normal_(model.weight.data, 0.0, 0.02)\n",
        "    elif classname.find('BatchNorm') != -1:\n",
        "        nn.init.normal_(model.weight.data, 1.0, 0.02)\n",
        "        nn.init.constant_(model.bias.data, 0)"
      ]
    },
    {
      "cell_type": "code",
      "execution_count": null,
      "metadata": {
        "id": "Iji_Q8fd13gu"
      },
      "outputs": [],
      "source": [
        "transform = transforms.Compose([\n",
        "                                transforms.ToTensor(),\n",
        "])"
      ]
    },
    {
      "cell_type": "code",
      "execution_count": null,
      "metadata": {
        "id": "ZTHbipcu16EN"
      },
      "outputs": [],
      "source": [
        "train_dataset, test_dataset = mnist(train_size, transform)\n",
        "train_dataloader = torch.utils.data.DataLoader(train_dataset, drop_last=True, batch_size=batch_size, shuffle=True)\n",
        "dataloaders = (train_dataloader, )"
      ]
    },
    {
      "cell_type": "code",
      "execution_count": null,
      "metadata": {
        "id": "Lc1hs32w1_C4"
      },
      "outputs": [],
      "source": [
        "generator = DCGenerator().to(device)\n",
        "generator.apply(weights_init)\n",
        "discriminator = DCDiscriminator().to(device)\n",
        "discriminator.apply(weights_init)\n",
        "optimizer_generator = optim.Adam(generator.parameters(), lr=lr, weight_decay=weight_decay, betas=(beta1, beta2))\n",
        "optimizer_discriminator = optim.Adam(discriminator.parameters(), lr=lr, weight_decay=weight_decay, betas=(beta1, beta2))\n",
        "loss_fn = nn.BCELoss()\n",
        "\n",
        "models = (generator, discriminator)\n",
        "optimizers = (optimizer_generator, optimizer_discriminator)"
      ]
    },
    {
      "cell_type": "code",
      "execution_count": null,
      "metadata": {
        "id": "yMLcFr0H2GIw"
      },
      "outputs": [],
      "source": [
        "def dcplotn(n, generator, device):\n",
        "    generator.eval()\n",
        "    noise = torch.FloatTensor(np.random.normal(0, 1, (n, 100, 1, 1))).to(device)\n",
        "    imgs = generator(noise).detach().cpu()\n",
        "    fig, ax = plt.subplots(1, n)\n",
        "    for i, im in enumerate(imgs):\n",
        "        ax[i].imshow(im[0])\n",
        "    plt.show()"
      ]
    },
    {
      "cell_type": "code",
      "execution_count": null,
      "metadata": {
        "id": "4t40GkkawF3Z"
      },
      "outputs": [],
      "source": [
        "def train_dcgan(dataloaders, models, optimizers, loss_fn, epochs, plot_every, device):\n",
        "    tqdm_iter = tqdm(range(epochs))\n",
        "    train_dataloader = dataloaders[0]\n",
        "\n",
        "    gen, disc = models[0], models[1]\n",
        "    optim_gen, optim_disc = optimizers[0], optimizers[1]\n",
        "\n",
        "    gen.train()\n",
        "    disc.train()\n",
        "\n",
        "    for epoch in tqdm_iter:\n",
        "        train_gen_loss = 0.0\n",
        "        train_disc_loss = 0.0\n",
        "\n",
        "        test_gen_loss = 0.0\n",
        "        test_disc_loss = 0.0\n",
        "\n",
        "        for batch in train_dataloader:\n",
        "            imgs, _ = batch\n",
        "            imgs = imgs.to(device)\n",
        "            imgs = 2.0 * imgs - 1.0\n",
        "\n",
        "            gen.zero_grad()\n",
        "\n",
        "            noise = torch.FloatTensor(np.random.normal(0.0, 1.0, (imgs.shape[0], 100, 1, 1))).to(device)\n",
        "            real_labels = torch.ones((imgs.shape[0], 1)).to(device)\n",
        "            fake_labels = torch.zeros((imgs.shape[0], 1)).to(device)\n",
        "\n",
        "            generated = gen(noise)\n",
        "            disc_preds = disc(generated)\n",
        "\n",
        "            g_loss = loss_fn(disc_preds, real_labels)\n",
        "            g_loss.backward()\n",
        "            optim_gen.step()\n",
        "\n",
        "            disc.zero_grad()\n",
        "\n",
        "            disc_real = disc(imgs)\n",
        "            disc_real_loss = loss_fn(disc_real, real_labels)\n",
        "\n",
        "            disc_fake = disc(generated.detach())\n",
        "            disc_fake_loss = loss_fn(disc_fake, fake_labels)\n",
        "\n",
        "            d_loss = (disc_real_loss + disc_fake_loss) / 2.0\n",
        "            d_loss.backward()\n",
        "            optim_disc.step()\n",
        "\n",
        "            train_gen_loss += g_loss.item()\n",
        "            train_disc_loss += d_loss.item()\n",
        "\n",
        "        train_gen_loss /= len(train_dataloader)\n",
        "        train_disc_loss /= len(train_dataloader)\n",
        "\n",
        "        if epoch % plot_every == 0 or epoch == epochs - 1:\n",
        "            dcplotn(5, gen, device)\n",
        "\n",
        "        tqdm_dct = {'generator loss:': train_gen_loss, 'discriminator loss:': train_disc_loss}\n",
        "        tqdm_iter.set_postfix(tqdm_dct, refresh=True)\n",
        "        tqdm_iter.refresh()"
      ]
    },
    {
      "cell_type": "code",
      "execution_count": null,
      "metadata": {
        "colab": {
          "background_save": true,
          "base_uri": "https://localhost:8080/"
        },
        "id": "WULkr4762NBx",
        "outputId": "6872a42c-6f46-48c1-9e9e-15940a71b353"
      },
      "outputs": [
        {
          "name": "stderr",
          "output_type": "stream",
          "text": [
            "\r  0%|          | 0/50 [00:00<?, ?it/s]"
          ]
        },
        {
          "data": {
            "image/png": "[encoded data removed]",
            "text/plain": [
              "<Figure size 640x480 with 5 Axes>"
            ]
          },
          "metadata": {},
          "output_type": "display_data"
        },
        {
          "name": "stderr",
          "output_type": "stream",
          "text": [
            " 10%|█         | 5/50 [38:24<5:42:50, 457.12s/it, generator loss:=2.44, discriminator loss:=0.234]"
          ]
        },
        {
          "data": {
            "image/png": "[encoded data removed]",
            "text/plain": [
              "<Figure size 640x480 with 5 Axes>"
            ]
          },
          "metadata": {},
          "output_type": "display_data"
        },
        {
          "name": "stderr",
          "output_type": "stream",
          "text": [
            " 14%|█▍        | 7/50 [53:31<5:26:15, 455.24s/it, generator loss:=2.33, discriminator loss:=0.249]"
          ]
        }
      ],
      "source": [
        "train_dcgan(dataloaders, models, optimizers, loss_fn, epochs // 2, plot_every // 2, device)"
      ]
    },
    {
      "cell_type": "code",
      "execution_count": null,
      "metadata": {
        "id": "3jIAbgx-2QvX"
      },
      "outputs": [],
      "source": [
        "generator.eval()\n",
        "dcplotn(5, generator, device)"
      ]
    },
    {
      "cell_type": "markdown",
      "metadata": {
        "id": "gjOUGJ4o2cfw"
      },
      "source": [
        "> **Tareas**:\n",
        "- Intenta generar imágenes a color más complejas con DCGAN. Por ejemplo, utiliza una clase del conjunto de datos [CIFAR-10](https://pytorch.org/vision/stable/generated/torchvision.datasets.CIFAR10.html).\n",
        "\n",
        "- Cambiar la convolución transpuesta por Upsampling.\n",
        "\n",
        "- Modificar la función de costo según lo visto en clase y comparar el resultado del entrenamiento.\n"
      ]
    },
    {
      "cell_type": "markdown",
      "metadata": {
        "id": "V5_BmEyc2f2T"
      },
      "source": [
        "## Training on Paintings\n",
        "\n",
        "One of the good candidates for GAN training are paintings created by human artists.\n",
        "\n",
        "![Imagen de la arquitectura de DCGAN](https://drive.google.com/uc?id=1lYH-kALyjT_PRhOfkS8FKgc-S4vzTMkQ)"
      ]
    }
  ],
  "metadata": {
    "colab": {
      "provenance": [],
      "authorship_tag": "ABX9TyMxAtu9hWSo59DKCrSzqF2J",
      "include_colab_link": true
    },
    "kernelspec": {
      "display_name": "Python 3",
      "name": "python3"
    },
    "language_info": {
      "name": "python"
    }
  },
  "nbformat": 4,
  "nbformat_minor": 0
}