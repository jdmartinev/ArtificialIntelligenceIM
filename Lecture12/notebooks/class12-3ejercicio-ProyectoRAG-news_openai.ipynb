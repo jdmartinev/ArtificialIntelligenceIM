{
  "cells": [
    {
      "cell_type": "markdown",
      "metadata": {},
      "source": [
        "# 1. Construir un sistema RAG que permita buscar información en una base de datos real de noticias, recuperando los artículos más relevantes y generando respuestas usando GPT-4.\n",
        "\n",
        "* Usa LangChain y FAISS para la recuperación.\n",
        "* Procesa un dataset real de noticias.\n",
        "* Genera respuestas basadas en noticias relevantes.\n",
        "* Evalúa la precisión con métricas como Recall@K y ROUGE."
      ]
    },
    {
      "cell_type": "code",
      "execution_count": 1,
      "metadata": {},
      "outputs": [
        {
          "name": "stdout",
          "output_type": "stream",
          "text": [
            "Requirement already satisfied: chromadb in c:\\users\\jdmartinev\\onedrive - universidad eafit\\cursos\\inteligencia artificial - im\\lecture13\\notebooks\\ragenv\\lib\\site-packages (0.6.3)\n",
            "Requirement already satisfied: langchain in c:\\users\\jdmartinev\\onedrive - universidad eafit\\cursos\\inteligencia artificial - im\\lecture13\\notebooks\\ragenv\\lib\\site-packages (0.3.24)\n",
            "Requirement already satisfied: langchain_community in c:\\users\\jdmartinev\\onedrive - universidad eafit\\cursos\\inteligencia artificial - im\\lecture13\\notebooks\\ragenv\\lib\\site-packages (0.3.22)\n",
            "Requirement already satisfied: openai in c:\\users\\jdmartinev\\onedrive - universidad eafit\\cursos\\inteligencia artificial - im\\lecture13\\notebooks\\ragenv\\lib\\site-packages (1.76.0)\n",
            "Requirement already satisfied: pandas in c:\\users\\jdmartinev\\onedrive - universidad eafit\\cursos\\inteligencia artificial - im\\lecture13\\notebooks\\ragenv\\lib\\site-packages (2.2.3)\n",
            "Requirement already satisfied: tiktoken in c:\\users\\jdmartinev\\onedrive - universidad eafit\\cursos\\inteligencia artificial - im\\lecture13\\notebooks\\ragenv\\lib\\site-packages (0.9.0)\n",
            "Requirement already satisfied: build>=1.0.3 in c:\\users\\jdmartinev\\onedrive - universidad eafit\\cursos\\inteligencia artificial - im\\lecture13\\notebooks\\ragenv\\lib\\site-packages (from chromadb) (1.2.2.post1)\n",
            "Requirement already satisfied: pydantic>=1.9 in c:\\users\\jdmartinev\\onedrive - universidad eafit\\cursos\\inteligencia artificial - im\\lecture13\\notebooks\\ragenv\\lib\\site-packages (from chromadb) (2.11.3)\n",
            "Requirement already satisfied: chroma-hnswlib==0.7.6 in c:\\users\\jdmartinev\\onedrive - universidad eafit\\cursos\\inteligencia artificial - im\\lecture13\\notebooks\\ragenv\\lib\\site-packages (from chromadb) (0.7.6)\n",
            "Requirement already satisfied: fastapi>=0.95.2 in c:\\users\\jdmartinev\\onedrive - universidad eafit\\cursos\\inteligencia artificial - im\\lecture13\\notebooks\\ragenv\\lib\\site-packages (from chromadb) (0.115.12)\n",
            "Requirement already satisfied: uvicorn[standard]>=0.18.3 in c:\\users\\jdmartinev\\onedrive - universidad eafit\\cursos\\inteligencia artificial - im\\lecture13\\notebooks\\ragenv\\lib\\site-packages (from chromadb) (0.34.2)\n",
            "Requirement already satisfied: numpy>=1.22.5 in c:\\users\\jdmartinev\\onedrive - universidad eafit\\cursos\\inteligencia artificial - im\\lecture13\\notebooks\\ragenv\\lib\\site-packages (from chromadb) (2.2.5)\n",
            "Requirement already satisfied: posthog>=2.4.0 in c:\\users\\jdmartinev\\onedrive - universidad eafit\\cursos\\inteligencia artificial - im\\lecture13\\notebooks\\ragenv\\lib\\site-packages (from chromadb) (4.0.0)\n",
            "Requirement already satisfied: typing_extensions>=4.5.0 in c:\\users\\jdmartinev\\onedrive - universidad eafit\\cursos\\inteligencia artificial - im\\lecture13\\notebooks\\ragenv\\lib\\site-packages (from chromadb) (4.13.2)\n",
            "Requirement already satisfied: onnxruntime>=1.14.1 in c:\\users\\jdmartinev\\onedrive - universidad eafit\\cursos\\inteligencia artificial - im\\lecture13\\notebooks\\ragenv\\lib\\site-packages (from chromadb) (1.21.1)\n",
            "Requirement already satisfied: opentelemetry-api>=1.2.0 in c:\\users\\jdmartinev\\onedrive - universidad eafit\\cursos\\inteligencia artificial - im\\lecture13\\notebooks\\ragenv\\lib\\site-packages (from chromadb) (1.32.1)\n",
            "Requirement already satisfied: opentelemetry-exporter-otlp-proto-grpc>=1.2.0 in c:\\users\\jdmartinev\\onedrive - universidad eafit\\cursos\\inteligencia artificial - im\\lecture13\\notebooks\\ragenv\\lib\\site-packages (from chromadb) (1.32.1)\n",
            "Requirement already satisfied: opentelemetry-instrumentation-fastapi>=0.41b0 in c:\\users\\jdmartinev\\onedrive - universidad eafit\\cursos\\inteligencia artificial - im\\lecture13\\notebooks\\ragenv\\lib\\site-packages (from chromadb) (0.53b1)\n",
            "Requirement already satisfied: opentelemetry-sdk>=1.2.0 in c:\\users\\jdmartinev\\onedrive - universidad eafit\\cursos\\inteligencia artificial - im\\lecture13\\notebooks\\ragenv\\lib\\site-packages (from chromadb) (1.32.1)\n",
            "Requirement already satisfied: tokenizers>=0.13.2 in c:\\users\\jdmartinev\\onedrive - universidad eafit\\cursos\\inteligencia artificial - im\\lecture13\\notebooks\\ragenv\\lib\\site-packages (from chromadb) (0.21.1)\n",
            "Requirement already satisfied: pypika>=0.48.9 in c:\\users\\jdmartinev\\onedrive - universidad eafit\\cursos\\inteligencia artificial - im\\lecture13\\notebooks\\ragenv\\lib\\site-packages (from chromadb) (0.48.9)\n",
            "Requirement already satisfied: tqdm>=4.65.0 in c:\\users\\jdmartinev\\onedrive - universidad eafit\\cursos\\inteligencia artificial - im\\lecture13\\notebooks\\ragenv\\lib\\site-packages (from chromadb) (4.67.1)\n",
            "Requirement already satisfied: overrides>=7.3.1 in c:\\users\\jdmartinev\\onedrive - universidad eafit\\cursos\\inteligencia artificial - im\\lecture13\\notebooks\\ragenv\\lib\\site-packages (from chromadb) (7.7.0)\n",
            "Requirement already satisfied: importlib-resources in c:\\users\\jdmartinev\\onedrive - universidad eafit\\cursos\\inteligencia artificial - im\\lecture13\\notebooks\\ragenv\\lib\\site-packages (from chromadb) (6.5.2)\n",
            "Requirement already satisfied: grpcio>=1.58.0 in c:\\users\\jdmartinev\\onedrive - universidad eafit\\cursos\\inteligencia artificial - im\\lecture13\\notebooks\\ragenv\\lib\\site-packages (from chromadb) (1.71.0)\n",
            "Requirement already satisfied: bcrypt>=4.0.1 in c:\\users\\jdmartinev\\onedrive - universidad eafit\\cursos\\inteligencia artificial - im\\lecture13\\notebooks\\ragenv\\lib\\site-packages (from chromadb) (4.3.0)\n",
            "Requirement already satisfied: typer>=0.9.0 in c:\\users\\jdmartinev\\onedrive - universidad eafit\\cursos\\inteligencia artificial - im\\lecture13\\notebooks\\ragenv\\lib\\site-packages (from chromadb) (0.15.2)\n",
            "Requirement already satisfied: kubernetes>=28.1.0 in c:\\users\\jdmartinev\\onedrive - universidad eafit\\cursos\\inteligencia artificial - im\\lecture13\\notebooks\\ragenv\\lib\\site-packages (from chromadb) (32.0.1)\n",
            "Requirement already satisfied: tenacity>=8.2.3 in c:\\users\\jdmartinev\\onedrive - universidad eafit\\cursos\\inteligencia artificial - im\\lecture13\\notebooks\\ragenv\\lib\\site-packages (from chromadb) (9.1.2)\n",
            "Requirement already satisfied: PyYAML>=6.0.0 in c:\\users\\jdmartinev\\onedrive - universidad eafit\\cursos\\inteligencia artificial - im\\lecture13\\notebooks\\ragenv\\lib\\site-packages (from chromadb) (6.0.2)\n",
            "Requirement already satisfied: mmh3>=4.0.1 in c:\\users\\jdmartinev\\onedrive - universidad eafit\\cursos\\inteligencia artificial - im\\lecture13\\notebooks\\ragenv\\lib\\site-packages (from chromadb) (5.1.0)\n",
            "Requirement already satisfied: orjson>=3.9.12 in c:\\users\\jdmartinev\\onedrive - universidad eafit\\cursos\\inteligencia artificial - im\\lecture13\\notebooks\\ragenv\\lib\\site-packages (from chromadb) (3.10.16)\n",
            "Requirement already satisfied: httpx>=0.27.0 in c:\\users\\jdmartinev\\onedrive - universidad eafit\\cursos\\inteligencia artificial - im\\lecture13\\notebooks\\ragenv\\lib\\site-packages (from chromadb) (0.28.1)\n",
            "Requirement already satisfied: rich>=10.11.0 in c:\\users\\jdmartinev\\onedrive - universidad eafit\\cursos\\inteligencia artificial - im\\lecture13\\notebooks\\ragenv\\lib\\site-packages (from chromadb) (14.0.0)\n",
            "Requirement already satisfied: langchain-core<1.0.0,>=0.3.55 in c:\\users\\jdmartinev\\onedrive - universidad eafit\\cursos\\inteligencia artificial - im\\lecture13\\notebooks\\ragenv\\lib\\site-packages (from langchain) (0.3.56)\n",
            "Requirement already satisfied: langchain-text-splitters<1.0.0,>=0.3.8 in c:\\users\\jdmartinev\\onedrive - universidad eafit\\cursos\\inteligencia artificial - im\\lecture13\\notebooks\\ragenv\\lib\\site-packages (from langchain) (0.3.8)\n",
            "Requirement already satisfied: langsmith<0.4,>=0.1.17 in c:\\users\\jdmartinev\\onedrive - universidad eafit\\cursos\\inteligencia artificial - im\\lecture13\\notebooks\\ragenv\\lib\\site-packages (from langchain) (0.3.37)\n",
            "Requirement already satisfied: SQLAlchemy<3,>=1.4 in c:\\users\\jdmartinev\\onedrive - universidad eafit\\cursos\\inteligencia artificial - im\\lecture13\\notebooks\\ragenv\\lib\\site-packages (from langchain) (2.0.40)\n",
            "Requirement already satisfied: requests<3,>=2 in c:\\users\\jdmartinev\\onedrive - universidad eafit\\cursos\\inteligencia artificial - im\\lecture13\\notebooks\\ragenv\\lib\\site-packages (from langchain) (2.32.3)\n",
            "Requirement already satisfied: aiohttp<4.0.0,>=3.8.3 in c:\\users\\jdmartinev\\onedrive - universidad eafit\\cursos\\inteligencia artificial - im\\lecture13\\notebooks\\ragenv\\lib\\site-packages (from langchain_community) (3.11.18)\n",
            "Requirement already satisfied: dataclasses-json<0.7,>=0.5.7 in c:\\users\\jdmartinev\\onedrive - universidad eafit\\cursos\\inteligencia artificial - im\\lecture13\\notebooks\\ragenv\\lib\\site-packages (from langchain_community) (0.6.7)\n",
            "Requirement already satisfied: pydantic-settings<3.0.0,>=2.4.0 in c:\\users\\jdmartinev\\onedrive - universidad eafit\\cursos\\inteligencia artificial - im\\lecture13\\notebooks\\ragenv\\lib\\site-packages (from langchain_community) (2.9.1)\n",
            "Requirement already satisfied: httpx-sse<1.0.0,>=0.4.0 in c:\\users\\jdmartinev\\onedrive - universidad eafit\\cursos\\inteligencia artificial - im\\lecture13\\notebooks\\ragenv\\lib\\site-packages (from langchain_community) (0.4.0)\n",
            "Requirement already satisfied: anyio<5,>=3.5.0 in c:\\users\\jdmartinev\\onedrive - universidad eafit\\cursos\\inteligencia artificial - im\\lecture13\\notebooks\\ragenv\\lib\\site-packages (from openai) (4.9.0)\n",
            "Requirement already satisfied: distro<2,>=1.7.0 in c:\\users\\jdmartinev\\onedrive - universidad eafit\\cursos\\inteligencia artificial - im\\lecture13\\notebooks\\ragenv\\lib\\site-packages (from openai) (1.9.0)\n",
            "Requirement already satisfied: jiter<1,>=0.4.0 in c:\\users\\jdmartinev\\onedrive - universidad eafit\\cursos\\inteligencia artificial - im\\lecture13\\notebooks\\ragenv\\lib\\site-packages (from openai) (0.9.0)\n",
            "Requirement already satisfied: sniffio in c:\\users\\jdmartinev\\onedrive - universidad eafit\\cursos\\inteligencia artificial - im\\lecture13\\notebooks\\ragenv\\lib\\site-packages (from openai) (1.3.1)\n",
            "Requirement already satisfied: python-dateutil>=2.8.2 in c:\\users\\jdmartinev\\onedrive - universidad eafit\\cursos\\inteligencia artificial - im\\lecture13\\notebooks\\ragenv\\lib\\site-packages (from pandas) (2.9.0.post0)\n",
            "Requirement already satisfied: pytz>=2020.1 in c:\\users\\jdmartinev\\onedrive - universidad eafit\\cursos\\inteligencia artificial - im\\lecture13\\notebooks\\ragenv\\lib\\site-packages (from pandas) (2025.2)\n",
            "Requirement already satisfied: tzdata>=2022.7 in c:\\users\\jdmartinev\\onedrive - universidad eafit\\cursos\\inteligencia artificial - im\\lecture13\\notebooks\\ragenv\\lib\\site-packages (from pandas) (2025.2)\n",
            "Requirement already satisfied: regex>=2022.1.18 in c:\\users\\jdmartinev\\onedrive - universidad eafit\\cursos\\inteligencia artificial - im\\lecture13\\notebooks\\ragenv\\lib\\site-packages (from tiktoken) (2024.11.6)\n",
            "Requirement already satisfied: aiohappyeyeballs>=2.3.0 in c:\\users\\jdmartinev\\onedrive - universidad eafit\\cursos\\inteligencia artificial - im\\lecture13\\notebooks\\ragenv\\lib\\site-packages (from aiohttp<4.0.0,>=3.8.3->langchain_community) (2.6.1)\n",
            "Requirement already satisfied: aiosignal>=1.1.2 in c:\\users\\jdmartinev\\onedrive - universidad eafit\\cursos\\inteligencia artificial - im\\lecture13\\notebooks\\ragenv\\lib\\site-packages (from aiohttp<4.0.0,>=3.8.3->langchain_community) (1.3.2)\n",
            "Requirement already satisfied: attrs>=17.3.0 in c:\\users\\jdmartinev\\onedrive - universidad eafit\\cursos\\inteligencia artificial - im\\lecture13\\notebooks\\ragenv\\lib\\site-packages (from aiohttp<4.0.0,>=3.8.3->langchain_community) (25.3.0)\n",
            "Requirement already satisfied: frozenlist>=1.1.1 in c:\\users\\jdmartinev\\onedrive - universidad eafit\\cursos\\inteligencia artificial - im\\lecture13\\notebooks\\ragenv\\lib\\site-packages (from aiohttp<4.0.0,>=3.8.3->langchain_community) (1.6.0)\n",
            "Requirement already satisfied: multidict<7.0,>=4.5 in c:\\users\\jdmartinev\\onedrive - universidad eafit\\cursos\\inteligencia artificial - im\\lecture13\\notebooks\\ragenv\\lib\\site-packages (from aiohttp<4.0.0,>=3.8.3->langchain_community) (6.4.3)\n",
            "Requirement already satisfied: propcache>=0.2.0 in c:\\users\\jdmartinev\\onedrive - universidad eafit\\cursos\\inteligencia artificial - im\\lecture13\\notebooks\\ragenv\\lib\\site-packages (from aiohttp<4.0.0,>=3.8.3->langchain_community) (0.3.1)\n",
            "Requirement already satisfied: yarl<2.0,>=1.17.0 in c:\\users\\jdmartinev\\onedrive - universidad eafit\\cursos\\inteligencia artificial - im\\lecture13\\notebooks\\ragenv\\lib\\site-packages (from aiohttp<4.0.0,>=3.8.3->langchain_community) (1.20.0)\n",
            "Requirement already satisfied: idna>=2.8 in c:\\users\\jdmartinev\\onedrive - universidad eafit\\cursos\\inteligencia artificial - im\\lecture13\\notebooks\\ragenv\\lib\\site-packages (from anyio<5,>=3.5.0->openai) (3.10)\n",
            "Requirement already satisfied: packaging>=19.1 in c:\\users\\jdmartinev\\onedrive - universidad eafit\\cursos\\inteligencia artificial - im\\lecture13\\notebooks\\ragenv\\lib\\site-packages (from build>=1.0.3->chromadb) (24.2)\n",
            "Requirement already satisfied: pyproject_hooks in c:\\users\\jdmartinev\\onedrive - universidad eafit\\cursos\\inteligencia artificial - im\\lecture13\\notebooks\\ragenv\\lib\\site-packages (from build>=1.0.3->chromadb) (1.2.0)\n",
            "Requirement already satisfied: colorama in c:\\users\\jdmartinev\\onedrive - universidad eafit\\cursos\\inteligencia artificial - im\\lecture13\\notebooks\\ragenv\\lib\\site-packages (from build>=1.0.3->chromadb) (0.4.6)\n",
            "Requirement already satisfied: marshmallow<4.0.0,>=3.18.0 in c:\\users\\jdmartinev\\onedrive - universidad eafit\\cursos\\inteligencia artificial - im\\lecture13\\notebooks\\ragenv\\lib\\site-packages (from dataclasses-json<0.7,>=0.5.7->langchain_community) (3.26.1)\n",
            "Requirement already satisfied: typing-inspect<1,>=0.4.0 in c:\\users\\jdmartinev\\onedrive - universidad eafit\\cursos\\inteligencia artificial - im\\lecture13\\notebooks\\ragenv\\lib\\site-packages (from dataclasses-json<0.7,>=0.5.7->langchain_community) (0.9.0)\n",
            "Requirement already satisfied: starlette<0.47.0,>=0.40.0 in c:\\users\\jdmartinev\\onedrive - universidad eafit\\cursos\\inteligencia artificial - im\\lecture13\\notebooks\\ragenv\\lib\\site-packages (from fastapi>=0.95.2->chromadb) (0.46.2)\n",
            "Requirement already satisfied: certifi in c:\\users\\jdmartinev\\onedrive - universidad eafit\\cursos\\inteligencia artificial - im\\lecture13\\notebooks\\ragenv\\lib\\site-packages (from httpx>=0.27.0->chromadb) (2025.4.26)\n",
            "Requirement already satisfied: httpcore==1.* in c:\\users\\jdmartinev\\onedrive - universidad eafit\\cursos\\inteligencia artificial - im\\lecture13\\notebooks\\ragenv\\lib\\site-packages (from httpx>=0.27.0->chromadb) (1.0.9)\n",
            "Requirement already satisfied: h11>=0.16 in c:\\users\\jdmartinev\\onedrive - universidad eafit\\cursos\\inteligencia artificial - im\\lecture13\\notebooks\\ragenv\\lib\\site-packages (from httpcore==1.*->httpx>=0.27.0->chromadb) (0.16.0)\n",
            "Requirement already satisfied: six>=1.9.0 in c:\\users\\jdmartinev\\onedrive - universidad eafit\\cursos\\inteligencia artificial - im\\lecture13\\notebooks\\ragenv\\lib\\site-packages (from kubernetes>=28.1.0->chromadb) (1.17.0)\n",
            "Requirement already satisfied: google-auth>=1.0.1 in c:\\users\\jdmartinev\\onedrive - universidad eafit\\cursos\\inteligencia artificial - im\\lecture13\\notebooks\\ragenv\\lib\\site-packages (from kubernetes>=28.1.0->chromadb) (2.39.0)\n",
            "Requirement already satisfied: websocket-client!=0.40.0,!=0.41.*,!=0.42.*,>=0.32.0 in c:\\users\\jdmartinev\\onedrive - universidad eafit\\cursos\\inteligencia artificial - im\\lecture13\\notebooks\\ragenv\\lib\\site-packages (from kubernetes>=28.1.0->chromadb) (1.8.0)\n",
            "Requirement already satisfied: requests-oauthlib in c:\\users\\jdmartinev\\onedrive - universidad eafit\\cursos\\inteligencia artificial - im\\lecture13\\notebooks\\ragenv\\lib\\site-packages (from kubernetes>=28.1.0->chromadb) (2.0.0)\n",
            "Requirement already satisfied: oauthlib>=3.2.2 in c:\\users\\jdmartinev\\onedrive - universidad eafit\\cursos\\inteligencia artificial - im\\lecture13\\notebooks\\ragenv\\lib\\site-packages (from kubernetes>=28.1.0->chromadb) (3.2.2)\n",
            "Requirement already satisfied: urllib3>=1.24.2 in c:\\users\\jdmartinev\\onedrive - universidad eafit\\cursos\\inteligencia artificial - im\\lecture13\\notebooks\\ragenv\\lib\\site-packages (from kubernetes>=28.1.0->chromadb) (2.4.0)\n",
            "Requirement already satisfied: durationpy>=0.7 in c:\\users\\jdmartinev\\onedrive - universidad eafit\\cursos\\inteligencia artificial - im\\lecture13\\notebooks\\ragenv\\lib\\site-packages (from kubernetes>=28.1.0->chromadb) (0.9)\n",
            "Requirement already satisfied: jsonpatch<2.0,>=1.33 in c:\\users\\jdmartinev\\onedrive - universidad eafit\\cursos\\inteligencia artificial - im\\lecture13\\notebooks\\ragenv\\lib\\site-packages (from langchain-core<1.0.0,>=0.3.55->langchain) (1.33)\n",
            "Requirement already satisfied: requests-toolbelt<2.0.0,>=1.0.0 in c:\\users\\jdmartinev\\onedrive - universidad eafit\\cursos\\inteligencia artificial - im\\lecture13\\notebooks\\ragenv\\lib\\site-packages (from langsmith<0.4,>=0.1.17->langchain) (1.0.0)\n",
            "Requirement already satisfied: zstandard<0.24.0,>=0.23.0 in c:\\users\\jdmartinev\\onedrive - universidad eafit\\cursos\\inteligencia artificial - im\\lecture13\\notebooks\\ragenv\\lib\\site-packages (from langsmith<0.4,>=0.1.17->langchain) (0.23.0)\n",
            "Requirement already satisfied: coloredlogs in c:\\users\\jdmartinev\\onedrive - universidad eafit\\cursos\\inteligencia artificial - im\\lecture13\\notebooks\\ragenv\\lib\\site-packages (from onnxruntime>=1.14.1->chromadb) (15.0.1)\n",
            "Requirement already satisfied: flatbuffers in c:\\users\\jdmartinev\\onedrive - universidad eafit\\cursos\\inteligencia artificial - im\\lecture13\\notebooks\\ragenv\\lib\\site-packages (from onnxruntime>=1.14.1->chromadb) (25.2.10)\n",
            "Requirement already satisfied: protobuf in c:\\users\\jdmartinev\\onedrive - universidad eafit\\cursos\\inteligencia artificial - im\\lecture13\\notebooks\\ragenv\\lib\\site-packages (from onnxruntime>=1.14.1->chromadb) (5.29.4)\n",
            "Requirement already satisfied: sympy in c:\\users\\jdmartinev\\onedrive - universidad eafit\\cursos\\inteligencia artificial - im\\lecture13\\notebooks\\ragenv\\lib\\site-packages (from onnxruntime>=1.14.1->chromadb) (1.14.0)\n",
            "Requirement already satisfied: deprecated>=1.2.6 in c:\\users\\jdmartinev\\onedrive - universidad eafit\\cursos\\inteligencia artificial - im\\lecture13\\notebooks\\ragenv\\lib\\site-packages (from opentelemetry-api>=1.2.0->chromadb) (1.2.18)\n",
            "Requirement already satisfied: importlib-metadata<8.7.0,>=6.0 in c:\\users\\jdmartinev\\onedrive - universidad eafit\\cursos\\inteligencia artificial - im\\lecture13\\notebooks\\ragenv\\lib\\site-packages (from opentelemetry-api>=1.2.0->chromadb) (8.6.1)\n",
            "Requirement already satisfied: googleapis-common-protos~=1.52 in c:\\users\\jdmartinev\\onedrive - universidad eafit\\cursos\\inteligencia artificial - im\\lecture13\\notebooks\\ragenv\\lib\\site-packages (from opentelemetry-exporter-otlp-proto-grpc>=1.2.0->chromadb) (1.70.0)\n",
            "Requirement already satisfied: opentelemetry-exporter-otlp-proto-common==1.32.1 in c:\\users\\jdmartinev\\onedrive - universidad eafit\\cursos\\inteligencia artificial - im\\lecture13\\notebooks\\ragenv\\lib\\site-packages (from opentelemetry-exporter-otlp-proto-grpc>=1.2.0->chromadb) (1.32.1)\n",
            "Requirement already satisfied: opentelemetry-proto==1.32.1 in c:\\users\\jdmartinev\\onedrive - universidad eafit\\cursos\\inteligencia artificial - im\\lecture13\\notebooks\\ragenv\\lib\\site-packages (from opentelemetry-exporter-otlp-proto-grpc>=1.2.0->chromadb) (1.32.1)\n",
            "Requirement already satisfied: opentelemetry-instrumentation-asgi==0.53b1 in c:\\users\\jdmartinev\\onedrive - universidad eafit\\cursos\\inteligencia artificial - im\\lecture13\\notebooks\\ragenv\\lib\\site-packages (from opentelemetry-instrumentation-fastapi>=0.41b0->chromadb) (0.53b1)\n",
            "Requirement already satisfied: opentelemetry-instrumentation==0.53b1 in c:\\users\\jdmartinev\\onedrive - universidad eafit\\cursos\\inteligencia artificial - im\\lecture13\\notebooks\\ragenv\\lib\\site-packages (from opentelemetry-instrumentation-fastapi>=0.41b0->chromadb) (0.53b1)\n",
            "Requirement already satisfied: opentelemetry-semantic-conventions==0.53b1 in c:\\users\\jdmartinev\\onedrive - universidad eafit\\cursos\\inteligencia artificial - im\\lecture13\\notebooks\\ragenv\\lib\\site-packages (from opentelemetry-instrumentation-fastapi>=0.41b0->chromadb) (0.53b1)\n",
            "Requirement already satisfied: opentelemetry-util-http==0.53b1 in c:\\users\\jdmartinev\\onedrive - universidad eafit\\cursos\\inteligencia artificial - im\\lecture13\\notebooks\\ragenv\\lib\\site-packages (from opentelemetry-instrumentation-fastapi>=0.41b0->chromadb) (0.53b1)\n",
            "Requirement already satisfied: wrapt<2.0.0,>=1.0.0 in c:\\users\\jdmartinev\\onedrive - universidad eafit\\cursos\\inteligencia artificial - im\\lecture13\\notebooks\\ragenv\\lib\\site-packages (from opentelemetry-instrumentation==0.53b1->opentelemetry-instrumentation-fastapi>=0.41b0->chromadb) (1.17.2)\n",
            "Requirement already satisfied: asgiref~=3.0 in c:\\users\\jdmartinev\\onedrive - universidad eafit\\cursos\\inteligencia artificial - im\\lecture13\\notebooks\\ragenv\\lib\\site-packages (from opentelemetry-instrumentation-asgi==0.53b1->opentelemetry-instrumentation-fastapi>=0.41b0->chromadb) (3.8.1)\n",
            "Requirement already satisfied: monotonic>=1.5 in c:\\users\\jdmartinev\\onedrive - universidad eafit\\cursos\\inteligencia artificial - im\\lecture13\\notebooks\\ragenv\\lib\\site-packages (from posthog>=2.4.0->chromadb) (1.6)\n",
            "Requirement already satisfied: backoff>=1.10.0 in c:\\users\\jdmartinev\\onedrive - universidad eafit\\cursos\\inteligencia artificial - im\\lecture13\\notebooks\\ragenv\\lib\\site-packages (from posthog>=2.4.0->chromadb) (2.2.1)\n",
            "Requirement already satisfied: annotated-types>=0.6.0 in c:\\users\\jdmartinev\\onedrive - universidad eafit\\cursos\\inteligencia artificial - im\\lecture13\\notebooks\\ragenv\\lib\\site-packages (from pydantic>=1.9->chromadb) (0.7.0)\n",
            "Requirement already satisfied: pydantic-core==2.33.1 in c:\\users\\jdmartinev\\onedrive - universidad eafit\\cursos\\inteligencia artificial - im\\lecture13\\notebooks\\ragenv\\lib\\site-packages (from pydantic>=1.9->chromadb) (2.33.1)\n",
            "Requirement already satisfied: typing-inspection>=0.4.0 in c:\\users\\jdmartinev\\onedrive - universidad eafit\\cursos\\inteligencia artificial - im\\lecture13\\notebooks\\ragenv\\lib\\site-packages (from pydantic>=1.9->chromadb) (0.4.0)\n",
            "Requirement already satisfied: python-dotenv>=0.21.0 in c:\\users\\jdmartinev\\onedrive - universidad eafit\\cursos\\inteligencia artificial - im\\lecture13\\notebooks\\ragenv\\lib\\site-packages (from pydantic-settings<3.0.0,>=2.4.0->langchain_community) (1.1.0)\n",
            "Requirement already satisfied: charset-normalizer<4,>=2 in c:\\users\\jdmartinev\\onedrive - universidad eafit\\cursos\\inteligencia artificial - im\\lecture13\\notebooks\\ragenv\\lib\\site-packages (from requests<3,>=2->langchain) (3.4.1)\n",
            "Requirement already satisfied: markdown-it-py>=2.2.0 in c:\\users\\jdmartinev\\onedrive - universidad eafit\\cursos\\inteligencia artificial - im\\lecture13\\notebooks\\ragenv\\lib\\site-packages (from rich>=10.11.0->chromadb) (3.0.0)\n",
            "Requirement already satisfied: pygments<3.0.0,>=2.13.0 in c:\\users\\jdmartinev\\onedrive - universidad eafit\\cursos\\inteligencia artificial - im\\lecture13\\notebooks\\ragenv\\lib\\site-packages (from rich>=10.11.0->chromadb) (2.19.1)\n",
            "Requirement already satisfied: greenlet>=1 in c:\\users\\jdmartinev\\onedrive - universidad eafit\\cursos\\inteligencia artificial - im\\lecture13\\notebooks\\ragenv\\lib\\site-packages (from SQLAlchemy<3,>=1.4->langchain) (3.2.1)\n",
            "Requirement already satisfied: huggingface-hub<1.0,>=0.16.4 in c:\\users\\jdmartinev\\onedrive - universidad eafit\\cursos\\inteligencia artificial - im\\lecture13\\notebooks\\ragenv\\lib\\site-packages (from tokenizers>=0.13.2->chromadb) (0.30.2)\n",
            "Requirement already satisfied: click>=8.0.0 in c:\\users\\jdmartinev\\onedrive - universidad eafit\\cursos\\inteligencia artificial - im\\lecture13\\notebooks\\ragenv\\lib\\site-packages (from typer>=0.9.0->chromadb) (8.1.8)\n",
            "Requirement already satisfied: shellingham>=1.3.0 in c:\\users\\jdmartinev\\onedrive - universidad eafit\\cursos\\inteligencia artificial - im\\lecture13\\notebooks\\ragenv\\lib\\site-packages (from typer>=0.9.0->chromadb) (1.5.4)\n",
            "Requirement already satisfied: httptools>=0.6.3 in c:\\users\\jdmartinev\\onedrive - universidad eafit\\cursos\\inteligencia artificial - im\\lecture13\\notebooks\\ragenv\\lib\\site-packages (from uvicorn[standard]>=0.18.3->chromadb) (0.6.4)\n",
            "Requirement already satisfied: watchfiles>=0.13 in c:\\users\\jdmartinev\\onedrive - universidad eafit\\cursos\\inteligencia artificial - im\\lecture13\\notebooks\\ragenv\\lib\\site-packages (from uvicorn[standard]>=0.18.3->chromadb) (1.0.5)\n",
            "Requirement already satisfied: websockets>=10.4 in c:\\users\\jdmartinev\\onedrive - universidad eafit\\cursos\\inteligencia artificial - im\\lecture13\\notebooks\\ragenv\\lib\\site-packages (from uvicorn[standard]>=0.18.3->chromadb) (15.0.1)\n",
            "Requirement already satisfied: cachetools<6.0,>=2.0.0 in c:\\users\\jdmartinev\\onedrive - universidad eafit\\cursos\\inteligencia artificial - im\\lecture13\\notebooks\\ragenv\\lib\\site-packages (from google-auth>=1.0.1->kubernetes>=28.1.0->chromadb) (5.5.2)\n",
            "Requirement already satisfied: pyasn1-modules>=0.2.1 in c:\\users\\jdmartinev\\onedrive - universidad eafit\\cursos\\inteligencia artificial - im\\lecture13\\notebooks\\ragenv\\lib\\site-packages (from google-auth>=1.0.1->kubernetes>=28.1.0->chromadb) (0.4.2)\n",
            "Requirement already satisfied: rsa<5,>=3.1.4 in c:\\users\\jdmartinev\\onedrive - universidad eafit\\cursos\\inteligencia artificial - im\\lecture13\\notebooks\\ragenv\\lib\\site-packages (from google-auth>=1.0.1->kubernetes>=28.1.0->chromadb) (4.9.1)\n",
            "Requirement already satisfied: filelock in c:\\users\\jdmartinev\\onedrive - universidad eafit\\cursos\\inteligencia artificial - im\\lecture13\\notebooks\\ragenv\\lib\\site-packages (from huggingface-hub<1.0,>=0.16.4->tokenizers>=0.13.2->chromadb) (3.18.0)\n",
            "Requirement already satisfied: fsspec>=2023.5.0 in c:\\users\\jdmartinev\\onedrive - universidad eafit\\cursos\\inteligencia artificial - im\\lecture13\\notebooks\\ragenv\\lib\\site-packages (from huggingface-hub<1.0,>=0.16.4->tokenizers>=0.13.2->chromadb) (2025.3.2)\n",
            "Requirement already satisfied: zipp>=3.20 in c:\\users\\jdmartinev\\onedrive - universidad eafit\\cursos\\inteligencia artificial - im\\lecture13\\notebooks\\ragenv\\lib\\site-packages (from importlib-metadata<8.7.0,>=6.0->opentelemetry-api>=1.2.0->chromadb) (3.21.0)\n",
            "Requirement already satisfied: jsonpointer>=1.9 in c:\\users\\jdmartinev\\onedrive - universidad eafit\\cursos\\inteligencia artificial - im\\lecture13\\notebooks\\ragenv\\lib\\site-packages (from jsonpatch<2.0,>=1.33->langchain-core<1.0.0,>=0.3.55->langchain) (3.0.0)\n",
            "Requirement already satisfied: mdurl~=0.1 in c:\\users\\jdmartinev\\onedrive - universidad eafit\\cursos\\inteligencia artificial - im\\lecture13\\notebooks\\ragenv\\lib\\site-packages (from markdown-it-py>=2.2.0->rich>=10.11.0->chromadb) (0.1.2)\n",
            "Requirement already satisfied: mypy-extensions>=0.3.0 in c:\\users\\jdmartinev\\onedrive - universidad eafit\\cursos\\inteligencia artificial - im\\lecture13\\notebooks\\ragenv\\lib\\site-packages (from typing-inspect<1,>=0.4.0->dataclasses-json<0.7,>=0.5.7->langchain_community) (1.1.0)\n",
            "Requirement already satisfied: humanfriendly>=9.1 in c:\\users\\jdmartinev\\onedrive - universidad eafit\\cursos\\inteligencia artificial - im\\lecture13\\notebooks\\ragenv\\lib\\site-packages (from coloredlogs->onnxruntime>=1.14.1->chromadb) (10.0)\n",
            "Requirement already satisfied: mpmath<1.4,>=1.1.0 in c:\\users\\jdmartinev\\onedrive - universidad eafit\\cursos\\inteligencia artificial - im\\lecture13\\notebooks\\ragenv\\lib\\site-packages (from sympy->onnxruntime>=1.14.1->chromadb) (1.3.0)\n",
            "Requirement already satisfied: pyreadline3 in c:\\users\\jdmartinev\\onedrive - universidad eafit\\cursos\\inteligencia artificial - im\\lecture13\\notebooks\\ragenv\\lib\\site-packages (from humanfriendly>=9.1->coloredlogs->onnxruntime>=1.14.1->chromadb) (3.5.4)\n",
            "Requirement already satisfied: pyasn1<0.7.0,>=0.6.1 in c:\\users\\jdmartinev\\onedrive - universidad eafit\\cursos\\inteligencia artificial - im\\lecture13\\notebooks\\ragenv\\lib\\site-packages (from pyasn1-modules>=0.2.1->google-auth>=1.0.1->kubernetes>=28.1.0->chromadb) (0.6.1)\n",
            "Note: you may need to restart the kernel to use updated packages.\n"
          ]
        },
        {
          "name": "stderr",
          "output_type": "stream",
          "text": [
            "\n",
            "[notice] A new release of pip available: 22.3 -> 25.1\n",
            "[notice] To update, run: python.exe -m pip install --upgrade pip\n"
          ]
        }
      ],
      "source": [
        "# 1. Instalación de dependencias\n",
        "%pip install chromadb langchain langchain_community openai pandas tiktoken"
      ]
    },
    {
      "cell_type": "markdown",
      "metadata": {},
      "source": [
        "# 2 - Descarga y Preprocesamiento del Dataset\n",
        "\n",
        "Usaremos el dataset \"News Category Dataset\" de Kaggle, que contiene noticias reales.\n",
        "\n",
        "Descarga el dataset desde Kaggle:\n",
        "\n",
        "https://www.kaggle.com/datasets/rmisra/news-category-dataset?resource=download\n",
        "\n",
        "descarga el archivo: News_Category_Dataset_v3.json.zip"
      ]
    },
    {
      "cell_type": "markdown",
      "metadata": {},
      "source": [
        "# Cargar y Preprocesar el Dataset\n",
        "\n",
        "El dataset de noticias viene en formato JSON, por lo que lo cargaremos y seleccionaremos las columnas necesarias."
      ]
    },
    {
      "cell_type": "code",
      "execution_count": 2,
      "metadata": {},
      "outputs": [
        {
          "name": "stdout",
          "output_type": "stream",
          "text": [
            "                                            headline  \\\n",
            "0  Over 4 Million Americans Roll Up Sleeves For O...   \n",
            "1  American Airlines Flyer Charged, Banned For Li...   \n",
            "2  23 Of The Funniest Tweets About Cats And Dogs ...   \n",
            "3  The Funniest Tweets From Parents This Week (Se...   \n",
            "4  Woman Who Called Cops On Black Bird-Watcher Lo...   \n",
            "\n",
            "                                   short_description   category  \\\n",
            "0  Health experts said it is too early to predict...  U.S. NEWS   \n",
            "1  He was subdued by passengers and crew when he ...  U.S. NEWS   \n",
            "2  \"Until you have a dog you don't understand wha...     COMEDY   \n",
            "3  \"Accidentally put grown-up toothpaste on my to...  PARENTING   \n",
            "4  Amy Cooper accused investment firm Franklin Te...  U.S. NEWS   \n",
            "\n",
            "                                             content  \n",
            "0  Over 4 Million Americans Roll Up Sleeves For O...  \n",
            "1  American Airlines Flyer Charged, Banned For Li...  \n",
            "2  23 Of The Funniest Tweets About Cats And Dogs ...  \n",
            "3  The Funniest Tweets From Parents This Week (Se...  \n",
            "4  Woman Who Called Cops On Black Bird-Watcher Lo...  \n"
          ]
        }
      ],
      "source": [
        "import pandas as pd\n",
        "import json\n",
        "\n",
        "# Cargar el dataset de noticias\n",
        "file_path = \"News_Category_Dataset_v3.json\"  # Asegúrate de cambiar esto si el nombre del archivo es diferente\n",
        "\n",
        "# Leer el archivo JSON línea por línea\n",
        "data = []\n",
        "with open(file_path, \"r\") as file:\n",
        "    for line in file:\n",
        "        data.append(json.loads(line))\n",
        "\n",
        "# Convertir a un DataFrame de pandas\n",
        "df = pd.DataFrame(data)\n",
        "\n",
        "# Seleccionar columnas relevantes\n",
        "df = df[['headline', 'short_description', 'category']]\n",
        "df = df.dropna()  # Eliminar filas con valores nulos\n",
        "\n",
        "# Crear una columna combinada con el título y la descripción para indexación\n",
        "df[\"content\"] = df[\"headline\"] + \". \" + df[\"short_description\"]\n",
        "\n",
        "print(df.head())\n",
        "\n",
        "# volverlo más pequeño para poderlo procesar en tiempos razonables de clase y en una laptop\n",
        "df = df[:10000]\n"
      ]
    },
    {
      "cell_type": "code",
      "execution_count": 3,
      "metadata": {},
      "outputs": [
        {
          "name": "stdout",
          "output_type": "stream",
          "text": [
            "<bound method NDFrame.describe of                                                headline  \\\n",
            "0     Over 4 Million Americans Roll Up Sleeves For O...   \n",
            "1     American Airlines Flyer Charged, Banned For Li...   \n",
            "2     23 Of The Funniest Tweets About Cats And Dogs ...   \n",
            "3     The Funniest Tweets From Parents This Week (Se...   \n",
            "4     Woman Who Called Cops On Black Bird-Watcher Lo...   \n",
            "...                                                 ...   \n",
            "9995  CDC Director Requests Salary Cut After Scrutin...   \n",
            "9996  Super PAC Screw-Up: Ad Favorably Compares GOP ...   \n",
            "9997  'Ant-Man And The Wasp' Trailer Brings The Fun ...   \n",
            "9998  Here's What You Missed While The Internet Was ...   \n",
            "9999  Facebook Will Let Users See Which Sites Are Tr...   \n",
            "\n",
            "                                      short_description       category  \\\n",
            "0     Health experts said it is too early to predict...      U.S. NEWS   \n",
            "1     He was subdued by passengers and crew when he ...      U.S. NEWS   \n",
            "2     \"Until you have a dog you don't understand wha...         COMEDY   \n",
            "3     \"Accidentally put grown-up toothpaste on my to...      PARENTING   \n",
            "4     Amy Cooper accused investment firm Franklin Te...      U.S. NEWS   \n",
            "...                                                 ...            ...   \n",
            "9995  Dr. Robert Redfield, who was hired in March, w...       POLITICS   \n",
            "9996  The ad was supposed to help Wisconsin GOP Sena...       POLITICS   \n",
            "9997                          We're still stressed out.  ENTERTAINMENT   \n",
            "9998  Among other happenings, the first fast-food un...       POLITICS   \n",
            "9999  You'll be able to stop Facebook from linking b...           TECH   \n",
            "\n",
            "                                                content  \n",
            "0     Over 4 Million Americans Roll Up Sleeves For O...  \n",
            "1     American Airlines Flyer Charged, Banned For Li...  \n",
            "2     23 Of The Funniest Tweets About Cats And Dogs ...  \n",
            "3     The Funniest Tweets From Parents This Week (Se...  \n",
            "4     Woman Who Called Cops On Black Bird-Watcher Lo...  \n",
            "...                                                 ...  \n",
            "9995  CDC Director Requests Salary Cut After Scrutin...  \n",
            "9996  Super PAC Screw-Up: Ad Favorably Compares GOP ...  \n",
            "9997  'Ant-Man And The Wasp' Trailer Brings The Fun ...  \n",
            "9998  Here's What You Missed While The Internet Was ...  \n",
            "9999  Facebook Will Let Users See Which Sites Are Tr...  \n",
            "\n",
            "[10000 rows x 4 columns]>\n"
          ]
        }
      ],
      "source": [
        "print(df.describe)"
      ]
    },
    {
      "cell_type": "markdown",
      "metadata": {},
      "source": [
        "# 3. Crear la Base de Datos Vectorial en ChromaDB\n",
        "\n",
        "Usamos ChromaDB para almacenar y recuperar embeddings de noticias."
      ]
    },
    {
      "cell_type": "code",
      "execution_count": 7,
      "metadata": {},
      "outputs": [
        {
          "name": "stdout",
          "output_type": "stream",
          "text": [
            "0\n",
            "100\n",
            "200\n",
            "300\n",
            "400\n",
            "500\n",
            "600\n",
            "700\n",
            "800\n",
            "900\n",
            "1000\n",
            "1100\n",
            "1200\n",
            "1300\n",
            "1400\n",
            "1500\n",
            "1600\n",
            "1700\n",
            "1800\n",
            "1900\n",
            "2000\n",
            "2100\n",
            "2200\n",
            "2300\n",
            "2400\n",
            "2500\n",
            "2600\n",
            "2700\n",
            "2800\n",
            "2900\n",
            "3000\n",
            "3100\n",
            "3200\n",
            "3300\n",
            "3400\n",
            "3500\n",
            "3600\n",
            "3700\n",
            "3800\n",
            "3900\n",
            "4000\n",
            "4100\n",
            "4200\n",
            "4300\n",
            "4400\n",
            "4500\n",
            "4600\n",
            "4700\n",
            "4800\n",
            "4900\n",
            "5000\n",
            "5100\n",
            "5200\n",
            "5300\n",
            "5400\n",
            "5500\n",
            "5600\n",
            "5700\n",
            "5800\n",
            "5900\n",
            "6000\n",
            "6100\n",
            "6200\n",
            "6300\n",
            "6400\n",
            "6500\n",
            "6600\n",
            "6700\n",
            "6800\n",
            "6900\n",
            "7000\n",
            "7100\n",
            "7200\n",
            "7300\n",
            "7400\n",
            "7500\n",
            "7600\n",
            "7700\n",
            "7800\n",
            "7900\n",
            "8000\n",
            "8100\n",
            "8200\n",
            "8300\n",
            "8400\n",
            "8500\n",
            "8600\n",
            "8700\n",
            "8800\n",
            "8900\n",
            "9000\n",
            "9100\n",
            "9200\n",
            "9300\n",
            "9400\n",
            "9500\n",
            "9600\n",
            "9700\n",
            "9800\n",
            "9900\n",
            "Base de datos de noticias creada con éxito.\n"
          ]
        }
      ],
      "source": [
        "import chromadb\n",
        "from langchain.embeddings import OpenAIEmbeddings\n",
        "from dotenv import load_dotenv\n",
        "import os\n",
        "\n",
        "load_dotenv('api_keys.env')\n",
        "# Configurar la API Key (puedes establecerla como variable de entorno)\n",
        "os.environ[\"OPENAI_API_KEY\"] = os.getenv('OPENAI_API_KEY')\n",
        "\n",
        "# Inicializar ChromaDB\n",
        "chroma_client = chromadb.PersistentClient(path=\"./chroma_news_db\")\n",
        "\n",
        "# Crear una colección en ChromaDB\n",
        "collection = chroma_client.get_or_create_collection(name=\"news_articles\")\n",
        "\n",
        "# Generar embeddings para cada noticia y almacenarlas en la base de datos\n",
        "embedding_model = OpenAIEmbeddings()\n",
        "i=0\n",
        "# en una laptop 16 GB RAM Intel i5, 35seg por cada 100 registros, \n",
        "# cargar 10.000 registros, toma aprox = 1 hora\n",
        "for idx, row in df.iterrows():\n",
        "    if (i%100==0):\n",
        "        print(i)\n",
        "    i=i+1\n",
        "    collection.add(\n",
        "        ids=[str(idx)],\n",
        "        documents=[row[\"content\"]],\n",
        "        metadatas=[{\"category\": row[\"category\"], \"headline\": row[\"headline\"]}]\n",
        "    )\n",
        "\n",
        "print(\"Base de datos de noticias creada con éxito.\")\n"
      ]
    },
    {
      "cell_type": "markdown",
      "metadata": {},
      "source": [
        "Inicializamos ChromaDB en modo persistente.\n",
        "Generamos embeddings con OpenAI y almacenamos los textos en ChromaDB.\n",
        "Guardamos metadatos como categoría y título para mejorar la interpretación de los resultados."
      ]
    },
    {
      "cell_type": "markdown",
      "metadata": {},
      "source": [
        "# 4. Búsqueda Semántica con Recuperación de Noticias\n",
        "\n",
        "Ahora creamos una función para buscar las noticias más relevantes usando búsqueda vectorial en ChromaDB."
      ]
    },
    {
      "cell_type": "code",
      "execution_count": 8,
      "metadata": {},
      "outputs": [
        {
          "name": "stdout",
          "output_type": "stream",
          "text": [
            "\n",
            "Noticias recuperadas:\n",
            "\n",
            "White House Press Secretary Goofs Up, Broadcasts Trump's Banking Details\n",
            "\n",
            "White House Press Secretary Goofs Up, Broadcasts Trump's Banking Details. Trump's donation to the Department of Health and Human Services shown off by Kayleigh McEnany included a few too many details.\n",
            "\n",
            "No White House Progress On Day 3 Of Government Shutdown\n",
            "\n",
            "No White House Progress On Day 3 Of Government Shutdown. “Nothing new. Nothing new on the shutdown. Nothing new. Except we need border security,” Trump told reporters at the White House\n",
            "\n",
            "Trump's Silent Public Outing Belies White House In Tumult\n",
            "\n",
            "Trump's Silent Public Outing Belies White House In Tumult. The president's appearance at Arlington National Cemetery was his first public outing for official business in more than a week.\n"
          ]
        }
      ],
      "source": [
        "def search_news(query, top_k=3):\n",
        "    results = collection.query(\n",
        "        query_texts=[query],\n",
        "        n_results=top_k\n",
        "    )\n",
        "    return results[\"documents\"][0], results[\"metadatas\"][0]\n",
        "\n",
        "# Prueba de búsqueda\n",
        "query = \"News about Trump, white house\"\n",
        "retrieved_docs, metadata = search_news(query)\n",
        "\n",
        "print(\"\\nNoticias recuperadas:\")\n",
        "for i in range(len(retrieved_docs)):\n",
        "    print(f\"\\n{metadata[i]['headline']}\")\n",
        "    print(f\"\\n{retrieved_docs[i]}\")\n"
      ]
    },
    {
      "cell_type": "markdown",
      "metadata": {},
      "source": [
        "search_news() consulta ChromaDB para recuperar los artículos más relevantes.\n",
        "Ejemplo de consulta: Buscamos noticias sobre \"elecciones en EE.UU.\" y mostramos los títulos y descripciones."
      ]
    },
    {
      "cell_type": "markdown",
      "metadata": {},
      "source": [
        "# 5. Generación de Respuestas con OpenAI GPT-4\n",
        "\n",
        "Integramos ahora la recuperación con GPT-4 para responder preguntas basadas en las noticias."
      ]
    },
    {
      "cell_type": "code",
      "execution_count": 10,
      "metadata": {},
      "outputs": [
        {
          "name": "stdout",
          "output_type": "stream",
          "text": [
            "\n",
            "Respuesta generada por RAG:\n",
            "content='Las últimas noticias sobre el cambio climático se relacionan con los esfuerzos de Biden para abordar este problema a nivel global. Específicamente, se está centrando en Brasil, ya que es un país clave para sus ambiciones climáticas. Sin embargo, está encontrando problemas para lograr que el presidente de extrema derecha de Brasil, Bolsonaro, se preocupe por la deforestación.' additional_kwargs={} response_metadata={'token_usage': {'completion_tokens': 91, 'prompt_tokens': 180, 'total_tokens': 271, 'completion_tokens_details': {'accepted_prediction_tokens': 0, 'audio_tokens': 0, 'reasoning_tokens': 0, 'rejected_prediction_tokens': 0}, 'prompt_tokens_details': {'audio_tokens': 0, 'cached_tokens': 0}}, 'model_name': 'gpt-4', 'system_fingerprint': None, 'finish_reason': 'stop', 'logprobs': None} id='run-b748f4cd-9bd7-43f5-8dba-b1b2d0fb43d8-0'\n"
          ]
        }
      ],
      "source": [
        "from langchain.chat_models import ChatOpenAI\n",
        "from langchain.chains import RetrievalQA\n",
        "from langchain_chroma import Chroma\n",
        "\n",
        "# Configurar el modelo de lenguaje\n",
        "llm = ChatOpenAI(model_name=\"gpt-4\")\n",
        "\n",
        "# Crear la función de RAG\n",
        "def rag_query(user_query, top_k=3):\n",
        "    retrieved_docs, metadata = search_news(user_query, top_k)\n",
        "    \n",
        "    # Formatear el contexto para el modelo GPT-4\n",
        "    context = \"\\n\".join(retrieved_docs)\n",
        "    \n",
        "    # Crear el prompt para el modelo\n",
        "    prompt = f\"\"\"\n",
        "    Basado en las siguientes noticias, responde la siguiente pregunta de manera clara y concisa:\n",
        "\n",
        "    Noticias:\n",
        "    {context}\n",
        "\n",
        "    Pregunta: {user_query}\n",
        "    \"\"\"\n",
        "\n",
        "    # Generar la respuesta\n",
        "    response = llm.invoke(prompt)\n",
        "    \n",
        "    return response\n",
        "\n",
        "# Prueba de generación\n",
        "user_query = \"¿Cuáles son las últimas noticias sobre el cambio climático?\"\n",
        "response = rag_query(user_query)\n",
        "\n",
        "print(\"\\nRespuesta generada por RAG:\")\n",
        "print(response)\n"
      ]
    },
    {
      "cell_type": "markdown",
      "metadata": {},
      "source": [
        "Usamos GPT-4 para generar respuestas basadas en las noticias recuperadas.\n",
        "rag_query() recupera noticias, formatea un prompt y consulta a GPT-4.\n",
        "Prueba con consulta real: \"¿Cuáles son las últimas noticias sobre el cambio climático?\""
      ]
    },
    {
      "cell_type": "markdown",
      "metadata": {},
      "source": [
        "# 6. Evaluación del Sistema RAG\n",
        "\n",
        "Evaluamos la recuperación y generación con Recall@K y ROUGE.\n",
        "\n",
        "## 6.1 Evaluación de la Recuperación con Recall@K"
      ]
    },
    {
      "cell_type": "code",
      "execution_count": 11,
      "metadata": {},
      "outputs": [
        {
          "name": "stdout",
          "output_type": "stream",
          "text": [
            "\n",
            "Recall 3: 0.00\n"
          ]
        }
      ],
      "source": [
        "def evaluate_recall(queries, ground_truths, k=3):\n",
        "    retrieved_texts = [search_news(q, k)[0] for q in queries]\n",
        "    recall_k = sum(any(gt in retrieved for retrieved in retrieved_texts) for gt in ground_truths) / len(queries)\n",
        "    \n",
        "    print(f\"\\nRecall {k}: {recall_k:.2f}\")\n",
        "\n",
        "# Definir consultas y respuestas esperadas\n",
        "test_queries = [\"Noticias sobre economía\", \"Últimos eventos deportivos\"]\n",
        "expected_answers = [\"Economía en crecimiento\", \"Partido de fútbol\"]\n",
        "\n",
        "evaluate_recall(test_queries, expected_answers, k=3)\n"
      ]
    },
    {
      "cell_type": "code",
      "execution_count": 15,
      "metadata": {},
      "outputs": [
        {
          "name": "stdout",
          "output_type": "stream",
          "text": [
            "Requirement already satisfied: evaluate in c:\\users\\jdmartinev\\onedrive - universidad eafit\\cursos\\inteligencia artificial - im\\lecture13\\notebooks\\ragenv\\lib\\site-packages (0.4.3)\n",
            "Requirement already satisfied: datasets>=2.0.0 in c:\\users\\jdmartinev\\onedrive - universidad eafit\\cursos\\inteligencia artificial - im\\lecture13\\notebooks\\ragenv\\lib\\site-packages (from evaluate) (3.5.1)\n",
            "Requirement already satisfied: numpy>=1.17 in c:\\users\\jdmartinev\\onedrive - universidad eafit\\cursos\\inteligencia artificial - im\\lecture13\\notebooks\\ragenv\\lib\\site-packages (from evaluate) (2.2.5)\n",
            "Requirement already satisfied: dill in c:\\users\\jdmartinev\\onedrive - universidad eafit\\cursos\\inteligencia artificial - im\\lecture13\\notebooks\\ragenv\\lib\\site-packages (from evaluate) (0.3.8)\n",
            "Requirement already satisfied: pandas in c:\\users\\jdmartinev\\onedrive - universidad eafit\\cursos\\inteligencia artificial - im\\lecture13\\notebooks\\ragenv\\lib\\site-packages (from evaluate) (2.2.3)\n",
            "Requirement already satisfied: requests>=2.19.0 in c:\\users\\jdmartinev\\onedrive - universidad eafit\\cursos\\inteligencia artificial - im\\lecture13\\notebooks\\ragenv\\lib\\site-packages (from evaluate) (2.32.3)\n",
            "Requirement already satisfied: tqdm>=4.62.1 in c:\\users\\jdmartinev\\onedrive - universidad eafit\\cursos\\inteligencia artificial - im\\lecture13\\notebooks\\ragenv\\lib\\site-packages (from evaluate) (4.67.1)\n",
            "Requirement already satisfied: xxhash in c:\\users\\jdmartinev\\onedrive - universidad eafit\\cursos\\inteligencia artificial - im\\lecture13\\notebooks\\ragenv\\lib\\site-packages (from evaluate) (3.5.0)\n",
            "Requirement already satisfied: multiprocess in c:\\users\\jdmartinev\\onedrive - universidad eafit\\cursos\\inteligencia artificial - im\\lecture13\\notebooks\\ragenv\\lib\\site-packages (from evaluate) (0.70.16)\n",
            "Requirement already satisfied: fsspec[http]>=2021.05.0 in c:\\users\\jdmartinev\\onedrive - universidad eafit\\cursos\\inteligencia artificial - im\\lecture13\\notebooks\\ragenv\\lib\\site-packages (from evaluate) (2025.3.0)\n",
            "Requirement already satisfied: huggingface-hub>=0.7.0 in c:\\users\\jdmartinev\\onedrive - universidad eafit\\cursos\\inteligencia artificial - im\\lecture13\\notebooks\\ragenv\\lib\\site-packages (from evaluate) (0.30.2)\n",
            "Requirement already satisfied: packaging in c:\\users\\jdmartinev\\onedrive - universidad eafit\\cursos\\inteligencia artificial - im\\lecture13\\notebooks\\ragenv\\lib\\site-packages (from evaluate) (24.2)\n",
            "Requirement already satisfied: filelock in c:\\users\\jdmartinev\\onedrive - universidad eafit\\cursos\\inteligencia artificial - im\\lecture13\\notebooks\\ragenv\\lib\\site-packages (from datasets>=2.0.0->evaluate) (3.18.0)\n",
            "Requirement already satisfied: pyarrow>=15.0.0 in c:\\users\\jdmartinev\\onedrive - universidad eafit\\cursos\\inteligencia artificial - im\\lecture13\\notebooks\\ragenv\\lib\\site-packages (from datasets>=2.0.0->evaluate) (20.0.0)\n",
            "Requirement already satisfied: aiohttp in c:\\users\\jdmartinev\\onedrive - universidad eafit\\cursos\\inteligencia artificial - im\\lecture13\\notebooks\\ragenv\\lib\\site-packages (from datasets>=2.0.0->evaluate) (3.11.18)\n",
            "Requirement already satisfied: pyyaml>=5.1 in c:\\users\\jdmartinev\\onedrive - universidad eafit\\cursos\\inteligencia artificial - im\\lecture13\\notebooks\\ragenv\\lib\\site-packages (from datasets>=2.0.0->evaluate) (6.0.2)\n",
            "Requirement already satisfied: typing-extensions>=3.7.4.3 in c:\\users\\jdmartinev\\onedrive - universidad eafit\\cursos\\inteligencia artificial - im\\lecture13\\notebooks\\ragenv\\lib\\site-packages (from huggingface-hub>=0.7.0->evaluate) (4.13.2)\n",
            "Requirement already satisfied: charset-normalizer<4,>=2 in c:\\users\\jdmartinev\\onedrive - universidad eafit\\cursos\\inteligencia artificial - im\\lecture13\\notebooks\\ragenv\\lib\\site-packages (from requests>=2.19.0->evaluate) (3.4.1)\n",
            "Requirement already satisfied: idna<4,>=2.5 in c:\\users\\jdmartinev\\onedrive - universidad eafit\\cursos\\inteligencia artificial - im\\lecture13\\notebooks\\ragenv\\lib\\site-packages (from requests>=2.19.0->evaluate) (3.10)\n",
            "Requirement already satisfied: urllib3<3,>=1.21.1 in c:\\users\\jdmartinev\\onedrive - universidad eafit\\cursos\\inteligencia artificial - im\\lecture13\\notebooks\\ragenv\\lib\\site-packages (from requests>=2.19.0->evaluate) (2.4.0)\n",
            "Requirement already satisfied: certifi>=2017.4.17 in c:\\users\\jdmartinev\\onedrive - universidad eafit\\cursos\\inteligencia artificial - im\\lecture13\\notebooks\\ragenv\\lib\\site-packages (from requests>=2.19.0->evaluate) (2025.4.26)\n",
            "Requirement already satisfied: colorama in c:\\users\\jdmartinev\\onedrive - universidad eafit\\cursos\\inteligencia artificial - im\\lecture13\\notebooks\\ragenv\\lib\\site-packages (from tqdm>=4.62.1->evaluate) (0.4.6)\n",
            "Requirement already satisfied: python-dateutil>=2.8.2 in c:\\users\\jdmartinev\\onedrive - universidad eafit\\cursos\\inteligencia artificial - im\\lecture13\\notebooks\\ragenv\\lib\\site-packages (from pandas->evaluate) (2.9.0.post0)\n",
            "Requirement already satisfied: pytz>=2020.1 in c:\\users\\jdmartinev\\onedrive - universidad eafit\\cursos\\inteligencia artificial - im\\lecture13\\notebooks\\ragenv\\lib\\site-packages (from pandas->evaluate) (2025.2)\n",
            "Requirement already satisfied: tzdata>=2022.7 in c:\\users\\jdmartinev\\onedrive - universidad eafit\\cursos\\inteligencia artificial - im\\lecture13\\notebooks\\ragenv\\lib\\site-packages (from pandas->evaluate) (2025.2)\n",
            "Requirement already satisfied: aiohappyeyeballs>=2.3.0 in c:\\users\\jdmartinev\\onedrive - universidad eafit\\cursos\\inteligencia artificial - im\\lecture13\\notebooks\\ragenv\\lib\\site-packages (from aiohttp->datasets>=2.0.0->evaluate) (2.6.1)\n",
            "Requirement already satisfied: aiosignal>=1.1.2 in c:\\users\\jdmartinev\\onedrive - universidad eafit\\cursos\\inteligencia artificial - im\\lecture13\\notebooks\\ragenv\\lib\\site-packages (from aiohttp->datasets>=2.0.0->evaluate) (1.3.2)\n",
            "Requirement already satisfied: attrs>=17.3.0 in c:\\users\\jdmartinev\\onedrive - universidad eafit\\cursos\\inteligencia artificial - im\\lecture13\\notebooks\\ragenv\\lib\\site-packages (from aiohttp->datasets>=2.0.0->evaluate) (25.3.0)\n",
            "Requirement already satisfied: frozenlist>=1.1.1 in c:\\users\\jdmartinev\\onedrive - universidad eafit\\cursos\\inteligencia artificial - im\\lecture13\\notebooks\\ragenv\\lib\\site-packages (from aiohttp->datasets>=2.0.0->evaluate) (1.6.0)\n",
            "Requirement already satisfied: multidict<7.0,>=4.5 in c:\\users\\jdmartinev\\onedrive - universidad eafit\\cursos\\inteligencia artificial - im\\lecture13\\notebooks\\ragenv\\lib\\site-packages (from aiohttp->datasets>=2.0.0->evaluate) (6.4.3)\n",
            "Requirement already satisfied: propcache>=0.2.0 in c:\\users\\jdmartinev\\onedrive - universidad eafit\\cursos\\inteligencia artificial - im\\lecture13\\notebooks\\ragenv\\lib\\site-packages (from aiohttp->datasets>=2.0.0->evaluate) (0.3.1)\n",
            "Requirement already satisfied: yarl<2.0,>=1.17.0 in c:\\users\\jdmartinev\\onedrive - universidad eafit\\cursos\\inteligencia artificial - im\\lecture13\\notebooks\\ragenv\\lib\\site-packages (from aiohttp->datasets>=2.0.0->evaluate) (1.20.0)\n",
            "Requirement already satisfied: six>=1.5 in c:\\users\\jdmartinev\\onedrive - universidad eafit\\cursos\\inteligencia artificial - im\\lecture13\\notebooks\\ragenv\\lib\\site-packages (from python-dateutil>=2.8.2->pandas->evaluate) (1.17.0)\n"
          ]
        },
        {
          "name": "stderr",
          "output_type": "stream",
          "text": [
            "\n",
            "[notice] A new release of pip available: 22.3 -> 25.1\n",
            "[notice] To update, run: python.exe -m pip install --upgrade pip\n"
          ]
        },
        {
          "name": "stdout",
          "output_type": "stream",
          "text": [
            "Collecting bert_score\n",
            "  Downloading bert_score-0.3.13-py3-none-any.whl (61 kB)\n",
            "     ---------------------------------------- 61.1/61.1 kB 3.4 MB/s eta 0:00:00\n",
            "Requirement already satisfied: torch>=1.0.0 in c:\\users\\jdmartinev\\onedrive - universidad eafit\\cursos\\inteligencia artificial - im\\lecture13\\notebooks\\ragenv\\lib\\site-packages (from bert_score) (2.7.0)\n",
            "Requirement already satisfied: pandas>=1.0.1 in c:\\users\\jdmartinev\\onedrive - universidad eafit\\cursos\\inteligencia artificial - im\\lecture13\\notebooks\\ragenv\\lib\\site-packages (from bert_score) (2.2.3)\n",
            "Requirement already satisfied: transformers>=3.0.0 in c:\\users\\jdmartinev\\onedrive - universidad eafit\\cursos\\inteligencia artificial - im\\lecture13\\notebooks\\ragenv\\lib\\site-packages (from bert_score) (4.51.3)\n",
            "Requirement already satisfied: numpy in c:\\users\\jdmartinev\\onedrive - universidad eafit\\cursos\\inteligencia artificial - im\\lecture13\\notebooks\\ragenv\\lib\\site-packages (from bert_score) (2.2.5)\n",
            "Requirement already satisfied: requests in c:\\users\\jdmartinev\\onedrive - universidad eafit\\cursos\\inteligencia artificial - im\\lecture13\\notebooks\\ragenv\\lib\\site-packages (from bert_score) (2.32.3)\n",
            "Requirement already satisfied: tqdm>=4.31.1 in c:\\users\\jdmartinev\\onedrive - universidad eafit\\cursos\\inteligencia artificial - im\\lecture13\\notebooks\\ragenv\\lib\\site-packages (from bert_score) (4.67.1)\n",
            "Collecting matplotlib\n",
            "  Downloading matplotlib-3.10.1-cp311-cp311-win_amd64.whl (8.1 MB)\n",
            "     ---------------------------------------- 8.1/8.1 MB 21.5 MB/s eta 0:00:00\n",
            "Requirement already satisfied: packaging>=20.9 in c:\\users\\jdmartinev\\onedrive - universidad eafit\\cursos\\inteligencia artificial - im\\lecture13\\notebooks\\ragenv\\lib\\site-packages (from bert_score) (24.2)\n",
            "Requirement already satisfied: python-dateutil>=2.8.2 in c:\\users\\jdmartinev\\onedrive - universidad eafit\\cursos\\inteligencia artificial - im\\lecture13\\notebooks\\ragenv\\lib\\site-packages (from pandas>=1.0.1->bert_score) (2.9.0.post0)\n",
            "Requirement already satisfied: pytz>=2020.1 in c:\\users\\jdmartinev\\onedrive - universidad eafit\\cursos\\inteligencia artificial - im\\lecture13\\notebooks\\ragenv\\lib\\site-packages (from pandas>=1.0.1->bert_score) (2025.2)\n",
            "Requirement already satisfied: tzdata>=2022.7 in c:\\users\\jdmartinev\\onedrive - universidad eafit\\cursos\\inteligencia artificial - im\\lecture13\\notebooks\\ragenv\\lib\\site-packages (from pandas>=1.0.1->bert_score) (2025.2)\n",
            "Requirement already satisfied: filelock in c:\\users\\jdmartinev\\onedrive - universidad eafit\\cursos\\inteligencia artificial - im\\lecture13\\notebooks\\ragenv\\lib\\site-packages (from torch>=1.0.0->bert_score) (3.18.0)\n",
            "Requirement already satisfied: typing-extensions>=4.10.0 in c:\\users\\jdmartinev\\onedrive - universidad eafit\\cursos\\inteligencia artificial - im\\lecture13\\notebooks\\ragenv\\lib\\site-packages (from torch>=1.0.0->bert_score) (4.13.2)\n",
            "Requirement already satisfied: sympy>=1.13.3 in c:\\users\\jdmartinev\\onedrive - universidad eafit\\cursos\\inteligencia artificial - im\\lecture13\\notebooks\\ragenv\\lib\\site-packages (from torch>=1.0.0->bert_score) (1.14.0)\n",
            "Requirement already satisfied: networkx in c:\\users\\jdmartinev\\onedrive - universidad eafit\\cursos\\inteligencia artificial - im\\lecture13\\notebooks\\ragenv\\lib\\site-packages (from torch>=1.0.0->bert_score) (3.4.2)\n",
            "Requirement already satisfied: jinja2 in c:\\users\\jdmartinev\\onedrive - universidad eafit\\cursos\\inteligencia artificial - im\\lecture13\\notebooks\\ragenv\\lib\\site-packages (from torch>=1.0.0->bert_score) (3.1.6)\n",
            "Requirement already satisfied: fsspec in c:\\users\\jdmartinev\\onedrive - universidad eafit\\cursos\\inteligencia artificial - im\\lecture13\\notebooks\\ragenv\\lib\\site-packages (from torch>=1.0.0->bert_score) (2025.3.0)\n",
            "Requirement already satisfied: colorama in c:\\users\\jdmartinev\\onedrive - universidad eafit\\cursos\\inteligencia artificial - im\\lecture13\\notebooks\\ragenv\\lib\\site-packages (from tqdm>=4.31.1->bert_score) (0.4.6)\n",
            "Requirement already satisfied: huggingface-hub<1.0,>=0.30.0 in c:\\users\\jdmartinev\\onedrive - universidad eafit\\cursos\\inteligencia artificial - im\\lecture13\\notebooks\\ragenv\\lib\\site-packages (from transformers>=3.0.0->bert_score) (0.30.2)\n",
            "Requirement already satisfied: pyyaml>=5.1 in c:\\users\\jdmartinev\\onedrive - universidad eafit\\cursos\\inteligencia artificial - im\\lecture13\\notebooks\\ragenv\\lib\\site-packages (from transformers>=3.0.0->bert_score) (6.0.2)\n",
            "Requirement already satisfied: regex!=2019.12.17 in c:\\users\\jdmartinev\\onedrive - universidad eafit\\cursos\\inteligencia artificial - im\\lecture13\\notebooks\\ragenv\\lib\\site-packages (from transformers>=3.0.0->bert_score) (2024.11.6)\n",
            "Requirement already satisfied: tokenizers<0.22,>=0.21 in c:\\users\\jdmartinev\\onedrive - universidad eafit\\cursos\\inteligencia artificial - im\\lecture13\\notebooks\\ragenv\\lib\\site-packages (from transformers>=3.0.0->bert_score) (0.21.1)\n",
            "Requirement already satisfied: safetensors>=0.4.3 in c:\\users\\jdmartinev\\onedrive - universidad eafit\\cursos\\inteligencia artificial - im\\lecture13\\notebooks\\ragenv\\lib\\site-packages (from transformers>=3.0.0->bert_score) (0.5.3)\n",
            "Collecting contourpy>=1.0.1\n",
            "  Downloading contourpy-1.3.2-cp311-cp311-win_amd64.whl (222 kB)\n",
            "     ------------------------------------- 222.0/222.0 kB 13.2 MB/s eta 0:00:00\n",
            "Collecting cycler>=0.10\n",
            "  Downloading cycler-0.12.1-py3-none-any.whl (8.3 kB)\n",
            "Collecting fonttools>=4.22.0\n",
            "  Downloading fonttools-4.57.0-cp311-cp311-win_amd64.whl (2.2 MB)\n",
            "     ---------------------------------------- 2.2/2.2 MB 28.1 MB/s eta 0:00:00\n",
            "Collecting kiwisolver>=1.3.1\n",
            "  Downloading kiwisolver-1.4.8-cp311-cp311-win_amd64.whl (71 kB)\n",
            "     ---------------------------------------- 72.0/72.0 kB 3.9 MB/s eta 0:00:00\n",
            "Requirement already satisfied: pillow>=8 in c:\\users\\jdmartinev\\onedrive - universidad eafit\\cursos\\inteligencia artificial - im\\lecture13\\notebooks\\ragenv\\lib\\site-packages (from matplotlib->bert_score) (11.2.1)\n",
            "Collecting pyparsing>=2.3.1\n",
            "  Downloading pyparsing-3.2.3-py3-none-any.whl (111 kB)\n",
            "     -------------------------------------- 111.1/111.1 kB 6.3 MB/s eta 0:00:00\n",
            "Requirement already satisfied: charset-normalizer<4,>=2 in c:\\users\\jdmartinev\\onedrive - universidad eafit\\cursos\\inteligencia artificial - im\\lecture13\\notebooks\\ragenv\\lib\\site-packages (from requests->bert_score) (3.4.1)\n",
            "Requirement already satisfied: idna<4,>=2.5 in c:\\users\\jdmartinev\\onedrive - universidad eafit\\cursos\\inteligencia artificial - im\\lecture13\\notebooks\\ragenv\\lib\\site-packages (from requests->bert_score) (3.10)\n",
            "Requirement already satisfied: urllib3<3,>=1.21.1 in c:\\users\\jdmartinev\\onedrive - universidad eafit\\cursos\\inteligencia artificial - im\\lecture13\\notebooks\\ragenv\\lib\\site-packages (from requests->bert_score) (2.4.0)\n",
            "Requirement already satisfied: certifi>=2017.4.17 in c:\\users\\jdmartinev\\onedrive - universidad eafit\\cursos\\inteligencia artificial - im\\lecture13\\notebooks\\ragenv\\lib\\site-packages (from requests->bert_score) (2025.4.26)\n",
            "Requirement already satisfied: six>=1.5 in c:\\users\\jdmartinev\\onedrive - universidad eafit\\cursos\\inteligencia artificial - im\\lecture13\\notebooks\\ragenv\\lib\\site-packages (from python-dateutil>=2.8.2->pandas>=1.0.1->bert_score) (1.17.0)\n",
            "Requirement already satisfied: mpmath<1.4,>=1.1.0 in c:\\users\\jdmartinev\\onedrive - universidad eafit\\cursos\\inteligencia artificial - im\\lecture13\\notebooks\\ragenv\\lib\\site-packages (from sympy>=1.13.3->torch>=1.0.0->bert_score) (1.3.0)\n",
            "Requirement already satisfied: MarkupSafe>=2.0 in c:\\users\\jdmartinev\\onedrive - universidad eafit\\cursos\\inteligencia artificial - im\\lecture13\\notebooks\\ragenv\\lib\\site-packages (from jinja2->torch>=1.0.0->bert_score) (3.0.2)\n",
            "Installing collected packages: pyparsing, kiwisolver, fonttools, cycler, contourpy, matplotlib, bert_score\n",
            "Successfully installed bert_score-0.3.13 contourpy-1.3.2 cycler-0.12.1 fonttools-4.57.0 kiwisolver-1.4.8 matplotlib-3.10.1 pyparsing-3.2.3\n"
          ]
        },
        {
          "name": "stderr",
          "output_type": "stream",
          "text": [
            "\n",
            "[notice] A new release of pip available: 22.3 -> 25.1\n",
            "[notice] To update, run: python.exe -m pip install --upgrade pip\n"
          ]
        }
      ],
      "source": [
        "!pip install evaluate\n",
        "!pip install bert_score"
      ]
    },
    {
      "cell_type": "markdown",
      "metadata": {},
      "source": [
        "Recall@K mide la capacidad del sistema de recuperar información correcta.\n",
        "Si el recall es alto (cercano a 1), la recuperación es precisa."
      ]
    },
    {
      "cell_type": "markdown",
      "metadata": {},
      "source": [
        "## 6.2 Evaluación de la Generación con ROUGE"
      ]
    },
    {
      "cell_type": "code",
      "execution_count": 23,
      "metadata": {},
      "outputs": [
        {
          "name": "stderr",
          "output_type": "stream",
          "text": [
            "c:\\Users\\jdmartinev\\OneDrive - Universidad EAFIT\\Cursos\\Inteligencia Artificial - IM\\Lecture13\\notebooks\\ragenv\\Lib\\site-packages\\huggingface_hub\\file_download.py:144: UserWarning: `huggingface_hub` cache-system uses symlinks by default to efficiently store duplicated files but your machine does not support them in C:\\Users\\jdmartinev\\.cache\\huggingface\\hub\\models--bert-base-multilingual-cased. Caching files will still work but in a degraded version that might require more space on your disk. This warning can be disabled by setting the `HF_HUB_DISABLE_SYMLINKS_WARNING` environment variable. For more details, see https://huggingface.co/docs/huggingface_hub/how-to-cache#limitations.\n",
            "To support symlinks on Windows, you either need to activate Developer Mode or to run Python as an administrator. In order to activate developer mode, see this article: https://docs.microsoft.com/en-us/windows/apps/get-started/enable-your-device-for-development\n",
            "  warnings.warn(message)\n",
            "Xet Storage is enabled for this repo, but the 'hf_xet' package is not installed. Falling back to regular HTTP download. For better performance, install the package with: `pip install huggingface_hub[hf_xet]` or `pip install hf_xet`\n"
          ]
        },
        {
          "name": "stdout",
          "output_type": "stream",
          "text": [
            "Precision: [0.6775435209274292]\n",
            "Recall: [0.8214945793151855]\n",
            "F1: [0.7426072955131531]\n"
          ]
        }
      ],
      "source": [
        "import evaluate\n",
        "\n",
        "# 1. Load BERTScore metric\n",
        "bertscore = evaluate.load(\"bertscore\")\n",
        "\n",
        "\n",
        "# Comparar respuestas generadas vs. esperadas\n",
        "reference = [\"El cambio climático está afectando las temperaturas globales.\"]\n",
        "generated = [rag_query(\"¿Cómo afecta el cambio climático al planeta?\").content]\n",
        "\n",
        "results = bertscore.compute(\n",
        "    predictions=generated,\n",
        "    references=reference,\n",
        "    lang=\"es\"  # \"en\" for English, \"es\" for Spanish\n",
        ")\n",
        "\n",
        "\n",
        "# 4. See the results\n",
        "print(f\"Precision: {results['precision']}\")\n",
        "print(f\"Recall: {results['recall']}\")\n",
        "print(f\"F1: {results['f1']}\")\n"
      ]
    },
    {
      "cell_type": "code",
      "execution_count": 22,
      "metadata": {},
      "outputs": [
        {
          "data": {
            "text/plain": [
              "'El cambio climático está afectando las temperaturas globales.'"
            ]
          },
          "execution_count": 22,
          "metadata": {},
          "output_type": "execute_result"
        }
      ],
      "source": [
        "reference"
      ]
    },
    {
      "cell_type": "markdown",
      "metadata": {},
      "source": [
        "ROUGE mide la similitud entre la respuesta generada y la respuesta esperada.\n",
        "ROUGE alto indica que el modelo genera respuestas precisas."
      ]
    },
    {
      "cell_type": "markdown",
      "metadata": {},
      "source": [
        "# Conclusiones\n",
        "\n",
        "* Creamos un sistema RAG real con ChromaDB y OpenAI para búsqueda de noticias.\n",
        "* Probamos consultas reales y generamos respuestas con GPT-4.\n",
        "* Evaluamos la recuperación con Recall@K y la generación con ROUGE.\n",
        "\n",
        "RETO: (1) actualización automática de noticias - (2) visualización de embeddings"
      ]
    }
  ],
  "metadata": {
    "colab": {
      "name": "lab1-nltk.ipynb",
      "provenance": []
    },
    "kernelspec": {
      "display_name": "Python 3.11.0 ('ragenv': venv)",
      "language": "python",
      "name": "python3"
    },
    "language_info": {
      "codemirror_mode": {
        "name": "ipython",
        "version": 3
      },
      "file_extension": ".py",
      "mimetype": "text/x-python",
      "name": "python",
      "nbconvert_exporter": "python",
      "pygments_lexer": "ipython3",
      "version": "3.11.0"
    },
    "vscode": {
      "interpreter": {
        "hash": "22c546e77d2fe8325e209a0f43f772143b9c34a54ef7c490a2c1a7d7af200d42"
      }
    }
  },
  "nbformat": 4,
  "nbformat_minor": 2
}
