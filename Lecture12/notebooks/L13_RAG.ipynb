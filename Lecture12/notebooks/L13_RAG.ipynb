{
  "nbformat": 4,
  "nbformat_minor": 0,
  "metadata": {
    "colab": {
      "provenance": [],
      "gpuType": "T4",
      "mount_file_id": "1O-hZcmCp7_g5eRRE44da4ypp30CM5r2u",
      "authorship_tag": "ABX9TyPpUEM4NQs7JXCPLJ0y22nC",
      "include_colab_link": true
    },
    "kernelspec": {
      "name": "python3",
      "display_name": "Python 3"
    },
    "language_info": {
      "name": "python"
    },
    "accelerator": "GPU",
    "widgets": {
      "application/vnd.jupyter.widget-state+json": {
        "6412b72cf1814383aebbcf069600efe2": {
          "model_module": "@jupyter-widgets/controls",
          "model_name": "HBoxModel",
          "model_module_version": "1.5.0",
          "state": {
            "_dom_classes": [],
            "_model_module": "@jupyter-widgets/controls",
            "_model_module_version": "1.5.0",
            "_model_name": "HBoxModel",
            "_view_count": null,
            "_view_module": "@jupyter-widgets/controls",
            "_view_module_version": "1.5.0",
            "_view_name": "HBoxView",
            "box_style": "",
            "children": [
              "IPY_MODEL_1399f98b81094298b80dee20f57b99ae",
              "IPY_MODEL_d9537f970ce247ef90f6be1a04a44ae5",
              "IPY_MODEL_b956b695ce8f4b59853c56d2915d436c"
            ],
            "layout": "IPY_MODEL_d8dee733c3ea4e559dcee3e57fbb905a"
          }
        },
        "1399f98b81094298b80dee20f57b99ae": {
          "model_module": "@jupyter-widgets/controls",
          "model_name": "HTMLModel",
          "model_module_version": "1.5.0",
          "state": {
            "_dom_classes": [],
            "_model_module": "@jupyter-widgets/controls",
            "_model_module_version": "1.5.0",
            "_model_name": "HTMLModel",
            "_view_count": null,
            "_view_module": "@jupyter-widgets/controls",
            "_view_module_version": "1.5.0",
            "_view_name": "HTMLView",
            "description": "",
            "description_tooltip": null,
            "layout": "IPY_MODEL_e038a6ee22bc45c498592577969b9eaa",
            "placeholder": "​",
            "style": "IPY_MODEL_f791c644e0384fd4abd97a756540b77d",
            "value": "100%"
          }
        },
        "d9537f970ce247ef90f6be1a04a44ae5": {
          "model_module": "@jupyter-widgets/controls",
          "model_name": "FloatProgressModel",
          "model_module_version": "1.5.0",
          "state": {
            "_dom_classes": [],
            "_model_module": "@jupyter-widgets/controls",
            "_model_module_version": "1.5.0",
            "_model_name": "FloatProgressModel",
            "_view_count": null,
            "_view_module": "@jupyter-widgets/controls",
            "_view_module_version": "1.5.0",
            "_view_name": "ProgressView",
            "bar_style": "success",
            "description": "",
            "description_tooltip": null,
            "layout": "IPY_MODEL_1045986536444c9194e736b0985c552a",
            "max": 7,
            "min": 0,
            "orientation": "horizontal",
            "style": "IPY_MODEL_7bec715009174617bf76b03b170a5740",
            "value": 7
          }
        },
        "b956b695ce8f4b59853c56d2915d436c": {
          "model_module": "@jupyter-widgets/controls",
          "model_name": "HTMLModel",
          "model_module_version": "1.5.0",
          "state": {
            "_dom_classes": [],
            "_model_module": "@jupyter-widgets/controls",
            "_model_module_version": "1.5.0",
            "_model_name": "HTMLModel",
            "_view_count": null,
            "_view_module": "@jupyter-widgets/controls",
            "_view_module_version": "1.5.0",
            "_view_name": "HTMLView",
            "description": "",
            "description_tooltip": null,
            "layout": "IPY_MODEL_5d2366a67b174a6babbcb275b72569fa",
            "placeholder": "​",
            "style": "IPY_MODEL_7fe59620577f446ea33c95bbfc61baa1",
            "value": " 7/7 [01:18&lt;00:00, 11.66s/it]"
          }
        },
        "d8dee733c3ea4e559dcee3e57fbb905a": {
          "model_module": "@jupyter-widgets/base",
          "model_name": "LayoutModel",
          "model_module_version": "1.2.0",
          "state": {
            "_model_module": "@jupyter-widgets/base",
            "_model_module_version": "1.2.0",
            "_model_name": "LayoutModel",
            "_view_count": null,
            "_view_module": "@jupyter-widgets/base",
            "_view_module_version": "1.2.0",
            "_view_name": "LayoutView",
            "align_content": null,
            "align_items": null,
            "align_self": null,
            "border": null,
            "bottom": null,
            "display": null,
            "flex": null,
            "flex_flow": null,
            "grid_area": null,
            "grid_auto_columns": null,
            "grid_auto_flow": null,
            "grid_auto_rows": null,
            "grid_column": null,
            "grid_gap": null,
            "grid_row": null,
            "grid_template_areas": null,
            "grid_template_columns": null,
            "grid_template_rows": null,
            "height": null,
            "justify_content": null,
            "justify_items": null,
            "left": null,
            "margin": null,
            "max_height": null,
            "max_width": null,
            "min_height": null,
            "min_width": null,
            "object_fit": null,
            "object_position": null,
            "order": null,
            "overflow": null,
            "overflow_x": null,
            "overflow_y": null,
            "padding": null,
            "right": null,
            "top": null,
            "visibility": null,
            "width": null
          }
        },
        "e038a6ee22bc45c498592577969b9eaa": {
          "model_module": "@jupyter-widgets/base",
          "model_name": "LayoutModel",
          "model_module_version": "1.2.0",
          "state": {
            "_model_module": "@jupyter-widgets/base",
            "_model_module_version": "1.2.0",
            "_model_name": "LayoutModel",
            "_view_count": null,
            "_view_module": "@jupyter-widgets/base",
            "_view_module_version": "1.2.0",
            "_view_name": "LayoutView",
            "align_content": null,
            "align_items": null,
            "align_self": null,
            "border": null,
            "bottom": null,
            "display": null,
            "flex": null,
            "flex_flow": null,
            "grid_area": null,
            "grid_auto_columns": null,
            "grid_auto_flow": null,
            "grid_auto_rows": null,
            "grid_column": null,
            "grid_gap": null,
            "grid_row": null,
            "grid_template_areas": null,
            "grid_template_columns": null,
            "grid_template_rows": null,
            "height": null,
            "justify_content": null,
            "justify_items": null,
            "left": null,
            "margin": null,
            "max_height": null,
            "max_width": null,
            "min_height": null,
            "min_width": null,
            "object_fit": null,
            "object_position": null,
            "order": null,
            "overflow": null,
            "overflow_x": null,
            "overflow_y": null,
            "padding": null,
            "right": null,
            "top": null,
            "visibility": null,
            "width": null
          }
        },
        "f791c644e0384fd4abd97a756540b77d": {
          "model_module": "@jupyter-widgets/controls",
          "model_name": "DescriptionStyleModel",
          "model_module_version": "1.5.0",
          "state": {
            "_model_module": "@jupyter-widgets/controls",
            "_model_module_version": "1.5.0",
            "_model_name": "DescriptionStyleModel",
            "_view_count": null,
            "_view_module": "@jupyter-widgets/base",
            "_view_module_version": "1.2.0",
            "_view_name": "StyleView",
            "description_width": ""
          }
        },
        "1045986536444c9194e736b0985c552a": {
          "model_module": "@jupyter-widgets/base",
          "model_name": "LayoutModel",
          "model_module_version": "1.2.0",
          "state": {
            "_model_module": "@jupyter-widgets/base",
            "_model_module_version": "1.2.0",
            "_model_name": "LayoutModel",
            "_view_count": null,
            "_view_module": "@jupyter-widgets/base",
            "_view_module_version": "1.2.0",
            "_view_name": "LayoutView",
            "align_content": null,
            "align_items": null,
            "align_self": null,
            "border": null,
            "bottom": null,
            "display": null,
            "flex": null,
            "flex_flow": null,
            "grid_area": null,
            "grid_auto_columns": null,
            "grid_auto_flow": null,
            "grid_auto_rows": null,
            "grid_column": null,
            "grid_gap": null,
            "grid_row": null,
            "grid_template_areas": null,
            "grid_template_columns": null,
            "grid_template_rows": null,
            "height": null,
            "justify_content": null,
            "justify_items": null,
            "left": null,
            "margin": null,
            "max_height": null,
            "max_width": null,
            "min_height": null,
            "min_width": null,
            "object_fit": null,
            "object_position": null,
            "order": null,
            "overflow": null,
            "overflow_x": null,
            "overflow_y": null,
            "padding": null,
            "right": null,
            "top": null,
            "visibility": null,
            "width": null
          }
        },
        "7bec715009174617bf76b03b170a5740": {
          "model_module": "@jupyter-widgets/controls",
          "model_name": "ProgressStyleModel",
          "model_module_version": "1.5.0",
          "state": {
            "_model_module": "@jupyter-widgets/controls",
            "_model_module_version": "1.5.0",
            "_model_name": "ProgressStyleModel",
            "_view_count": null,
            "_view_module": "@jupyter-widgets/base",
            "_view_module_version": "1.2.0",
            "_view_name": "StyleView",
            "bar_color": null,
            "description_width": ""
          }
        },
        "5d2366a67b174a6babbcb275b72569fa": {
          "model_module": "@jupyter-widgets/base",
          "model_name": "LayoutModel",
          "model_module_version": "1.2.0",
          "state": {
            "_model_module": "@jupyter-widgets/base",
            "_model_module_version": "1.2.0",
            "_model_name": "LayoutModel",
            "_view_count": null,
            "_view_module": "@jupyter-widgets/base",
            "_view_module_version": "1.2.0",
            "_view_name": "LayoutView",
            "align_content": null,
            "align_items": null,
            "align_self": null,
            "border": null,
            "bottom": null,
            "display": null,
            "flex": null,
            "flex_flow": null,
            "grid_area": null,
            "grid_auto_columns": null,
            "grid_auto_flow": null,
            "grid_auto_rows": null,
            "grid_column": null,
            "grid_gap": null,
            "grid_row": null,
            "grid_template_areas": null,
            "grid_template_columns": null,
            "grid_template_rows": null,
            "height": null,
            "justify_content": null,
            "justify_items": null,
            "left": null,
            "margin": null,
            "max_height": null,
            "max_width": null,
            "min_height": null,
            "min_width": null,
            "object_fit": null,
            "object_position": null,
            "order": null,
            "overflow": null,
            "overflow_x": null,
            "overflow_y": null,
            "padding": null,
            "right": null,
            "top": null,
            "visibility": null,
            "width": null
          }
        },
        "7fe59620577f446ea33c95bbfc61baa1": {
          "model_module": "@jupyter-widgets/controls",
          "model_name": "DescriptionStyleModel",
          "model_module_version": "1.5.0",
          "state": {
            "_model_module": "@jupyter-widgets/controls",
            "_model_module_version": "1.5.0",
            "_model_name": "DescriptionStyleModel",
            "_view_count": null,
            "_view_module": "@jupyter-widgets/base",
            "_view_module_version": "1.2.0",
            "_view_name": "StyleView",
            "description_width": ""
          }
        }
      }
    }
  },
  "cells": [
    {
      "cell_type": "markdown",
      "metadata": {
        "id": "view-in-github",
        "colab_type": "text"
      },
      "source": [
        "<a href=\"https://colab.research.google.com/github/jdmartinev/ArtificialIntelligenceIM/blob/main/Lecture12/notebooks/L12_RAG.ipynb\" target=\"_parent\"><img src=\"https://colab.research.google.com/assets/colab-badge.svg\" alt=\"Open In Colab\"/></a>"
      ]
    },
    {
      "cell_type": "code",
      "execution_count": 60,
      "metadata": {
        "colab": {
          "base_uri": "https://localhost:8080/"
        },
        "id": "sD2bTPBHufFP",
        "outputId": "c6c9eee3-7a90-4fc7-cb58-6e57d53ed789"
      },
      "outputs": [
        {
          "output_type": "stream",
          "name": "stdout",
          "text": [
            "Collecting openai\n",
            "  Downloading openai-1.52.0-py3-none-any.whl.metadata (24 kB)\n",
            "Requirement already satisfied: anyio<5,>=3.5.0 in /usr/local/lib/python3.10/dist-packages (from openai) (3.7.1)\n",
            "Requirement already satisfied: distro<2,>=1.7.0 in /usr/lib/python3/dist-packages (from openai) (1.7.0)\n",
            "Requirement already satisfied: httpx<1,>=0.23.0 in /usr/local/lib/python3.10/dist-packages (from openai) (0.27.2)\n",
            "Collecting jiter<1,>=0.4.0 (from openai)\n",
            "  Downloading jiter-0.6.1-cp310-cp310-manylinux_2_17_x86_64.manylinux2014_x86_64.whl.metadata (5.2 kB)\n",
            "Requirement already satisfied: pydantic<3,>=1.9.0 in /usr/local/lib/python3.10/dist-packages (from openai) (2.9.2)\n",
            "Requirement already satisfied: sniffio in /usr/local/lib/python3.10/dist-packages (from openai) (1.3.1)\n",
            "Requirement already satisfied: tqdm>4 in /usr/local/lib/python3.10/dist-packages (from openai) (4.66.5)\n",
            "Requirement already satisfied: typing-extensions<5,>=4.11 in /usr/local/lib/python3.10/dist-packages (from openai) (4.12.2)\n",
            "Requirement already satisfied: idna>=2.8 in /usr/local/lib/python3.10/dist-packages (from anyio<5,>=3.5.0->openai) (3.10)\n",
            "Requirement already satisfied: exceptiongroup in /usr/local/lib/python3.10/dist-packages (from anyio<5,>=3.5.0->openai) (1.2.2)\n",
            "Requirement already satisfied: certifi in /usr/local/lib/python3.10/dist-packages (from httpx<1,>=0.23.0->openai) (2024.8.30)\n",
            "Requirement already satisfied: httpcore==1.* in /usr/local/lib/python3.10/dist-packages (from httpx<1,>=0.23.0->openai) (1.0.6)\n",
            "Requirement already satisfied: h11<0.15,>=0.13 in /usr/local/lib/python3.10/dist-packages (from httpcore==1.*->httpx<1,>=0.23.0->openai) (0.14.0)\n",
            "Requirement already satisfied: annotated-types>=0.6.0 in /usr/local/lib/python3.10/dist-packages (from pydantic<3,>=1.9.0->openai) (0.7.0)\n",
            "Requirement already satisfied: pydantic-core==2.23.4 in /usr/local/lib/python3.10/dist-packages (from pydantic<3,>=1.9.0->openai) (2.23.4)\n",
            "Downloading openai-1.52.0-py3-none-any.whl (386 kB)\n",
            "\u001b[2K   \u001b[90m━━━━━━━━━━━━━━━━━━━━━━━━━━━━━━━━━━━━━━━━\u001b[0m \u001b[32m386.9/386.9 kB\u001b[0m \u001b[31m23.8 MB/s\u001b[0m eta \u001b[36m0:00:00\u001b[0m\n",
            "\u001b[?25hDownloading jiter-0.6.1-cp310-cp310-manylinux_2_17_x86_64.manylinux2014_x86_64.whl (325 kB)\n",
            "\u001b[2K   \u001b[90m━━━━━━━━━━━━━━━━━━━━━━━━━━━━━━━━━━━━━━━━\u001b[0m \u001b[32m325.2/325.2 kB\u001b[0m \u001b[31m24.9 MB/s\u001b[0m eta \u001b[36m0:00:00\u001b[0m\n",
            "\u001b[?25hInstalling collected packages: jiter, openai\n",
            "Successfully installed jiter-0.6.1 openai-1.52.0\n",
            "Requirement already satisfied: python-dotenv in /usr/local/lib/python3.10/dist-packages (1.0.1)\n",
            "Requirement already satisfied: tqdm in /usr/local/lib/python3.10/dist-packages (4.66.5)\n"
          ]
        }
      ],
      "source": [
        "!pip install -q langchain\n",
        "!pip install -q faiss-cpu\n",
        "!pip install -q pypdf\n",
        "!pip install openai\n",
        "!pip install python-dotenv\n",
        "!pip install tqdm"
      ]
    },
    {
      "cell_type": "code",
      "source": [
        "!pip install -qU langchain-openai"
      ],
      "metadata": {
        "colab": {
          "base_uri": "https://localhost:8080/"
        },
        "id": "wCX8V0CD1ux0",
        "outputId": "a65147ac-14d3-48e8-f37d-c54ece7629b1"
      },
      "execution_count": 62,
      "outputs": [
        {
          "output_type": "stream",
          "name": "stdout",
          "text": [
            "\u001b[?25l   \u001b[90m━━━━━━━━━━━━━━━━━━━━━━━━━━━━━━━━━━━━━━━━\u001b[0m \u001b[32m0.0/49.9 kB\u001b[0m \u001b[31m?\u001b[0m eta \u001b[36m-:--:--\u001b[0m\r\u001b[2K   \u001b[90m━━━━━━━━━━━━━━━━━━━━━━━━━━━━━━━━━━━━━━━━\u001b[0m \u001b[32m49.9/49.9 kB\u001b[0m \u001b[31m3.5 MB/s\u001b[0m eta \u001b[36m0:00:00\u001b[0m\n",
            "\u001b[?25h\u001b[?25l   \u001b[90m━━━━━━━━━━━━━━━━━━━━━━━━━━━━━━━━━━━━━━━━\u001b[0m \u001b[32m0.0/1.2 MB\u001b[0m \u001b[31m?\u001b[0m eta \u001b[36m-:--:--\u001b[0m\r\u001b[2K   \u001b[91m━━━━━━━━━━━━━━━━━━━━━━━━━━━━━━━━━━━━━━━\u001b[0m\u001b[91m╸\u001b[0m \u001b[32m1.2/1.2 MB\u001b[0m \u001b[31m71.5 MB/s\u001b[0m eta \u001b[36m0:00:01\u001b[0m\r\u001b[2K   \u001b[90m━━━━━━━━━━━━━━━━━━━━━━━━━━━━━━━━━━━━━━━━\u001b[0m \u001b[32m1.2/1.2 MB\u001b[0m \u001b[31m30.5 MB/s\u001b[0m eta \u001b[36m0:00:00\u001b[0m\n",
            "\u001b[?25h"
          ]
        }
      ]
    },
    {
      "cell_type": "code",
      "source": [
        "!pip install -U langchain-community"
      ],
      "metadata": {
        "colab": {
          "base_uri": "https://localhost:8080/"
        },
        "id": "knWS6tDTwAU8",
        "outputId": "5581aae5-52f8-401d-b170-4cd8aba051ae"
      },
      "execution_count": 5,
      "outputs": [
        {
          "output_type": "stream",
          "name": "stdout",
          "text": [
            "Collecting langchain-community\n",
            "  Downloading langchain_community-0.3.3-py3-none-any.whl.metadata (2.8 kB)\n",
            "Requirement already satisfied: PyYAML>=5.3 in /usr/local/lib/python3.10/dist-packages (from langchain-community) (6.0.2)\n",
            "Requirement already satisfied: SQLAlchemy<3,>=1.4 in /usr/local/lib/python3.10/dist-packages (from langchain-community) (2.0.36)\n",
            "Requirement already satisfied: aiohttp<4.0.0,>=3.8.3 in /usr/local/lib/python3.10/dist-packages (from langchain-community) (3.10.10)\n",
            "Collecting dataclasses-json<0.7,>=0.5.7 (from langchain-community)\n",
            "  Downloading dataclasses_json-0.6.7-py3-none-any.whl.metadata (25 kB)\n",
            "Requirement already satisfied: langchain<0.4.0,>=0.3.4 in /usr/local/lib/python3.10/dist-packages (from langchain-community) (0.3.4)\n",
            "Requirement already satisfied: langchain-core<0.4.0,>=0.3.12 in /usr/local/lib/python3.10/dist-packages (from langchain-community) (0.3.12)\n",
            "Requirement already satisfied: langsmith<0.2.0,>=0.1.125 in /usr/local/lib/python3.10/dist-packages (from langchain-community) (0.1.136)\n",
            "Requirement already satisfied: numpy<2,>=1 in /usr/local/lib/python3.10/dist-packages (from langchain-community) (1.26.4)\n",
            "Collecting pydantic-settings<3.0.0,>=2.4.0 (from langchain-community)\n",
            "  Downloading pydantic_settings-2.6.0-py3-none-any.whl.metadata (3.5 kB)\n",
            "Requirement already satisfied: requests<3,>=2 in /usr/local/lib/python3.10/dist-packages (from langchain-community) (2.32.3)\n",
            "Requirement already satisfied: tenacity!=8.4.0,<10,>=8.1.0 in /usr/local/lib/python3.10/dist-packages (from langchain-community) (9.0.0)\n",
            "Requirement already satisfied: aiohappyeyeballs>=2.3.0 in /usr/local/lib/python3.10/dist-packages (from aiohttp<4.0.0,>=3.8.3->langchain-community) (2.4.3)\n",
            "Requirement already satisfied: aiosignal>=1.1.2 in /usr/local/lib/python3.10/dist-packages (from aiohttp<4.0.0,>=3.8.3->langchain-community) (1.3.1)\n",
            "Requirement already satisfied: attrs>=17.3.0 in /usr/local/lib/python3.10/dist-packages (from aiohttp<4.0.0,>=3.8.3->langchain-community) (24.2.0)\n",
            "Requirement already satisfied: frozenlist>=1.1.1 in /usr/local/lib/python3.10/dist-packages (from aiohttp<4.0.0,>=3.8.3->langchain-community) (1.4.1)\n",
            "Requirement already satisfied: multidict<7.0,>=4.5 in /usr/local/lib/python3.10/dist-packages (from aiohttp<4.0.0,>=3.8.3->langchain-community) (6.1.0)\n",
            "Requirement already satisfied: yarl<2.0,>=1.12.0 in /usr/local/lib/python3.10/dist-packages (from aiohttp<4.0.0,>=3.8.3->langchain-community) (1.15.2)\n",
            "Requirement already satisfied: async-timeout<5.0,>=4.0 in /usr/local/lib/python3.10/dist-packages (from aiohttp<4.0.0,>=3.8.3->langchain-community) (4.0.3)\n",
            "Collecting marshmallow<4.0.0,>=3.18.0 (from dataclasses-json<0.7,>=0.5.7->langchain-community)\n",
            "  Downloading marshmallow-3.23.0-py3-none-any.whl.metadata (7.6 kB)\n",
            "Collecting typing-inspect<1,>=0.4.0 (from dataclasses-json<0.7,>=0.5.7->langchain-community)\n",
            "  Downloading typing_inspect-0.9.0-py3-none-any.whl.metadata (1.5 kB)\n",
            "Requirement already satisfied: langchain-text-splitters<0.4.0,>=0.3.0 in /usr/local/lib/python3.10/dist-packages (from langchain<0.4.0,>=0.3.4->langchain-community) (0.3.0)\n",
            "Requirement already satisfied: pydantic<3.0.0,>=2.7.4 in /usr/local/lib/python3.10/dist-packages (from langchain<0.4.0,>=0.3.4->langchain-community) (2.9.2)\n",
            "Requirement already satisfied: jsonpatch<2.0,>=1.33 in /usr/local/lib/python3.10/dist-packages (from langchain-core<0.4.0,>=0.3.12->langchain-community) (1.33)\n",
            "Requirement already satisfied: packaging<25,>=23.2 in /usr/local/lib/python3.10/dist-packages (from langchain-core<0.4.0,>=0.3.12->langchain-community) (24.1)\n",
            "Requirement already satisfied: typing-extensions>=4.7 in /usr/local/lib/python3.10/dist-packages (from langchain-core<0.4.0,>=0.3.12->langchain-community) (4.12.2)\n",
            "Requirement already satisfied: httpx<1,>=0.23.0 in /usr/local/lib/python3.10/dist-packages (from langsmith<0.2.0,>=0.1.125->langchain-community) (0.27.2)\n",
            "Requirement already satisfied: orjson<4.0.0,>=3.9.14 in /usr/local/lib/python3.10/dist-packages (from langsmith<0.2.0,>=0.1.125->langchain-community) (3.10.9)\n",
            "Requirement already satisfied: requests-toolbelt<2.0.0,>=1.0.0 in /usr/local/lib/python3.10/dist-packages (from langsmith<0.2.0,>=0.1.125->langchain-community) (1.0.0)\n",
            "Requirement already satisfied: python-dotenv>=0.21.0 in /usr/local/lib/python3.10/dist-packages (from pydantic-settings<3.0.0,>=2.4.0->langchain-community) (1.0.1)\n",
            "Requirement already satisfied: charset-normalizer<4,>=2 in /usr/local/lib/python3.10/dist-packages (from requests<3,>=2->langchain-community) (3.4.0)\n",
            "Requirement already satisfied: idna<4,>=2.5 in /usr/local/lib/python3.10/dist-packages (from requests<3,>=2->langchain-community) (3.10)\n",
            "Requirement already satisfied: urllib3<3,>=1.21.1 in /usr/local/lib/python3.10/dist-packages (from requests<3,>=2->langchain-community) (2.2.3)\n",
            "Requirement already satisfied: certifi>=2017.4.17 in /usr/local/lib/python3.10/dist-packages (from requests<3,>=2->langchain-community) (2024.8.30)\n",
            "Requirement already satisfied: greenlet!=0.4.17 in /usr/local/lib/python3.10/dist-packages (from SQLAlchemy<3,>=1.4->langchain-community) (3.1.1)\n",
            "Requirement already satisfied: anyio in /usr/local/lib/python3.10/dist-packages (from httpx<1,>=0.23.0->langsmith<0.2.0,>=0.1.125->langchain-community) (3.7.1)\n",
            "Requirement already satisfied: httpcore==1.* in /usr/local/lib/python3.10/dist-packages (from httpx<1,>=0.23.0->langsmith<0.2.0,>=0.1.125->langchain-community) (1.0.6)\n",
            "Requirement already satisfied: sniffio in /usr/local/lib/python3.10/dist-packages (from httpx<1,>=0.23.0->langsmith<0.2.0,>=0.1.125->langchain-community) (1.3.1)\n",
            "Requirement already satisfied: h11<0.15,>=0.13 in /usr/local/lib/python3.10/dist-packages (from httpcore==1.*->httpx<1,>=0.23.0->langsmith<0.2.0,>=0.1.125->langchain-community) (0.14.0)\n",
            "Requirement already satisfied: jsonpointer>=1.9 in /usr/local/lib/python3.10/dist-packages (from jsonpatch<2.0,>=1.33->langchain-core<0.4.0,>=0.3.12->langchain-community) (3.0.0)\n",
            "Requirement already satisfied: annotated-types>=0.6.0 in /usr/local/lib/python3.10/dist-packages (from pydantic<3.0.0,>=2.7.4->langchain<0.4.0,>=0.3.4->langchain-community) (0.7.0)\n",
            "Requirement already satisfied: pydantic-core==2.23.4 in /usr/local/lib/python3.10/dist-packages (from pydantic<3.0.0,>=2.7.4->langchain<0.4.0,>=0.3.4->langchain-community) (2.23.4)\n",
            "Collecting mypy-extensions>=0.3.0 (from typing-inspect<1,>=0.4.0->dataclasses-json<0.7,>=0.5.7->langchain-community)\n",
            "  Downloading mypy_extensions-1.0.0-py3-none-any.whl.metadata (1.1 kB)\n",
            "Requirement already satisfied: propcache>=0.2.0 in /usr/local/lib/python3.10/dist-packages (from yarl<2.0,>=1.12.0->aiohttp<4.0.0,>=3.8.3->langchain-community) (0.2.0)\n",
            "Requirement already satisfied: exceptiongroup in /usr/local/lib/python3.10/dist-packages (from anyio->httpx<1,>=0.23.0->langsmith<0.2.0,>=0.1.125->langchain-community) (1.2.2)\n",
            "Downloading langchain_community-0.3.3-py3-none-any.whl (2.4 MB)\n",
            "\u001b[2K   \u001b[90m━━━━━━━━━━━━━━━━━━━━━━━━━━━━━━━━━━━━━━━━\u001b[0m \u001b[32m2.4/2.4 MB\u001b[0m \u001b[31m66.0 MB/s\u001b[0m eta \u001b[36m0:00:00\u001b[0m\n",
            "\u001b[?25hDownloading dataclasses_json-0.6.7-py3-none-any.whl (28 kB)\n",
            "Downloading pydantic_settings-2.6.0-py3-none-any.whl (28 kB)\n",
            "Downloading marshmallow-3.23.0-py3-none-any.whl (49 kB)\n",
            "\u001b[2K   \u001b[90m━━━━━━━━━━━━━━━━━━━━━━━━━━━━━━━━━━━━━━━━\u001b[0m \u001b[32m49.5/49.5 kB\u001b[0m \u001b[31m4.3 MB/s\u001b[0m eta \u001b[36m0:00:00\u001b[0m\n",
            "\u001b[?25hDownloading typing_inspect-0.9.0-py3-none-any.whl (8.8 kB)\n",
            "Downloading mypy_extensions-1.0.0-py3-none-any.whl (4.7 kB)\n",
            "Installing collected packages: mypy-extensions, marshmallow, typing-inspect, pydantic-settings, dataclasses-json, langchain-community\n",
            "Successfully installed dataclasses-json-0.6.7 langchain-community-0.3.3 marshmallow-3.23.0 mypy-extensions-1.0.0 pydantic-settings-2.6.0 typing-inspect-0.9.0\n"
          ]
        }
      ]
    },
    {
      "cell_type": "code",
      "source": [
        "cd '/content/drive/MyDrive/Courses/AI/Lecture12'"
      ],
      "metadata": {
        "colab": {
          "base_uri": "https://localhost:8080/"
        },
        "id": "mCjVRGiaw37P",
        "outputId": "3d899f9a-fb02-4b95-8e09-5b4b850e888b"
      },
      "execution_count": 13,
      "outputs": [
        {
          "output_type": "stream",
          "name": "stdout",
          "text": [
            "/content/drive/MyDrive/Courses/AI/Lecture12\n"
          ]
        }
      ]
    },
    {
      "cell_type": "code",
      "source": [
        "from langchain.text_splitter import RecursiveCharacterTextSplitter\n",
        "from langchain.vectorstores import FAISS\n",
        "from langchain.document_loaders import PyPDFLoader\n",
        "from langchain_openai import OpenAIEmbeddings\n",
        "from langchain_openai import ChatOpenAI\n",
        "\n",
        "from pprint import pprint\n",
        "import numpy as np\n",
        "from openai import OpenAI\n",
        "import os\n",
        "from dotenv import load_dotenv\n",
        "from tqdm.notebook import tqdm"
      ],
      "metadata": {
        "id": "BlvABnbyvR-b"
      },
      "execution_count": 89,
      "outputs": []
    },
    {
      "cell_type": "code",
      "source": [
        "load_dotenv('api_keys.env')\n",
        "api_key = os.getenv('OPENAI_API_KEY')\n",
        "# Create and retrieve a Cohere API key from os.cohere.ai\n",
        "#co = cohere.Client(api_key)"
      ],
      "metadata": {
        "id": "VxYKq3q3wxTM"
      },
      "execution_count": 65,
      "outputs": []
    },
    {
      "cell_type": "code",
      "source": [
        "def print_lines(text, max_ch = 50):\n",
        "  current_line = \"\"\n",
        "  words = text.split()\n",
        "  i = 0\n",
        "  while i < len(words):\n",
        "    if len(current_line) > 50:\n",
        "      print(current_line)\n",
        "      current_line = \"\"\n",
        "    else:\n",
        "      current_line += f\"{words[i]} \"\n",
        "      i+=1\n",
        "  if current_line:\n",
        "    print(current_line)"
      ],
      "metadata": {
        "id": "HqKLFSjx0P9t"
      },
      "execution_count": 41,
      "outputs": []
    },
    {
      "cell_type": "markdown",
      "source": [
        "## 1. Datasets"
      ],
      "metadata": {
        "id": "QbK4fM5IvnUf"
      }
    },
    {
      "cell_type": "code",
      "source": [
        "!wget --no-check-certificate 'https://docs.google.com/uc?export=download&id=1YcNlffQl6E09Erst__EZvlC0iJRgy6LF' -O libros.zip\n",
        "!unzip libros.zip -d ./libros"
      ],
      "metadata": {
        "colab": {
          "base_uri": "https://localhost:8080/"
        },
        "id": "tOyptyqnvpxW",
        "outputId": "44f7e734-e5ad-445a-c2fe-5bb0d98d5dc4"
      },
      "execution_count": 16,
      "outputs": [
        {
          "output_type": "stream",
          "name": "stdout",
          "text": [
            "--2024-10-21 15:48:46--  https://docs.google.com/uc?export=download&id=1YcNlffQl6E09Erst__EZvlC0iJRgy6LF\n",
            "Resolving docs.google.com (docs.google.com)... 142.251.10.138, 142.251.10.101, 142.251.10.100, ...\n",
            "Connecting to docs.google.com (docs.google.com)|142.251.10.138|:443... connected.\n",
            "HTTP request sent, awaiting response... 303 See Other\n",
            "Location: https://drive.usercontent.google.com/download?id=1YcNlffQl6E09Erst__EZvlC0iJRgy6LF&export=download [following]\n",
            "--2024-10-21 15:48:46--  https://drive.usercontent.google.com/download?id=1YcNlffQl6E09Erst__EZvlC0iJRgy6LF&export=download\n",
            "Resolving drive.usercontent.google.com (drive.usercontent.google.com)... 74.125.24.132, 2404:6800:4003:c05::84\n",
            "Connecting to drive.usercontent.google.com (drive.usercontent.google.com)|74.125.24.132|:443... connected.\n",
            "HTTP request sent, awaiting response... 200 OK\n",
            "Length: 20809441 (20M) [application/octet-stream]\n",
            "Saving to: ‘libros.zip’\n",
            "\n",
            "libros.zip          100%[===================>]  19.84M  58.2MB/s    in 0.3s    \n",
            "\n",
            "2024-10-21 15:48:52 (58.2 MB/s) - ‘libros.zip’ saved [20809441/20809441]\n",
            "\n",
            "Archive:  libros.zip\n",
            "  inflating: ./libros/Harry Potter - Book 3 - The Prisoner of Azkaban.pdf  \n",
            "  inflating: ./libros/Harry Potter - Book 1 - The Sorcerers Stone.pdf  \n",
            "  inflating: ./libros/Harry Potter - Book 2 - The Chamber of Secrets.pdf  \n",
            "  inflating: ./libros/Harry Potter - Book 6 - The Half-Blood Prince.pdf  \n",
            "  inflating: ./libros/Harry Potter - Book 7 - The Deathly Hallows.pdf  \n",
            "  inflating: ./libros/Harry Potter - Book 4 - The Goblet of Fire.pdf  \n",
            "  inflating: ./libros/Harry Potter - Book 5 - The Order of the Phoenix.pdf  \n"
          ]
        }
      ]
    },
    {
      "cell_type": "code",
      "source": [
        "path_docs = \"./libros\"\n",
        "os.listdir(path_docs)"
      ],
      "metadata": {
        "colab": {
          "base_uri": "https://localhost:8080/"
        },
        "id": "ZZ9sYbG2v1rN",
        "outputId": "ba1ea743-a646-45b9-a9c6-623bf0474d5e"
      },
      "execution_count": 17,
      "outputs": [
        {
          "output_type": "execute_result",
          "data": {
            "text/plain": [
              "['Harry Potter - Book 3 - The Prisoner of Azkaban.pdf',\n",
              " 'Harry Potter - Book 1 - The Sorcerers Stone.pdf',\n",
              " 'Harry Potter - Book 2 - The Chamber of Secrets.pdf',\n",
              " 'Harry Potter - Book 6 - The Half-Blood Prince.pdf',\n",
              " 'Harry Potter - Book 7 - The Deathly Hallows.pdf',\n",
              " 'Harry Potter - Book 4 - The Goblet of Fire.pdf',\n",
              " 'Harry Potter - Book 5 - The Order of the Phoenix.pdf']"
            ]
          },
          "metadata": {},
          "execution_count": 17
        }
      ]
    },
    {
      "cell_type": "code",
      "source": [
        "list_pdf = [x for x in os.listdir(path_docs) if x.endswith(\".pdf\")]"
      ],
      "metadata": {
        "id": "vWe0gzXOwK_3"
      },
      "execution_count": 18,
      "outputs": []
    },
    {
      "cell_type": "code",
      "source": [
        "chunk_size = 1000\n",
        "chunk_overlap = 200\n",
        "\n",
        "all_docs = []\n",
        "text_splitter = RecursiveCharacterTextSplitter(\n",
        "    chunk_size=chunk_size,\n",
        "    chunk_overlap=chunk_overlap\n",
        "    )\n",
        "\n",
        "for name in tqdm(list_pdf):\n",
        "  if name.endswith(\".pdf\"):\n",
        "    path_tmp = os.path.join(path_docs, name)\n",
        "    loader = PyPDFLoader(path_tmp)\n",
        "    text = loader.load()\n",
        "    chunks_of_text = text_splitter.split_documents(text)\n",
        "    all_docs.extend(chunks_of_text)"
      ],
      "metadata": {
        "colab": {
          "base_uri": "https://localhost:8080/",
          "height": 49,
          "referenced_widgets": [
            "6412b72cf1814383aebbcf069600efe2",
            "1399f98b81094298b80dee20f57b99ae",
            "d9537f970ce247ef90f6be1a04a44ae5",
            "b956b695ce8f4b59853c56d2915d436c",
            "d8dee733c3ea4e559dcee3e57fbb905a",
            "e038a6ee22bc45c498592577969b9eaa",
            "f791c644e0384fd4abd97a756540b77d",
            "1045986536444c9194e736b0985c552a",
            "7bec715009174617bf76b03b170a5740",
            "5d2366a67b174a6babbcb275b72569fa",
            "7fe59620577f446ea33c95bbfc61baa1"
          ]
        },
        "id": "vxaNTgxSwUct",
        "outputId": "f87f8a2b-19fe-4aa3-f496-2d3d90eb4e65"
      },
      "execution_count": 10,
      "outputs": [
        {
          "output_type": "display_data",
          "data": {
            "text/plain": [
              "  0%|          | 0/7 [00:00<?, ?it/s]"
            ],
            "application/vnd.jupyter.widget-view+json": {
              "version_major": 2,
              "version_minor": 0,
              "model_id": "6412b72cf1814383aebbcf069600efe2"
            }
          },
          "metadata": {}
        }
      ]
    },
    {
      "cell_type": "code",
      "source": [
        "chunk = all_docs[100]\n",
        "print_lines(chunk.page_content)"
      ],
      "metadata": {
        "colab": {
          "base_uri": "https://localhost:8080/"
        },
        "id": "QmdLcNhdwZHT",
        "outputId": "13b8d4e0-e6ff-4faa-b1df-25e5fa8e6fb4"
      },
      "execution_count": 42,
      "outputs": [
        {
          "output_type": "stream",
          "name": "stdout",
          "text": [
            "only ones the Trace can’t detect, because we don’t \n",
            "need to cast spells to use them: brooms, thestrals, \n",
            "and Hagrid’s motorbike.” Harry could see ﬂaws in this \n",
            "plan; however, he held his tongue to give Mad-Eye the \n",
            "chance to address them. “Now, your mother’s charm will \n",
            "only break under two condi- tions: when you come of \n",
            "age, or”—Moody gestured around the pristine kitchen—“you \n",
            "no longer call this place home. You and your aunt and \n",
            "uncle are going your separate ways tonight, in the \n",
            "full understanding that you’re never going to live \n",
            "together again, correct?” Harry nodded. “So this time, \n",
            "when you leave, there’ll be no going back, and the \n",
            "charm will break the moment you get outside its range. \n",
            "We’ve choosing to break it early, because the alternative \n",
            "is waiting for 47 \n"
          ]
        }
      ]
    },
    {
      "cell_type": "markdown",
      "source": [
        "# 2. Embeddings\n"
      ],
      "metadata": {
        "id": "_9dCmNlr3wYI"
      }
    },
    {
      "cell_type": "code",
      "source": [
        "client = OpenAI(\n",
        "    # This is the default and can be omitted\n",
        "    api_key=api_key,\n",
        ")\n",
        "\n",
        "from openai import OpenAI\n",
        "client = OpenAI()\n",
        "\n",
        "def get_embedding(text, model=\"text-embedding-3-small\"):\n",
        "   return client.embeddings.create(input = [text], model=model).data[0].embedding\n",
        "\n",
        "phrase = \"i love soup\"\n",
        "embeddings = get_embedding(phrase)\n",
        "print(embeddings)"
      ],
      "metadata": {
        "colab": {
          "base_uri": "https://localhost:8080/"
        },
        "id": "t-rmKpaXxnS9",
        "outputId": "6651c2dc-8cb9-4864-f764-95b88e80d370"
      },
      "execution_count": 74,
      "outputs": [
        {
          "output_type": "stream",
          "name": "stdout",
          "text": [
            "[0.0003943320771213621, -0.05429684743285179, -0.050523508340120316, -0.03307795152068138, 0.022113224491477013, -0.036630768328905106, 0.0007442539208568633, 0.007179140578955412, -0.02859405241906643, -0.03523414582014084, 0.015828412026166916, -0.06037338823080063, -0.031950850039720535, 0.04491250962018967, 0.006297062151134014, 0.030186694115400314, 0.010891222395002842, 0.006682971492409706, 0.02188045345246792, 0.004888186231255531, 0.0056967586278915405, 0.0037182068917900324, 0.004272568970918655, 0.0038897220510989428, 0.01352520752698183, 0.017702829092741013, 0.006548209581524134, 0.052973728626966476, 0.020618589594960213, -0.038394927978515625, -0.016967764124274254, -0.027736475691199303, -0.040551118552684784, -0.018597159534692764, 0.019552744925022125, -0.033592499792575836, -0.0042388783767819405, 0.024318421259522438, -0.028692061081528664, -0.022529760375618935, -0.025996821001172066, -0.006376693956553936, 0.06012836471199989, -0.02005504071712494, -0.00830624159425497, -0.0521896593272686, -0.05929529294371605, -0.0032097864896059036, -0.010664576664566994, -0.012293972074985504, 0.00479324022307992, 0.03266141563653946, 0.03251440078020096, 0.04545155540108681, 0.007485418114811182, -0.039889559149742126, 0.00442264461889863, 0.011785551905632019, -0.00952522549778223, -0.03758635371923447, 0.04233977943658829, -0.012324599549174309, -0.002404276980087161, 0.014039753004908562, 0.026045825332403183, -0.01917296089231968, 0.0024058085400611162, -0.02453893981873989, 0.0376843623816967, 0.004232752602547407, -0.01897694356739521, 0.01653897576034069, -0.0055466825142502785, -0.001954049337655306, 0.05027848854660988, -0.001161556807346642, -0.021255647763609886, 0.016796249896287918, 0.04417744278907776, -0.04687268286943436, -0.027687471359968185, 0.016367461532354355, 0.004882060922682285, -0.05846221745014191, -0.05062151700258255, -0.05145459249615669, -0.04481450095772743, 0.0375373512506485, -0.006382819730788469, 0.0433688722550869, 0.01789884828031063, 0.017200535163283348, 0.010045896284282207, 0.013806981965899467, 0.0375373512506485, -0.023142315447330475, 0.0020275560673326254, -0.034254055470228195, -0.01924646832048893, 0.014615554362535477, 0.02594781666994095, -0.00032465398544445634, -0.016293954104185104, -0.0159999281167984, 0.0378313772380352, -0.0030857441015541553, 0.036091722548007965, -0.06693997234106064, 0.03525864705443382, -0.01680850051343441, -0.023228073492646217, 0.02229698933660984, 0.0004919579951092601, -0.01450529508292675, -0.010125529021024704, -0.015252611599862576, 0.011810054071247578, -0.039742548018693924, -0.06556785106658936, -0.01856040582060814, 0.03285743296146393, 0.030039681121706963, -0.00982537679374218, 0.00547011336311698, -0.014762567356228828, -0.0025926376692950726, 0.01037055067718029, -0.023473095148801804, 0.02736894227564335, 0.0033537368290126324, 0.0013859049649909139, -0.012514491565525532, 0.0290840957313776, -0.03476860374212265, 0.006970872171223164, 0.016551226377487183, -0.054051823914051056, -0.01310866978019476, 0.028422536328434944, 0.032636914402246475, 0.014640056528151035, 0.005856022704392672, 0.05365978926420212, 0.024220412597060204, 0.02594781666994095, -0.03623873367905617, -0.010584944859147072, -0.015105598606169224, -0.016636984422802925, 0.018584908917546272, 0.046309132128953934, 0.01930772326886654, -0.0421682633459568, 0.02228473871946335, -0.014333778992295265, -0.026266343891620636, 0.005418045911937952, -0.009966264478862286, 0.0027120858430862427, 0.09580355137586594, -0.021047377958893776, 0.029157603159546852, -0.026486864313483238, -0.09114813804626465, 0.027295436710119247, 0.058315206319093704, -0.06228455901145935, 0.04481450095772743, -0.021672183647751808, -0.01713928021490574, 0.03550367057323456, 0.004952504299581051, 0.017359798774123192, -6.168617255752906e-05, 0.014529797248542309, 0.00975799560546875, 0.05581597983837128, -0.02385287918150425, 0.013659968972206116, 3.6179011658532545e-05, -0.011142369359731674, 0.05155260115861893, 0.009935637004673481, -0.06453876197338104, 0.006652343552559614, 0.024024393409490585, -0.0036814536433666945, 0.026143833994865417, 0.00036734138848260045, 0.012508366256952286, 0.045035019516944885, 0.05557096004486084, 0.054247841238975525, -0.03533215448260307, 0.06914517283439636, -0.011840681545436382, 0.009494597092270851, 0.07438863813877106, -0.00021841403213329613, 0.05713909864425659, 0.03234288841485977, 0.04709320142865181, -0.034597087651491165, -0.06390170007944107, 0.004805491305887699, -0.05684507265686989, -0.03266141563653946, 0.03077474609017372, -0.015620144084095955, -0.01890343800187111, 0.0607164204120636, 0.045917097479104996, -0.007491543423384428, 0.0607164204120636, -0.01706577278673649, 0.01171817071735859, 0.010205160826444626, 0.037708867341279984, 0.006676845718175173, 0.0012771765468642116, 0.006762603763490915, -0.029843663796782494, 0.04057561978697777, 0.001458645798265934, -0.010842218063771725, 0.007963210344314575, -0.006566585972905159, -0.0319998562335968, -0.022345993667840958, 0.011993820779025555, 0.021451665088534355, 0.04018358513712883, -0.0058989012613892555, 0.03165682405233383, -0.015840664505958557, 0.008992302231490612, -0.0418742373585701, 0.026266343891620636, 0.021941708400845528, -0.018658414483070374, 0.024428680539131165, 0.027662968263030052, 0.015264862217009068, 0.039277005940675735, -0.02195395901799202, 0.052287667989730835, 0.005301660858094692, -0.012251093052327633, -0.020924868062138557, 0.012704383581876755, 0.008208232931792736, 0.03332297503948212, -0.015289364382624626, -0.00776106771081686, 0.0007021407946012914, -0.014995338395237923, 0.02675638720393181, 0.034866612404584885, -0.049641430377960205, -0.004468586295843124, 0.001005355385132134, 0.011669166386127472, 0.021096382290124893, 0.015705902129411697, 0.006094919051975012, 0.013574211858212948, 0.01277789007872343, 0.02289729379117489, 0.06346066296100616, 0.020496079698204994, -0.016097936779260635, -0.05253268778324127, 0.05571797117590904, 0.002249607117846608, -0.0261683352291584, 0.03131379559636116, -0.018597159534692764, 0.007497669197618961, 0.0030443966388702393, 0.006578837055712938, -0.041849736124277115, -0.038125403225421906, -0.004545155446976423, -0.016783997416496277, 0.017519064247608185, -0.00023123939172364771, 0.03856644034385681, 0.00276109017431736, 0.07404560595750809, -0.016097936779260635, -0.0408206433057785, -0.0053169745951890945, 0.002159255323931575, 0.03925250470638275, 0.005681444425135851, 0.061843518167734146, -0.03572418913245201, -0.02893708273768425, 0.01984677091240883, 0.02567829191684723, 0.04946991428732872, -0.019295472651720047, 0.024967728182673454, 0.007093382999300957, 0.057433124631643295, 0.018731921911239624, -0.03226938098669052, -0.016355209052562714, -0.01647772081196308, 0.009335333481431007, -0.039203498512506485, -0.00014155755343381315, 0.046186622232198715, -0.007944834418594837, 0.03565068170428276, -0.01984677091240883, -0.039080988615751266, 0.03922799974679947, -0.02675638720393181, -0.04846532642841339, 0.017935600131750107, 0.010750334709882736, 0.010186783969402313, 0.017163781449198723, -0.021267898380756378, -0.02540876716375351, -0.002895852318033576, 0.0020076478831470013, -0.07708387821912766, -0.031289294362068176, -0.011993820779025555, -0.048489827662706375, -0.008110224269330502, 0.018315384164452553, 0.011503776535391808, -0.06576386839151382, 0.010927975177764893, -0.027760976925492287, 0.03883596509695053, 0.0012855990789830685, 0.004493088461458683, -0.009225073270499706, -0.008643146604299545, 0.005209777504205704, -0.044765494763851166, -0.00679323123767972, 0.028961583971977234, -0.022198980674147606, -0.043001338839530945, -0.014799321070313454, -0.029329117387533188, 0.04302584007382393, -0.04060012474656105, 0.013194427825510502, -0.02223573438823223, 0.0023123938590288162, -0.0064379493705928326, -0.04528004303574562, 0.0021975398994982243, 0.03268591687083244, 0.003862157231196761, -0.006529832724481821, 0.008061219938099384, 0.030921759083867073, -0.004462460987269878, 0.007411911617964506, 0.047877274453639984, 0.024024393409490585, -0.017114777117967606, 0.02222348377108574, -0.02928011305630207, 0.017102526500821114, -0.012924904003739357, -0.006104107480496168, -0.028373531997203827, 0.04358939081430435, 0.003531377762556076, 0.03846843168139458, -0.03293094038963318, 0.01939348131418228, 0.014995338395237923, 0.015264862217009068, -0.02920660749077797, 0.0016309268539771438, 0.0017932538175955415, -0.0014471603790298104, 0.045574069023132324, 0.012440985068678856, -0.0028790070209652185, -0.03082375042140484, 0.03173033148050308, -0.07747591286897659, 0.07326153665781021, 0.00655433489009738, 0.02697690762579441, 0.017506811767816544, 0.0038590943440794945, 0.0210106261074543, -0.08443453907966614, -0.05199364200234413, 0.02440417744219303, 0.04866134375333786, -0.026119330897927284, -0.03964453935623169, -0.00817147921770811, 0.023754870519042015, 0.02697690762579441, 0.010278667323291302, 0.009494597092270851, 0.0035191266797482967, 0.0028713499195873737, 0.009715117514133453, 0.0030229573603719473, 0.05135658383369446, 0.01923421584069729, 0.006578837055712938, -0.03930150717496872, -0.023742619901895523, -0.013917242176830769, 0.016833001747727394, 0.03675328195095062, 0.022738030180335045, -0.029157603159546852, -0.02594781666994095, 0.07448665052652359, 0.04417744278907776, 0.022051967680454254, -0.022125475108623505, 0.0014624742325395346, 0.003166907699778676, -0.020153049379587173, -0.010113277472555637, -0.010560442693531513, 0.0030612419359385967, 0.04697069153189659, -0.06507781147956848, -0.019748762249946594, 0.03746384382247925, -0.013206678442656994, 0.004545155446976423, -0.02264002151787281, -0.009451719000935555, -0.018009107559919357, -0.04214376211166382, -0.05836420878767967, 0.014799321070313454, -0.008839163929224014, -0.03712081164121628, -0.028300026431679726, -0.013770229183137417, 0.022725777700543404, -0.030113188549876213, 0.011160746216773987, -0.03599371388554573, 0.014248021878302097, -0.028888078406453133, -0.022591017186641693, 0.0083736227825284, -0.03898297995328903, 0.021194390952587128, 0.000303405977319926, 0.028104009106755257, 0.004165371879935265, -0.057090096175670624, 0.016232699155807495, 0.029647646471858025, -0.02717292495071888, 0.029647646471858025, -0.0012159210164099932, -0.028961583971977234, -0.008692150935530663, -0.04552506282925606, -0.01392949279397726, 0.0014203611062839627, -0.010897347703576088, 0.006738101597875357, -0.03146080672740936, 0.03077474609017372, 0.04765675216913223, 0.029427126049995422, 0.017519064247608185, 0.009623234160244465, -0.01402750238776207, -0.01521585788577795, -0.04623562842607498, -0.032293882220983505, -0.010958602651953697, -0.01256962213665247, 0.017445556819438934, -0.00032618537079542875, -0.013610964640974998, 0.030750244855880737, -0.006725850515067577, -0.011638538911938667, -0.04241328686475754, 0.03280842676758766, -0.023754870519042015, -0.011852933093905449, -0.012189838103950024, -0.018535904586315155, 0.021990712732076645, -0.0068116080947220325, -0.01078096218407154, 0.021537423133850098, 0.017237288877367973, -0.014885078184306622, -0.01277789007872343, -0.028545048087835312, 0.008998428471386433, -0.025041235610842705, -0.04616212099790573, 0.04724021628499031, 0.03616522625088692, -0.028569549322128296, 0.03565068170428276, -0.0025666041765362024, 0.0017044333508238196, -0.006009161472320557, -0.0005199057632125914, -0.007785569876432419, -0.015473131090402603, -0.0035191266797482967, -0.0157794076949358, -0.0013529801508411765, 0.049641430377960205, -0.016685988754034042, -0.010382801294326782, -0.020961621776223183, -0.00843487773090601, -0.010646199807524681, 0.012085704132914543, -0.01864616386592388, -0.014983086846768856, -0.005935654975473881, -0.021794695407152176, 0.045108526945114136, 0.0033292346633970737, -0.0005980064743198454, -0.01121587585657835, -0.018682917580008507, 0.026315348222851753, 0.024992231279611588, -0.014052004553377628, 0.027295436710119247, -0.012153084389865398, 0.03116678260266781, 0.00833074375987053, -0.04305034130811691, 0.015240360051393509, 0.020153049379587173, -0.04067362844944, -0.004735047463327646, -0.036704275757074356, 0.0064992052502930164, 0.019148459658026695, 0.021120885387063026, -0.014150013215839863, -0.04628463089466095, -0.022872790694236755, -0.02120664343237877, 0.049028877168893814, -0.018278632313013077, 0.007460915949195623, -0.030137689784169197, 0.0090841855853796, 0.015558888204395771, -0.028716562315821648, -0.007442539092153311, -0.034523580223321915, -0.010701330378651619, -0.013500705361366272, 0.04839181900024414, 0.021868200972676277, -0.0659598857164383, -0.004569658078253269, -0.019209714606404305, 0.046652164310216904, 0.02114538662135601, -0.026388855651021004, -0.004143932368606329, -0.05258169397711754, -0.01239810697734356, -0.02947613038122654, 0.029721152037382126, -0.03124028816819191, -0.021182140335440636, 0.0005654645501635969, 0.01837664097547531, 0.005105643067508936, -0.0031546566169708967, -0.04839181900024414, 0.01535062026232481, 0.016502222046256065, -0.03966904059052467, -0.003960166126489639, -0.013990748673677444, -0.019601749256253242, 0.026535868644714355, -0.022039717063307762, -0.04153120517730713, -0.015889668837189674, -0.015877416357398033, -0.010248039849102497, -0.00978862401098013, 0.01625720039010048, 0.014713563024997711, -0.009837628342211246, -0.008244985714554787, 0.01535062026232481, -0.030407214537262917, 0.03231838345527649, 0.002091874135658145, 0.000651222188025713, -0.05419883877038956, -0.007062755525112152, 0.011142369359731674, 0.023424090817570686, -0.012189838103950024, 0.01606118306517601, -0.032832931727170944, -0.06816508620977402, 0.0108054643496871, -0.0015612486749887466, 0.006529832724481821, 0.01999378390610218, 0.003255728166550398, -0.03332297503948212, 0.013941744342446327, 0.007160764187574387, 0.02731993794441223, 0.042731814086437225, -0.016967764124274254, 0.011491525918245316, -0.034793104976415634, -0.0520426444709301, 0.000552064913790673, -0.007356781512498856, -0.051748618483543396, -0.018952442333102226, 0.013990748673677444, -0.008336869068443775, -0.01755581609904766, -0.009470094926655293, 0.0038774709682911634, 0.03219587355852127, 0.005620189011096954, -0.016489971429109573, 0.007154638413339853, -0.007019876502454281, -0.019136207178235054, 0.020961621776223183, -0.006202116142958403, -0.03346998617053032, -0.001375185209326446, -0.00965386163443327, 0.01598767749965191, -0.013267934322357178, -0.011264880187809467, -0.0031454681884497404, 0.006290936376899481, -0.02602132223546505, -0.004952504299581051, 0.057237107306718826, 0.034254055470228195, 0.018070362508296967, -0.0066584693267941475, 0.0055099292658269405, -0.019148459658026695, 0.0008767188992351294, -0.018070362508296967, 0.05120956897735596, 0.00104670284781605, 0.05699208751320839, -0.007130136247724295, 0.01931997388601303, 0.003295544069260359, 0.013292436487972736, -0.037169817835092545, -0.025114741176366806, -0.01769057847559452, -0.021120885387063026, -0.01776408590376377, -0.019430235028266907, -0.0018453209195286036, 0.017935600131750107, -0.03253890573978424, -0.009035181254148483, 0.008024466224014759, -0.0015957049326971173, -0.02081460691988468, -0.03611622378230095, -0.017053522169589996, 0.011430270038545132, -0.01938123069703579, 0.003996919374912977, -0.0008652334799990058, -0.022591017186641693, -0.029843663796782494, -0.00221897941082716, -0.015767157077789307, -0.04459397867321968, 0.0032434770837426186, -0.0033537368290126324, -0.02940262481570244, -0.012937154620885849, 0.02250525914132595, -0.01406425517052412, -0.0015451691579073668, -0.007191391661763191, -0.02717292495071888, 0.021868200972676277, 0.021512920036911964, -0.006744226906448603, 0.029966173693537712, -3.8811082049505785e-05, 0.0018453209195286036, -0.016587980091571808, -0.01389274001121521, -0.023277077823877335, 0.014382783323526382, -0.0012480801669880748, -0.00023353646975010633, -0.059540312737226486, -0.00249003479257226, 0.0008943298016674817, -0.005981596186757088, -0.0034180551301687956, 0.0018146932125091553, -0.02589881233870983, -0.00013370919623412192, 0.01579166017472744, 0.0013116326881572604, -0.05027848854660988, 0.0275159552693367, -0.03430306166410446, 0.00016242270066868514, -0.006290936376899481, -0.004949441645294428, -0.003586507635191083, -0.03878696262836456, 0.0019280158448964357, -0.04133518785238266, 0.026927903294563293, 0.022823786363005638, 0.016110187396407127, -0.04003657400608063, 0.021243395283818245, -0.009482346475124359, -0.02859405241906643, 0.0010022926144301891, -0.04567207768559456, 0.007607928942888975, 0.017849843949079514, -0.001484679407440126, 0.013243432156741619, -0.04942091181874275, -0.0078100720420479774, -0.0021316902711987495, 0.040502116084098816, 0.014713563024997711, 0.04290333017706871, 0.004517590627074242, 0.0007457853062078357, -0.016208196058869362, 0.000183000709512271, 0.02790798991918564, 0.004652352537959814, -0.06409771740436554, -0.019025947898626328, 0.02338733710348606, 0.014003000222146511, 0.004511465318500996, -0.005448673851788044, -0.015497633256018162, 0.008857540786266327, -0.031117776408791542, -0.010535940527915955, 0.02678089030086994, -0.02947613038122654, 0.015154602937400341, 0.02188045345246792, -0.029157603159546852, -0.009145441465079784, -0.020214304327964783, -0.0216109286993742, 0.01521585788577795, 0.038174405694007874, 0.015975425019860268, -0.030750244855880737, -0.0548848994076252, -0.00021381986152846366, -0.03278392553329468, -0.011209750548005104, -0.03530764952301979, 0.01693101041018963, 0.013402695767581463, -0.009329207241535187, -0.022394997999072075, 0.005803955718874931, 0.045108526945114136, -0.02208872139453888, 0.00393260084092617, 0.030995266512036324, -0.010125529021024704, -0.03435206413269043, -0.008287864737212658, -0.004836119245737791, 0.007632431108504534, 0.040502116084098816, 0.003073493018746376, -0.003794776275753975, 0.04074713587760925, 0.007105634082108736, -0.012508366256952286, 0.0025880434550344944, -0.02074110135436058, 0.0018897311529144645, -0.008404250256717205, -0.010388927534222603, 0.023693615570664406, -0.004376702941954136, -0.022186730057001114, 0.03177933767437935, -0.007816197350621223, 0.006419572979211807, -0.037782371044158936, -0.031093275174498558, 0.0005976236425340176, 0.004511465318500996, 0.0029448566492646933, 0.020900364965200424, -0.023093311116099358, -0.021059630438685417, -0.018119366839528084, -0.019123956561088562, 0.062186550348997116, -0.02480846457183361, -0.0021791632752865553, -0.01707802340388298, -0.03719431906938553, -0.01992027834057808, -0.01358646247535944, 0.0137212248519063, -0.06346066296100616, 0.000919597689062357, 0.011246503330767155, -0.020018287003040314, 0.0034211177844554186, -0.031191283836960793, 0.040894150733947754, 0.007871327921748161, -0.03687579184770584, -0.02053283341228962, -0.013512955978512764, 0.000460947398096323, -0.017127027735114098, -0.007111759856343269, -0.01274113729596138, -0.010254165157675743, -0.008924921974539757, -0.008698276244103909, 0.02589881233870983, 0.0261683352291584, -0.025359762832522392, -0.01606118306517601, 0.01592642068862915, -0.023669112473726273, -0.008894293569028378, 0.019430235028266907, -0.01141801942139864, -0.007748816628009081, 0.024955477565526962, -0.03278392553329468, -0.04067362844944, -0.007901955395936966, 0.0007009922410361469, 0.011840681545436382, 0.03719431906938553, -0.008146977052092552, 0.021365907043218613, 0.0068544866517186165, 0.00043644520337693393, -0.05015597492456436, 0.008024466224014759, -0.007712063379585743, -0.028030501678586006, -0.01625720039010048, -0.000369829882401973, 0.005451736506074667, 0.011785551905632019, 0.004211313556879759, -0.020924868062138557, -0.007944834418594837, -0.018339887261390686, -0.010719706304371357, 0.00833074375987053, -0.0391789972782135, 0.004578846041113138, 0.01165691576898098, 0.0027258682530373335, 0.008293990045785904, 0.023350583389401436, -0.02812851034104824, -0.003451745491474867, 0.005840708967298269, -0.026878898963332176, 0.010045896284282207, -0.013537458144128323, -0.0275159552693367, -0.027564959600567818, -0.02249300666153431, -0.0019800830632448196, -0.025849808007478714, 0.049788445234298706, 0.00812860019505024, -0.006395070813596249, 0.002222042065113783, -0.008765657432377338, 0.012630877085030079, 0.00819598138332367, -0.018609410151839256, -0.017188284546136856, 0.005240405444055796, -0.0022725777234882116, -0.0013713567750528455, -0.013035163283348083, -0.02249300666153431, -0.006153111811727285, -0.010652326047420502, -0.017911098897457123, 0.03366600349545479, -0.008594142273068428, -0.02771197259426117, 0.0037672112230211496, 0.0157794076949358, 0.022247985005378723, 0.020214304327964783, 0.02445318177342415, -0.04655415564775467, -0.018548155203461647, -0.009353709407150745, -0.0010482341749593616, -0.0076201800256967545, 0.00413168128579855, 0.033641502261161804, 0.004468586295843124, 0.028104009106755257, -0.015154602937400341, -0.007124010939151049, -0.009868255816400051, 0.005310848820954561, 0.039889559149742126, 0.007075006607919931, -0.03258790820837021, -0.021182140335440636, -0.0020643093157559633, -0.02656036987900734, -0.020888114348053932, 0.01640421338379383, 0.014174515381455421, -0.03197535499930382, -0.008943297900259495, -0.03763535991311073, -0.019405731931328773, -0.030921759083867073, -0.007767193019390106, -0.03790488466620445, 0.0051209572702646255, 0.011332261376082897, -0.0032710419036448, -0.02276253141462803, -0.01761707291007042, -0.002940262435004115, 0.030529724434018135, 0.01633070781826973, 0.010143904946744442, 0.011007607914507389, -0.0015229640994220972, -0.010364425368607044, -0.003638574853539467, 0.0030229573603719473, 0.04697069153189659, 0.021402660757303238, 0.003846843261271715, -0.008422627113759518, 0.006444075144827366, -0.0034915616270154715, 0.008055093698203564, -0.036704275757074356, -0.01152215339243412, 0.010045896284282207, -0.002872881479561329, -0.022468505427241325, -0.026535868644714355, 0.017519064247608185, -0.007638556882739067, 0.03342098370194435, -0.01878092624247074, 0.005917278118431568, 0.015313866548240185, -0.031117776408791542, 0.02594781666994095, 0.0608634315431118, -0.03535665571689606, -0.02928011305630207, -0.027613963931798935, -0.0064992052502930164, -0.011050486005842686, -0.03841942921280861, -0.0195159912109375, 0.021904954686760902, -0.019356727600097656, -0.0157794076949358, 0.022615518420934677, -0.023546600714325905, 0.030872754752635956, 0.011191373690962791, 0.04959242790937424, -0.014272524043917656, -0.018597159534692764, -0.006866737734526396, -0.019479239359498024, -0.00273505668155849, 0.01972426101565361, 0.0122633446007967, -0.059050269424915314, 0.038664452731609344, 0.0013499173801392317, 0.025261754170060158, 0.005687570199370384, 0.024110151454806328, 0.020018287003040314, 0.006321564316749573, -0.011301633901894093, -0.017396552488207817, 0.04197224602103233, -0.03373951092362404, -0.04412844032049179, 0.0031163718085736036, 0.0023139251861721277, 0.0008016809006221592, -0.020214304327964783, 0.027736475691199303, 0.005920340772718191, 0.02812851034104824, -0.006578837055712938, 0.0022159165237098932, -0.0006075776764191687, 0.011675291694700718, -0.012888150289654732, 0.023938637226819992, -0.013071916997432709, 0.02324032410979271, -0.03190184757113457, 0.04167822003364563, -0.007852951064705849, 0.03476860374212265, -0.013451701030135155, 0.018009107559919357, -0.016367461532354355, -0.03552817180752754, -0.011197498999536037, -0.025727296248078346, -0.05660005286335945, 0.023081060498952866, 0.020373567938804626, 0.0448635034263134, -0.006682971492409706, -0.001179933431558311, -0.007908080704510212, -0.014615554362535477, -0.0061194212175905704, 0.007019876502454281, 0.02962314337491989, -0.005365978926420212, 0.01487282756716013, -0.010891222395002842, -0.02555578015744686, 0.014113259501755238, -0.035895705223083496, 0.054443858563899994, 0.011638538911938667, 0.014517545700073242, -0.00843487773090601, -0.01646547019481659, 0.012422609142959118, 0.0037855878472328186, -0.05914827808737755, 0.024024393409490585, -0.023424090817570686, -0.02989266812801361, -0.005675319116562605, 0.010321546345949173, 0.01037055067718029, -0.0023767121601849794, -0.03442557156085968, -0.005411920603364706, 0.031950850039720535, 0.02310556173324585, 0.0063154385425150394, 0.0009440999128855765, -0.0021761003881692886, -0.03712081164121628, -0.01700451783835888, -0.002895852318033576, -0.00020673719700425863, -0.01073808316141367, 0.027736475691199303, 0.0058131436817348, -0.008588016033172607, 0.026192838326096535, -0.021463915705680847, -0.013843735679984093, 0.02500448189675808, -0.007926457561552525, 0.013855986297130585, 0.023154566064476967, 0.017470059916377068, 0.004128618631511927, 0.008048968389630318, -0.009053558111190796, -0.03530764952301979, 0.008165353909134865, 0.031950850039720535, -0.017188284546136856, -0.00850225891917944, -0.014150013215839863, -0.004756486974656582, -0.000700609409250319, 0.022272488102316856, -0.01612243987619877, 0.0022787032648921013, 0.0041868113912642, 0.010793213732540607, 0.03552817180752754, 0.013855986297130585, -0.014921831898391247, 0.016563478857278824, -0.0016416464932262897, -0.011981569230556488, 0.0605694055557251, 0.0003981605404987931, -0.02989266812801361, -0.00941496528685093, 0.02643785998225212, -0.040428608655929565, -0.002156192436814308, 0.10222312062978745, -0.005191400647163391, -0.019025947898626328, -0.009212822653353214, 0.018609410151839256, 0.012581872753798962, 0.004523716401308775, -0.026609374210238457, 0.010346048511564732, -0.06772404164075851, 0.009604857303202152, -0.0005459393723867834, 0.004367514979094267, -0.007369032595306635, 0.03773336857557297, -0.0019096392206847668, -0.004217438865453005, 0.007369032595306635, -0.02039807103574276, 0.002330770483240485, 0.009966264478862286, -0.01030316948890686, -0.059540312737226486, -0.036973800510168076, -0.020226554945111275, 0.013157674111425877, -0.01626945286989212, 0.017715081572532654, 0.005730448756366968, 0.035675182938575745, 0.02589881233870983, -0.01209182944148779, 0.0172740425914526, -0.04405493289232254, 0.01521585788577795, 0.012557370588183403, -0.009837628342211246, 0.002954044844955206, -0.007344530429691076, -0.016906509175896645, -0.003393552964553237, -0.00023698208678979427, 0.016073433682322502, 0.0038927849382162094, 0.04640714079141617, 0.025114741176366806, 0.01843789592385292, -0.005822332110255957, -0.02039807103574276, 0.020422572270035744, 0.007246521767228842, 0.00978862401098013, -0.013696722686290741, -0.0017519063549116254, 0.010762585327029228, 0.0013705911114811897, 0.0004946378758177161, -0.033249467611312866, 0.038590945303440094, 0.006707473658025265, 0.0005516820237971842, -0.03435206413269043, 0.001218983787111938, 0.025506775826215744, 0.014897329732775688, 0.013243432156741619, -0.006927993148565292, -0.029451629146933556, -0.020140796899795532, 0.013378193601965904, 0.04812229424715042, -0.01552213542163372, -0.008447129279375076, 0.006137797608971596, 0.04182523116469383, 0.010052022524178028, -0.009169943630695343, -0.029647646471858025, -0.032489899545907974, 0.01930772326886654, 0.006707473658025265, 0.0023353646975010633, 0.0010842217598110437, 0.045647572726011276, 0.010290918871760368, -0.03800289332866669, -0.023424090817570686, 0.007742690853774548, 0.03258790820837021, -0.03993856534361839, 0.03800289332866669, 0.018695168197155, -0.011062737554311752, -0.034793104976415634, 0.0062786852940917015, -0.005292472429573536, -0.017923349514603615, -0.020986123010516167, -0.030064182355999947, -0.04101666063070297, 0.0032159120310097933, -0.002727399580180645, 0.009029055945575237, -0.016980014741420746, -0.015301615931093693, -0.01490958034992218, 0.003586507635191083, -0.024881970137357712, -0.019761012867093086, -0.02962314337491989, 0.009813126176595688, -0.011779426597058773, 0.009335333481431007, -0.0029081034008413553, 0.00040122331120073795, -0.00686061242595315, 0.022064220160245895, -0.02629084698855877, 0.0014119385741651058, 0.00613167230039835, 0.023228073492646217, 0.045035019516944885, -0.004526779055595398, 0.002649298869073391, 0.01047468464821577, -0.029231108725070953, 0.0448635034263134, 0.0360427163541317, -0.01419901754707098, -0.008882042951881886, -0.0006764900754205883, 0.0004433364374563098, 0.03528314828872681, -0.009819251485168934, -0.008471631444990635, 0.00540273217484355, 0.019221965223550797, -0.0167472455650568, 0.019074952229857445, 0.024171408265829086, -0.027662968263030052, 0.04777926579117775, -0.020496079698204994, 0.00901680439710617, 0.0049739438109099865, 0.002062777755782008, -0.0033690507989376783, -0.020851360633969307, -0.00197395752184093, -0.021512920036911964, 0.050106972455978394, -0.013635466806590557, -0.035871200263500214, -0.009592605754733086, 0.01598767749965191, 0.028839074075222015, -0.007013751193881035, -0.04339337348937988, -0.004447146784514189, -0.0024839092511683702, 0.0018499151337891817, 0.006995374336838722, -0.007062755525112152, -0.010756460018455982, 0.017359798774123192, 0.014578801579773426, 0.008820787072181702, -0.0001737166749080643, -0.013782479800283909, -0.005277158692479134, 0.007669184356927872, 0.010829966515302658, -0.03569968789815903, -0.052973728626966476, -0.015142351388931274, 0.005990784615278244, 0.0003797838871832937, 0.015828412026166916, 0.01375797763466835, -0.01776408590376377, 0.028790069743990898, 0.043540384620428085, -0.011767175048589706, 0.04959242790937424, 0.008048968389630318, 0.0003315452195238322, -0.04444696754217148, -0.012220465578138828, 0.009353709407150745, -0.0012480801669880748, -0.008600267581641674, 0.027393445372581482, 0.02473495714366436, 0.044005926698446274, -0.058119188994169235, 0.0189156886190176, 0.022076470777392387, -0.06434274464845657, -0.014248021878302097, -0.007277149707078934, -0.01389274001121521, -0.0055466825142502785, -0.01310866978019476, 0.022995302453637123, 0.03445007652044296, -0.003957103006541729, 0.03138730302453041, 0.039129991084337234, -0.015130100771784782, 0.000260527158388868, -0.025702793151140213, 0.008857540786266327, -0.01754356548190117, -0.0014708968810737133, 0.03278392553329468, 0.06316664069890976, -0.013880488462746143, 0.008385873399674892, -0.009739619679749012, -0.02270127646625042, 0.008967800065875053, -0.017163781449198723, 0.026192838326096535, -0.019283220171928406, -0.03552817180752754, 0.014885078184306622, -0.025531278923153877, -0.014248021878302097, -0.011448646895587444, -0.015093347057700157, 0.01612243987619877, 0.024881970137357712, 0.007332279346883297, -0.010297044180333614, 0.0030566477216780186, 0.006823859177529812, 0.005430296994745731, 0.0006600276683457196, 0.004300133790820837, -0.006805482320487499, -0.050915542989969254, -0.014480791985988617, -0.012048950418829918, 0.025653788819909096, 0.004713608417659998, 0.023963138461112976, 0.034940119832754135, -0.028226519003510475, 0.023901883512735367, -0.0077733187936246395, 0.0021424100268632174, -0.00491268839687109, 0.044961512088775635, -0.0013032100396230817, -0.001575796864926815, 0.019136207178235054, -0.024894222617149353, -0.02195395901799202, -0.001398921711370349, 0.007987712509930134, 0.0074241627007722855, 0.02168443612754345, -0.004502276889979839, 0.022676773369312286, -0.01260637491941452, -0.03543016314506531, -0.06272559612989426, -0.0016324581811204553, 0.027540458366274834, -0.029108598828315735, -0.02121889404952526, -0.01389274001121521, -0.037512846291065216, -0.024159155786037445, -0.023975389078259468, -0.008575765416026115, 0.0024226538371294737, 0.029598642140626907, 0.016783997416496277, -0.008447129279375076, -0.0260948296636343, 0.03190184757113457, -0.011442521587014198, 0.013917242176830769, -0.024110151454806328, -0.03104427084326744, 0.00467379204928875, 0.03800289332866669, 0.006165362894535065, -0.0022986114490777254, 0.014346030540764332, -0.0033537368290126324, 0.006560460664331913, -0.01972426101565361, 0.010689078830182552, 0.034401070326566696, 0.015093347057700157, -0.0031163718085736036, 0.006055103149265051, 0.02297079935669899, 0.06762603670358658, 0.014113259501755238, -0.002143941354006529, 0.009954013861715794, 0.017506811767816544, 0.019013697281479836, -0.011509901843965054, 0.017433306202292442, -0.009249575436115265, 0.01843789592385292, 0.01521585788577795, -0.021035127341747284, -0.026854397729039192, -0.01646547019481659, 0.00528328400105238, 0.021806946024298668, 0.007179140578955412, -0.024428680539131165, -0.005191400647163391, -0.001672274200245738, -0.017457807436585426, 0.00515158474445343, 0.00951909925788641, 0.03543016314506531, -0.05365978926420212, 0.02006729133427143, -0.001539043616503477, 0.0030719616916030645, -0.002378243487328291, -0.01890343800187111, -0.0605694055557251, -0.034523580223321915, 0.014774818904697895, 0.0232525747269392, 0.016048932448029518, 0.018817679956555367, -0.007320028264075518, 0.011191373690962791, -0.008998428471386433, -0.041702721267938614, -0.009445592761039734, -0.024171408265829086, 0.0345480851829052, 0.01097697950899601, -0.029451629146933556, 0.018548155203461647, -0.012281721457839012, 0.022456254810094833, -0.0025145369581878185, 0.022615518420934677, 0.005684507545083761, -0.03219587355852127, 0.023130064830183983, -0.004630913492292166, 0.011577283032238483, -0.010058147832751274, 0.0172740425914526, -0.01742105558514595, -0.01923421584069729, -0.01467681024223566, 0.0047809891402721405, 0.013096419163048267, -0.010646199807524681, 0.017335297539830208, -0.005972408223897219, 0.015264862217009068, -0.0477057583630085, 0.01707802340388298, 0.0019463924691081047, -0.005650816950947046, -0.03641024976968765, -0.01358646247535944, -0.006055103149265051, -0.10001792758703232, -0.027270933613181114, 0.02365686185657978, 0.05944230407476425, 0.0202633086591959, -0.013316938653588295, -0.021794695407152176, 0.016110187396407127, 0.00880853645503521, 0.015497633256018162, 0.04552506282925606, 0.00813472643494606, 0.004722796380519867, 0.006970872171223164, -0.012177586555480957, -0.004875935148447752]\n"
          ]
        }
      ]
    },
    {
      "cell_type": "code",
      "source": [
        "embeddings = get_embedding(chunk.page_content)\n",
        "print(embeddings)"
      ],
      "metadata": {
        "colab": {
          "base_uri": "https://localhost:8080/"
        },
        "id": "h4U6tpLLyD3J",
        "outputId": "e5cc3e0d-7448-4830-8515-8fea5e1572a8"
      },
      "execution_count": 75,
      "outputs": [
        {
          "output_type": "stream",
          "name": "stdout",
          "text": [
            "[0.041026387363672256, 0.08796846121549606, -0.011694437824189663, 0.01444687508046627, -0.012194258160889149, -0.015473904088139534, -0.009393892250955105, 0.002410094952210784, -0.009537676349282265, 0.019417695701122284, 0.016692645847797394, -0.0026480231899768114, -0.01828111708164215, 0.036836110055446625, -0.01147533766925335, -0.016939133405685425, -0.035685837268829346, 0.037192147225141525, -0.005073523614555597, -0.0066380309872329235, 0.0061792912892997265, 0.03642529621720314, 0.03702782094478607, -0.02158130332827568, -0.010270290076732635, 0.009120018221437931, 0.024922572076320648, 0.011858762241899967, 0.041820622980594635, 0.03735646978020668, 0.0046147839166224, -0.01502201147377491, 0.06134786829352379, -0.02971537411212921, 0.011694437824189663, -0.0009713983163237572, -0.006908481940627098, -0.03639790788292885, 0.01331714354455471, -0.012132636271417141, 0.0010141911916434765, -0.02652473747730255, -0.013775883242487907, -0.032782766968011856, 0.025662032887339592, 0.06408661603927612, -0.017610125243663788, 0.024443291127681732, 0.02979753538966179, -0.0008571413345634937, -0.031851593405008316, 0.012988493777811527, -0.005015325266867876, 0.08588701486587524, -0.04505234211683273, 0.004395684227347374, -0.03858890384435654, 0.026511043310165405, 0.0322624072432518, -0.01090020127594471, 0.009612991474568844, 0.01530957967042923, -0.007490465417504311, 0.033823490142822266, 0.0222249086946249, 0.012207952328026295, -0.03582277148962021, 0.031139520928263664, -0.021855177357792854, 0.024046173319220543, 0.02692185528576374, 0.007011184934526682, -0.03398781642317772, -0.017021294683218002, 0.00126153405290097, 0.042861346155405045, -0.008510647341609001, 0.008791368454694748, -0.007161816116422415, -0.014542731456458569, 0.03026312217116356, -0.03456295281648636, -0.024826714769005775, -0.008072447963058949, 0.007332987617701292, 0.04004044085741043, -0.0423135980963707, 0.012064168229699135, 0.027455909177660942, -0.01229696162045002, 0.04351864382624626, 0.011810834519565105, 0.02505950815975666, -0.04557270184159279, 0.041491974145174026, -0.020198237150907516, 0.0036048719193786383, -0.04212188348174095, -0.002286851406097412, 0.029551049694418907, 0.051789652556180954, -0.028838975355029106, -0.024278966709971428, -0.02803104557096958, 0.06709922850131989, 0.011632815934717655, -0.044367656111717224, 0.02512797713279724, -0.028921138495206833, 0.031714655458927155, -0.09711586683988571, 0.012611916288733482, 0.04880442097783089, 0.0029218976851552725, -0.01588471606373787, -0.0012136059813201427, 0.016185978427529335, 0.0038376653101295233, 0.035439349710941315, 0.03524763882160187, -0.004594243131577969, 0.01357047725468874, 0.0058266781270504, -0.0016346878837794065, 0.056199029088020325, 0.035685837268829346, 0.04894135892391205, -0.001864057732746005, -0.01570669747889042, 0.04384729266166687, 0.01976003870368004, -0.017582736909389496, -0.025497708469629288, 0.0013419846072793007, 0.004234783351421356, -0.004700369667261839, -0.02631933055818081, -0.053295962512493134, 0.0670444592833519, 0.08336737006902695, 0.006405238062143326, -0.005292622838169336, 0.02552509494125843, -0.006199832074344158, 0.035192862153053284, 0.06501778215169907, 0.01414561364799738, 0.04083467647433281, 0.03198853135108948, 0.007230284623801708, 0.014049757272005081, 0.027483297511935234, -0.00814091693609953, 0.021307429298758507, 0.0009602721547707915, -0.029605824500322342, -0.014953543432056904, 0.049927305430173874, -0.017692286521196365, -0.012187411077320576, 0.0088735306635499, -0.009154252707958221, 0.0021482023876160383, -0.006162174511700869, 0.010694796219468117, -0.00930488295853138, 0.008188844658434391, 0.017117150127887726, -0.05436407029628754, 0.006905058864504099, -0.01854129694402218, 0.020609049126505852, -0.030591772869229317, 0.06052624434232712, -0.010694796219468117, 0.025867437943816185, -0.035548899322748184, -0.07049527764320374, -0.010174434632062912, -0.013200746849179268, 0.007504159118980169, 0.08090250194072723, 0.028866363689303398, -0.023566892370581627, -0.01602165400981903, 0.007127581629902124, -0.048064958304166794, 0.007367221638560295, 0.0047380272299051285, -0.015542373061180115, -0.02782564051449299, -0.021814096719026566, -0.008825602941215038, 0.03015357255935669, 0.024785634130239487, -0.04001305252313614, 0.04918784648180008, -0.015829941257834435, 0.0037007280625402927, -0.013584170490503311, 0.00030211772536858916, 0.04792802408337593, 0.07175509631633759, -0.018869947642087936, 0.0062272194772958755, 0.03941052779555321, 0.03390565142035484, 0.025867437943816185, -0.007011184934526682, 0.005559650715440512, 0.013803270645439625, -0.044367656111717224, -0.03505592420697212, -0.02104724943637848, -0.02319716289639473, 0.0181030984967947, 0.009900559671223164, -0.017514267936348915, 0.04664081335067749, 0.06375796347856522, -0.02720942348241806, 0.019582020118832588, 0.03809593245387077, 0.006600373424589634, -0.04154674708843231, -0.01403606403619051, 0.02924978733062744, -0.004929739516228437, -0.0466134250164032, 0.08358646929264069, -0.00905154924839735, -0.007914970628917217, -0.027154648676514626, -0.04905090853571892, -0.0004767126520164311, -0.011557499878108501, 0.02638779953122139, -0.03941052779555321, -0.013563630171120167, -0.05860912427306175, -0.03716475889086723, -0.0049639735370874405, 0.01695282571017742, -0.012892638333141804, -0.04220404848456383, 0.009393892250955105, 0.008777675218880177, -0.04940694570541382, 0.043436482548713684, 0.026689061895012856, 0.06162174418568611, 0.055842991918325424, 0.02556617558002472, 0.009400739334523678, -0.0057205515913665295, 0.011639663018286228, 0.005241271574050188, 0.026798611506819725, 0.05258388817310333, -0.0451618917286396, -0.0062203723937273026, 0.024320047348737717, -0.0057342457585036755, -0.01814417913556099, 0.009777316823601723, 0.016090121120214462, 0.047133784741163254, -0.007148122414946556, 0.03982133790850639, -0.021485447883605957, -0.007141275331377983, -0.018062017858028412, 0.03294709324836731, -0.031851593405008316, -0.058663900941610336, -0.01770598068833351, 0.015446516685187817, 0.04288873448967934, -0.008168304339051247, 0.011803987435996532, 0.030920421704649925, 0.010105965659022331, 0.025155365467071533, -0.026223475113511086, -0.016007959842681885, 0.03409736603498459, -0.016651565209031105, 0.062005165964365005, 0.0008383124368265271, 0.005227577872574329, -0.05217307433485985, -0.054473619908094406, 0.005843795370310545, 0.025689419358968735, -0.0545010082423687, 0.033001866191625595, 0.004813342820852995, -0.05740407854318619, 0.03861629217863083, 0.008195691742002964, 0.0505572184920311, 0.07569888979196548, 0.07055004686117172, -0.011982006020843983, 0.020458418875932693, 0.03856151923537254, 0.002969825640320778, 0.012618763372302055, -0.02703140489757061, 0.022649414837360382, -0.03086564689874649, -0.0047791083343327045, -0.019705263897776604, -0.010078578256070614, -0.0035090160090476274, -0.06321021169424057, 0.01509048044681549, 0.004114963114261627, 0.01785661093890667, -0.000502816285006702, 0.029277175664901733, -0.004265593830496073, -0.040177375078201294, -0.0020061300601810217, -0.017692286521196365, 0.008784521371126175, -0.02251247689127922, -0.0188288651406765, 0.05200875177979469, 0.03574061021208763, -0.04581918939948082, -0.08134070038795471, -0.04373774304986, 0.01491246186196804, -0.014090838842093945, -0.032892316579818726, 0.04573702812194824, 0.002322797430679202, -0.00033057498512789607, -0.019513551145792007, -0.0034422590397298336, 0.010907048359513283, -0.009797857142984867, 0.021567609161138535, -0.02900329977273941, 0.02736005373299122, -0.015980571508407593, -0.05499398335814476, -0.017432106658816338, 0.016870664432644844, -0.02082814835011959, -0.013015881180763245, 0.004227936267852783, -0.03141339495778084, 0.008983081206679344, -0.030564384534955025, -0.020910311490297318, 0.01947247050702572, 0.04735288769006729, 0.03828764334321022, -0.043573420494794846, -0.003351538209244609, 0.01663787104189396, -0.0044470359571278095, -0.04091683775186539, 0.023744910955429077, -0.038917552679777145, -0.0020609048660844564, -0.022252297028899193, -0.031605105847120285, -0.036945659667253494, -0.0006380418199114501, -0.02642888016998768, 0.04094422608613968, 0.009886866435408592, 0.021019861102104187, -0.00858596246689558, -0.01208470854908228, 0.061895616352558136, -0.0034148716367781162, 0.005744515918195248, -0.04677775129675865, -0.03302925452589989, -0.025401851162314415, 0.03204330801963806, 0.022211214527487755, 0.023813379928469658, 0.023539505898952484, -0.007983439601957798, -0.023183468729257584, 0.012481826357543468, -0.006781815085560083, -0.008503800258040428, 0.015035705640912056, -0.010941282846033573, -0.04532621428370476, -0.004909198731184006, 0.09618469327688217, 0.010509930551052094, -0.0062203723937273026, 0.007531546521931887, -0.011523266322910786, -0.04650387540459633, 0.027127260342240334, 0.004491540603339672, 0.026223475113511086, -0.014775524847209454, 0.004265593830496073, -0.006035507190972567, -0.036617010831832886, 0.03784944489598274, 0.010551012121140957, 0.03864368051290512, -0.014994624070823193, 0.021375898271799088, -0.04283395782113075, -0.004323792178183794, -0.05625380575656891, 0.03921881690621376, 0.004635324236005545, -0.06638715416193008, -0.013556783087551594, -0.019801119342446327, -0.027551766484975815, -0.012139483354985714, 0.055842991918325424, 0.04710640013217926, -0.0030177535954862833, -0.002286851406097412, -0.0821075513958931, -0.043929457664489746, 0.02452545426785946, -0.021129410713911057, 0.016856970265507698, 0.012269573286175728, -0.028702039271593094, -0.046805135905742645, -0.011311013251543045, -0.003598025068640709, -0.028263838961720467, 0.03847935423254967, -0.03563106060028076, -0.024265272542834282, 0.009784162975847721, -0.052364788949489594, 0.042505308985710144, 0.007538393139839172, 0.0019119858043268323, 0.018335891887545586, -0.018445441499352455, -0.01455642469227314, -0.03957485407590866, -0.014063451439142227, -0.005094063933938742, -0.03316619247198105, -0.039164040237665176, 0.01710345782339573, 0.0003635254979599267, -0.0007634249050170183, 0.009565063752233982, 0.02982492372393608, -0.021704547107219696, -0.021594997495412827, 0.007367221638560295, -0.028975913301110268, 0.03861629217863083, 0.03141339495778084, 4.177654773229733e-05, 0.031495556235313416, -0.019308146089315414, 0.0319063700735569, -0.042039722204208374, 0.0028277533128857613, 0.006401814520359039, 0.017911385744810104, -0.008805062621831894, -0.03524763882160187, 0.009106324054300785, 0.04469630494713783, -0.0326184444129467, 0.042970895767211914, 0.004409377928823233, -0.027168340981006622, 0.0052036140114068985, -0.06819473206996918, 0.0020780221093446016, 0.012872097082436085, 0.00806560181081295, -0.011160382069647312, 0.03365916386246681, -0.02408725395798683, -0.02204689010977745, -0.012687232345342636, -0.015158948488533497, 0.02408725395798683, -0.01976003870368004, 0.022813739255070686, -0.020526887848973274, -0.0051317219622433186, 0.0025145094841718674, 0.0002467009471729398, -0.013337683863937855, 0.014460569247603416, -0.0038068543653935194, -0.03040006011724472, 0.01584363542497158, -0.010619480162858963, 0.01172182522714138, -0.02614131197333336, 0.025648338720202446, -0.02359428070485592, -0.017801836133003235, -0.0329744778573513, -0.011358940973877907, -0.03710998222231865, -0.01079065166413784, -0.0011776599567383528, 0.040998999029397964, -0.018993191421031952, -0.017733369022607803, -0.01581624709069729, 0.017651205882430077, 0.018979497253894806, -0.007504159118980169, -0.0012127500958740711, 0.022676801308989525, 0.010482543148100376, 0.05893777310848236, -0.00607658876106143, -0.031550332903862, 0.016555707901716232, -0.024251580238342285, -0.005141992121934891, 0.007271365728229284, 0.018048323690891266, -0.0006466003833338618, 0.01796616241335869, -0.021197879686951637, 0.009585604071617126, 0.018308505415916443, 0.00017363209917675704, 0.014789218083024025, 0.08583223819732666, -0.003438835497945547, -0.008770828135311604, 0.025086896494030952, 0.021553916856646538, 0.045298829674720764, -0.001879463205114007, -0.02065013162791729, -0.0005802714149467647, 0.02663428708910942, 0.009688307531177998, -0.02323824353516102, 0.009619838558137417, 0.008695513010025024, 0.02075968123972416, -0.011968311853706837, 0.03270060569047928, -0.025032121688127518, -0.05003685504198074, -0.025620952248573303, 0.0012572547420859337, -0.015268498100340366, 0.016007959842681885, 0.021211573854088783, -0.0023878426291048527, 0.03050960972905159, -0.03664439544081688, -0.018418055027723312, -0.028482938185334206, -0.01850021630525589, -0.0029218976851552725, -0.002718203468248248, 0.035658448934555054, -0.020389949902892113, 0.005210460629314184, 0.025798968970775604, -0.01677480712532997, 0.018267422914505005, 0.0011417139321565628, -0.004063611384481192, -0.014173001050949097, 0.03360439091920853, 0.020047606900334358, -0.012570835649967194, -0.04212188348174095, 0.012125790119171143, -0.05789704993367195, 0.0030040598940104246, -0.0016107239061966538, -0.028619876131415367, -0.011489031836390495, -0.0026189240161329508, 0.024443291127681732, -0.028044739738106728, -0.00030211772536858916, 0.011536959558725357, 0.0058883000165224075, -0.005350821185857058, 0.018267422914505005, -0.019746344536542892, 0.002656581811606884, 0.0010621192632243037, -0.007702718023210764, -0.004789378959685564, -0.04647648707032204, -0.045189280062913895, 0.02319716289639473, 0.014953543432056904, -0.02552509494125843, 0.005833525210618973, 0.002754149492830038, 0.0019136974588036537, 0.00600469671189785, 0.03459033742547035, 0.009092630818486214, -0.011523266322910786, 0.018226342275738716, 0.00908578373491764, 0.02968798577785492, 0.038232866674661636, 0.0035038806963711977, 0.006021813489496708, 0.0116533562541008, -0.009387045167386532, -0.040889449417591095, 0.025620952248573303, 0.029770148918032646, -0.005850641988217831, -0.013556783087551594, -0.03817809373140335, 0.008832450024783611, -0.0068639772944152355, 0.008668125607073307, -0.0037863138131797314, -0.009044702164828777, -0.03365916386246681, -0.03374132886528969, -0.027195729315280914, 0.029195012524724007, -0.01150957215577364, 0.021211573854088783, 0.009167945943772793, -0.007928663864731789, -0.01750057563185692, 0.004419648554176092, -0.00031880693859420717, -0.031112132593989372, -0.016788501292467117, 0.008921459317207336, 0.024361129850149155, 0.04932478070259094, 0.021280042827129364, -0.005463794339448214, 0.011824527755379677, 0.00980470422655344, 0.007702718023210764, 0.009934794157743454, -0.022471396252512932, 0.015254804864525795, -0.009934794157743454, -0.011441103182733059, 0.012974800541996956, 0.0008815332548692822, -0.04384729266166687, 0.02864726446568966, -0.00642577838152647, 0.04140981286764145, -0.027907803654670715, -0.016117509454488754, 0.006230643019080162, 0.0031581143848598003, 0.04154674708843231, 0.015473904088139534, 0.0036254124715924263, -0.007867042906582355, -0.01947247050702572, -0.03272799402475357, -0.008038214407861233, 0.02058166265487671, -0.020157156512141228, -0.032070692628622055, -0.004272440914064646, 0.022936983034014702, 0.012317501939833164, 0.0076205553486943245, -0.01947247050702572, 0.007962898351252079, 0.01903427205979824, 0.025045815855264664, 0.02441590465605259, 0.011338400654494762, -0.00539532583206892, 0.028263838961720467, -0.05094064027070999, -0.010208669118583202, 0.01513156108558178, -0.016678951680660248, -0.06841383129358292, -0.004416225012391806, -0.0025247796438634396, -0.02968798577785492, 0.0034319886472076178, 0.007182356435805559, -0.08621566742658615, 0.008250466547906399, 0.030673934146761894, -0.011639663018286228, -0.01785661093890667, -0.033933039754629135, 0.0408620610833168, 0.024676084518432617, -0.024689778685569763, -0.00908578373491764, 0.01741841249167919, -0.005292622838169336, -0.01936292089521885, -0.02348473109304905, -0.017596431076526642, -0.03396042808890343, 0.00977046974003315, 0.010557858273386955, -0.03806854411959648, 0.012365429662168026, 0.0014344172086566687, 0.012310654856264591, 0.02423788607120514, 0.009640379808843136, 0.0032573938369750977, -0.013098043389618397, -0.005621272139251232, -0.006881094537675381, -0.010489390231668949, 0.0423135980963707, 0.037301696836948395, -0.001567075145430863, 0.04905090853571892, -0.031276457011699677, -0.025826357305049896, -0.004340909421443939, -0.002543608658015728, 0.028346002101898193, 0.03187898173928261, -0.0011554076336324215, 0.057842276990413666, -0.008538034744560719, 0.03469988703727722, -0.00302117713727057, -0.0010082002263516188, -0.041218098253011703, 0.013036422431468964, -0.032426729798316956, -0.0036014486104249954, -0.004861271008849144, 0.022676801308989525, 0.0004441900528036058, 0.01982850767672062, -0.02193734049797058, -0.059923723340034485, 0.027017710730433464, 0.0030160420574247837, -0.005816407967358828, 0.017788143828511238, 0.014980930835008621, 0.0505572184920311, -0.003074240405112505, -0.010455155745148659, 0.017733369022607803, 0.001364236930385232, -0.021143104881048203, 0.006312805227935314, 0.0009927947539836168, -0.01803462952375412, 0.0014429758302867413, -0.018335891887545586, -0.00664145452901721, -0.04683252424001694, 0.016980214044451714, -0.02681230567395687, 0.03847935423254967, -0.005073523614555597, -0.03804115578532219, 0.0014729307731613517, -0.006768121384084225, -0.011749212630093098, 0.01599426567554474, 0.013255521655082703, 0.02388184890151024, -0.027948884293437004, 0.014926155097782612, 0.02753807231783867, -0.001975319115445018, -0.021786710247397423, -0.008565422147512436, -0.03815070539712906, -0.012228492647409439, -0.10697534680366516, -0.007867042906582355, -0.0012367141898721457, -0.019335534423589706, -0.03689088299870491, 0.04603828862309456, -0.009202180430293083, 0.051241904497146606, 0.006086858920753002, -0.015158948488533497, 0.041464585810899734, 0.04458675533533096, -0.019992832094430923, -0.0006941004539839923, 0.06556553393602371, 0.02842816337943077, -0.03122168406844139, -0.01349516212940216, -0.027264198288321495, -0.03316619247198105, -0.008332628756761551, -0.01965048909187317, -0.05932119861245155, -0.028482938185334206, -0.03086564689874649, 0.009811551310122013, -0.024443291127681732, -0.01656940206885338, -0.03700043261051178, -0.04047863930463791, 0.024826714769005775, 0.00129748007748276, -0.007161816116422415, 0.011174076236784458, -0.0013650928158313036, -0.032892316579818726, 0.013406152836978436, 0.021033555269241333, 0.012981647625565529, 0.033220965415239334, -0.0002636041317600757, -0.01432363223284483, 0.03828764334321022, 0.004772261716425419, -0.023361487314105034, 0.001089506666176021, -0.01967787742614746, -0.0015619400655850768, 0.011180923320353031, -0.038451965898275375, -0.05740407854318619, -0.008154611103236675, 0.03782205656170845, -0.012392817065119743, 0.01854129694402218, 0.019691569730639458, -0.007949205115437508, 0.004224512726068497, -0.01663787104189396, -0.011598581448197365, 0.0037931606639176607, 0.0019188326550647616, 0.0444498173892498, -0.034754663705825806, 0.010537317954003811, -0.004241629969328642, -0.005973885767161846, -0.023785993456840515, 0.0010141911916434765, -0.006874247919768095, -0.014980930835008621, -0.018157873302698135, -0.007332987617701292, -0.0240187868475914, -0.012214798480272293, -0.014186694286763668, 0.006816049572080374, 0.030482221394777298, -0.07109779864549637, -0.025538789108395576, -0.010818039067089558, 0.003594601759687066, 0.004929739516228437, 0.004067034926265478, -0.009852631948888302, 0.017774449661374092, -0.011954618617892265, 0.01414561364799738, 0.032864928245544434, -0.02312869392335415, -0.004522351082414389, -0.004888658411800861, -0.03248150646686554, 0.03237195685505867, -0.020266706123948097, -0.008449025452136993, 0.007846501655876637, -0.007483618333935738, 0.013050115667283535, 0.0241968035697937, -0.013796423561871052, 0.0372743085026741, 0.01462489366531372, -0.03535718843340874, -0.018116792663931847, -0.015775166451931, 0.009708847850561142, -0.004176585003733635, 0.0023604549933224916, 0.016227059066295624, -0.01096867024898529, -0.04039647430181503, 0.009133711457252502, -0.0020044182892888784, 0.0018161296611651778, 0.025264915078878403, 0.013645792379975319, 0.027948884293437004, 0.027702396735548973, -0.027839334681630135, -0.006196408532559872, 0.025333384051918983, 0.02136220410466194, 0.006737310439348221, 0.01570669747889042, 0.02829122729599476, -0.016610482707619667, -0.01854129694402218, -0.013632099144160748, -0.005258388817310333, -0.034617725759744644, -0.01943138986825943, 0.011735518462955952, -0.011790293268859386, -0.0038445121608674526, -0.05789704993367195, 0.017295168712735176, 0.004251900129020214, -0.003279646160081029, 0.013734801672399044, 0.0005648660007864237, -0.0019838777370750904, -0.0031238801311701536, -0.006658571772277355, 0.02785302698612213, 0.013193899765610695, -0.02014346234500408, 0.03459033742547035, 0.015158948488533497, -0.007079653441905975, 0.003248835215345025, 0.024936266243457794, 0.04190278425812721, -0.006877670995891094, -0.008079295046627522, 0.0071686627343297005, 0.011920384131371975, -0.025388158857822418, 0.024402210488915443, -0.03467250242829323, 0.003964331932365894, 0.009236414916813374, -0.0018863100558519363, -0.0055425334721803665, 0.03538457304239273, -0.015446516685187817, -0.0076753306202590466, -0.0046661351807415485, -0.0154191292822361, 0.03617880865931511, -0.026469962671399117, 0.018267422914505005, 0.0073946090415120125, -0.02007499523460865, 0.015556066296994686, 0.026935549452900887, -0.006309381686151028, -0.0038992869667708874, 0.024032479152083397, 0.016720032319426537, 0.022430313751101494, 0.00940758641809225, -0.01530957967042923, 0.00940758641809225, 0.08260052651166916, 0.01363894622772932, 0.02208797074854374, -0.012351736426353455, 0.03250889107584953, 0.005545957013964653, 0.0394379161298275, 0.009366504848003387, -0.05105018988251686, 0.021567609161138535, 0.020773373544216156, -0.028729425743222237, 0.03993089124560356, 0.018486522138118744, -0.021567609161138535, 0.015241110697388649, -0.035658448934555054, -0.003690457670018077, 0.01256398856639862, 0.006258030422031879, 0.002567572519183159, -0.0010381551692262292, -0.010619480162858963, -0.010044343769550323, -0.033357903361320496, -0.00930488295853138, -0.013022728264331818, -0.04943433031439781, 0.03376871347427368, 0.018240036442875862, 0.0039164042100310326, 0.017897693440318108, -0.02290959469974041, -0.016199670732021332, 0.02323824353516102, 0.007901276461780071, -0.021389592438936234, 0.004193701781332493, -0.01324867457151413, 0.029085462912917137, 0.0003915548149961978, -0.002264599082991481, 0.016391383484005928, -0.017938774079084396, 0.023977704346179962, -0.005936227738857269, -0.012255880050361156, -0.01688435673713684, -0.0014960389817133546, 1.2082301509508397e-05, -0.00022380675363820046, -0.015980571508407593, 0.05165271461009979, 0.013625252060592175, -0.026798611506819725, 0.0015927508939057589, -0.020266706123948097, -0.05466533452272415, -0.027620235458016396, -0.02971537411212921, 0.00760001502931118, -0.0067167701199650764, 0.02782564051449299, 0.013844351284205914, -0.01455642469227314, 0.018404360860586166, 0.021170491352677345, 0.02623716928064823, 0.008106682449579239, 0.0002509802288841456, -0.056089479476213455, 0.029414111748337746, -0.00969515461474657, 0.022416621446609497, 0.014789218083024025, 0.02211535908281803, 0.011468491517007351, -0.027907803654670715, 0.00756578054279089, -0.006271724123507738, 0.02703140489757061, 0.015788860619068146, -0.04162891209125519, 0.03316619247198105, -0.03795899450778961, -0.06195039302110672, -0.02692185528576374, 0.0020352292340248823, 0.016049040481448174, 0.03283754363656044, -0.05441884696483612, -0.025648338720202446, -0.02620978094637394, -0.011605428531765938, 0.005710281431674957, 0.03697304427623749, 0.018842559307813644, -0.0256346445530653, 0.005491182208061218, -0.010270290076732635, 0.007682177238166332, 0.002543608658015728, -0.022471396252512932, -0.018486522138118744, -0.04381990432739258, -0.03420691564679146, 0.03176943212747574, -0.013700567185878754, -0.01724039390683174, 0.01321444008499384, -0.0016526608960703015, -0.022498782724142075, 0.01628183387219906, 0.0390818789601326, -0.03420691564679146, 0.0245528407394886, -0.035658448934555054, -0.01781553030014038, 0.03500115126371384, -0.022348152473568916, -0.009907406754791737, -0.019595714285969734, -0.024361129850149155, -0.05113235116004944, -0.03004402294754982, 0.005946498364210129, 0.021499142050743103, -0.015610842034220695, 0.003346402896568179, -0.004245053511112928, -0.010818039067089558, 0.016158590093255043, -0.020745987072587013, 0.01502201147377491, -0.006045777816325426, -0.007237131241708994, -0.018198953941464424, 0.023566892370581627, 0.0029595554806292057, -0.0030725286342203617, 0.021211573854088783, -0.042861346155405045, -0.026004375889897346, -0.019061658531427383, 0.02237553894519806, 0.011523266322910786, -0.018801478669047356, -0.004933163058012724, 0.032289791852235794, 0.011160382069647312, 0.004275864455848932, 0.001192209543660283, -0.01817156746983528, 0.026291944086551666, -0.026716448366642, -0.007517852820456028, -0.020992474630475044, -0.0003761494008358568, 0.025840051472187042, 0.003171808086335659, -0.0016809041844680905, 0.016446158289909363, -0.008216232061386108, 0.004683252424001694, -0.027880415320396423, 0.005583614576607943, 0.08687296509742737, -0.004114963114261627, -0.015254804864525795, 0.03215285763144493, 0.03237195685505867, 0.010174434632062912, 0.005528839770704508, 0.020732292905449867, -0.03374132886528969, -0.0026651404332369566, -0.01828111708164215, -0.022430313751101494, -0.0016680663684383035, -0.019732652232050896, -0.004193701781332493, 0.030317896977066994, 0.0046147839166224, -0.008928305469453335, -0.0008455872302874923, 0.0020609048660844564, 0.010427768342196941, 0.021540222689509392, -0.013406152836978436, -0.0326184444129467, -0.025319689884781837, -0.012920025736093521, 0.00575478607788682, -0.02656581811606884, 0.003991719800978899, 0.03209808096289635, 0.029195012524724007, 0.00919533334672451, -0.020636437460780144, 0.0095924511551857, -0.027127260342240334, 0.0038273949176073074, 0.004953703377395868, 0.03086564689874649, -0.020622743293642998, 0.003954061772674322, -0.025073202326893806, 0.04650387540459633, -0.010188127867877483, -0.014118226245045662, 0.014679668471217155, -0.0059533449821174145, -0.02054058015346527, -0.03223501890897751, -0.024142028763890266, 0.004354603122919798, -0.0012341465335339308, -0.026935549452900887, 0.033713940531015396, 0.00494000967592001, 0.001400182954967022, -0.037767279893159866, -0.005289199762046337, -0.027551766484975815, 0.01588471606373787, 0.03376871347427368, -0.02111571654677391, 0.0026240593288093805, 0.0006316228536888957, -0.02516905777156353, -0.010434615425765514, -0.01907535269856453, -0.0038445121608674526, 0.0015182913048192859, -0.010119659826159477, -0.016514627262949944, -0.0038445121608674526, 0.01082488615065813, -0.009215873666107655, 0.009606145322322845, 0.022964369505643845, 0.015610842034220695, 0.002603518543764949, 0.007935510948300362, 0.00025547348195686936, 0.013851198367774487, 0.0026993746869266033, -0.029304562136530876, -0.03130384534597397, -0.023251937702298164, 0.0029047804418951273, -0.007415149826556444, -0.0022954100277274847, -0.008695513010025024, 0.004649018403142691, -0.0277845598757267, 0.008113529533147812, -0.00613821018487215, -0.028619876131415367, -0.03697304427623749, 0.0047448743134737015, -0.0027558612637221813, -0.02782564051449299, -9.574906289344653e-05, 0.031166907399892807, -0.00844217836856842, 0.0322624072432518, -0.005169379524886608, 0.011694437824189663, -0.013666333630681038, 0.03500115126371384, -0.0102155152708292, 0.005076947156339884, 0.010044343769550323, 0.007764339447021484, 0.012324349023401737, -0.039027102291584015, -0.027086179703474045, 0.0002424216509098187, 0.002158472780138254, 0.027469603344798088, -0.04272440820932388, 0.021211573854088783, -0.022320764139294624, 0.007873889058828354, -0.009633532725274563, 0.009284342639148235, -0.016227059066295624, -0.01455642469227314, -0.029277175664901733, -0.018979497253894806, 0.0154191292822361, 0.014994624070823193, 0.0684686005115509, 0.012789934873580933, -0.014652281068265438, 0.0029064922127872705, 0.05096802860498428, -0.0007338978466577828, -0.008688665926456451, -0.01020182203501463, 0.020335175096988678, 0.026730142533779144, 0.04822928458452225, 0.0014635163825005293, -0.04883180931210518, 0.023032838478684425, 0.027236809954047203, -0.015172642655670643, 0.033357903361320496, -0.007202897220849991, 0.010256596840918064, 0.007593167945742607, 0.00045788378338329494, -0.03779466822743416, 0.026223475113511086, 0.012611916288733482, 0.02323824353516102, -0.027223115786910057, -0.027332667261362076, -0.001436128979548812, 0.01706237532198429, 0.0018007243052124977, -0.01331714354455471, 0.014077144674956799, -0.005135145038366318, 0.0011408580467104912, -0.00829839427024126, -0.026155006140470505, 0.010270290076732635, 0.04811973497271538, 0.011817680671811104, -0.021882565692067146, -0.0555691197514534, 0.022389233112335205, -0.01432363223284483, 0.02853771299123764, -0.03086564689874649, -0.03385087847709656, -0.025442933663725853, -0.028044739738106728, -0.003228294663131237, 0.010783804580569267, -0.005744515918195248, 0.0002274441358167678, 0.02248508855700493, -0.010715336538851261, -0.027551766484975815, 0.013652639463543892, 0.017089763656258583, -0.020307788625359535, -0.01584363542497158, -0.018733009696006775, -0.010249749757349491, 0.03609664738178253, -0.007504159118980169, -0.04896874353289604, 0.0042792875319719315, 0.0034936105366796255, 0.0007424564100801945, 0.0001141500033554621, -0.003978025633841753, -0.012933718971908092, 0.009667767211794853, -0.023142388090491295, 0.0088735306635499, -0.0099484883248806, -0.024278966709971428, 0.001181939267553389, -0.0308382585644722, 0.02065013162791729, 0.0005165100446902215, -0.00022915586305316538, -0.017404718324542046, -0.03215285763144493, 0.029304562136530876, -0.031276457011699677, -0.013666333630681038, -0.022389233112335205, -0.0225809458643198, 0.025976987555623055, 0.024826714769005775, -0.01717192493379116, 0.025675727054476738, -0.03459033742547035, 0.001930814585648477, -0.03793160617351532, 0.014460569247603416, -0.003960908856242895, 0.01240651123225689, -0.0014138766564428806, -0.03283754363656044, 0.010948129929602146, -0.03806854411959648, -0.007634249050170183, 0.00589857017621398, -0.011680743657052517, -0.02935933694243431, -0.021266348659992218, -0.040095213800668716, 0.04365558177232742, -0.02129373513162136, -0.010571552440524101, -0.009825244545936584, -0.019910668954253197, 0.027291584759950638, 0.004032800905406475, -0.01648723892867565, 0.032289791852235794, 0.013091197237372398, 0.003022888908162713, -0.021375898271799088, -0.029660599306225777, -0.009585604071617126, 0.014419487677514553, -0.0041731614619493484, -0.026196086779236794, -0.0008772540022619069, 0.0177470613270998, -0.012495520524680614, 0.027702396735548973, -0.0050906408578157425, -0.029961861670017242, -0.03853413090109825, 0.008579116314649582, -0.040642961859703064, -0.027811946347355843, 0.00020326617232058197, 0.014392100274562836, -0.007024878636002541, 0.01034560613334179, -0.002538473578169942, -0.006511364132165909, 0.016980214044451714, -0.01114668883383274, -0.001869192929007113, -0.002007841831073165, -0.02029409445822239, -0.00017780440975911915, 0.029441500082612038, -0.007374068722128868, 0.007846501655876637, -0.001838381984271109, 0.0041012694127857685, -0.013159665279090405, 0.01781553030014038, 0.015035705640912056, -0.042039722204208374, -0.03894494101405144, -0.005443254020065069, 0.01491246186196804, 0.00557334441691637, -0.007024878636002541, 0.005973885767161846, 0.03716475889086723, 0.013412998989224434, -0.012433898635208607, 0.0003630975552368909, 0.0010432903654873371, 0.001992436358705163, 0.05740407854318619, -0.002492257161065936, -0.015282192267477512, 0.0006765553844161332, -0.013125431723892689, 0.02100616693496704, -0.020773373544216156, 0.018062017858028412, 0.008572269231081009, -0.0028910867404192686, 0.012221645563840866, 0.011215156875550747, -0.019691569730639458, 0.0017057240474969149, -0.0025521672796458006, 0.0052446951158344746, 0.006364156492054462, -0.017158232629299164, 0.0021653196308761835, -0.0036733406595885754, -0.019636794924736023, -0.0011545518646016717, -0.002475139917805791, 0.006343616172671318, 0.023717524483799934, -0.03004402294754982, 0.013323990628123283, 0.011612274684011936, -0.007791726849973202, 0.0013727955520153046, -0.0001848652318585664, -0.002120814984664321, 0.010304524563252926, -0.006141633726656437, -0.00983893871307373, -0.004491540603339672, 0.003639106173068285, 0.031851593405008316, 0.010722183622419834, -0.012427051551640034, 0.0394379161298275, -0.002836311934515834, -0.03409736603498459, -0.04965342953801155, 0.033248353749513626, -0.007682177238166332, 0.042286209762096405, 0.009975875727832317, 0.014789218083024025, -0.015501291491091251, -0.03642529621720314, 0.009715694934129715, 0.005385055672377348, -0.01310489047318697, -0.006446319166570902, -0.026839692145586014, 0.031961143016815186, 0.004679828882217407, -0.01921229064464569, 0.0019582021050155163, -0.008914612233638763, 0.009606145322322845, 0.028154289349913597, -0.03990350291132927, 0.030701322481036186, 0.0006889653159305453, 0.004991361405700445, -0.004008836578577757, 0.009866326116025448, -0.01595318503677845, -0.025894826278090477, -0.0015525255585089326, -0.017254088073968887, -0.042751796543598175, -0.025785276666283607, -0.004532621707767248, -0.010366146452724934, -0.036945659667253494, -0.023649055510759354, -0.00472433352842927, -0.005391902290284634, -0.018226342275738716, -0.004741450771689415, -0.005015325266867876, -0.0390818789601326, -0.018294811248779297, -0.020663823932409286, -0.013632099144160748, -0.0026805459056049585, -0.01885625347495079, 0.022389233112335205, 0.005617849063128233, -0.04190278425812721, -0.009181640110909939, -0.0038787464145570993]\n"
          ]
        }
      ]
    },
    {
      "cell_type": "code",
      "source": [
        "embeddings = OpenAIEmbeddings(openai_api_key=api_key,\n",
        "                              model=\"text-embedding-3-small\")\n"
      ],
      "metadata": {
        "id": "Zy9x8p1J1fbc"
      },
      "execution_count": 78,
      "outputs": []
    },
    {
      "cell_type": "code",
      "source": [
        "query_result = embeddings.embed_query(chunk.page_content)\n",
        "print(query_result)"
      ],
      "metadata": {
        "colab": {
          "base_uri": "https://localhost:8080/"
        },
        "id": "jZrdAvbS3J1h",
        "outputId": "8f6ab8d2-afb4-4667-9f89-60dd1c3c5b5f"
      },
      "execution_count": 79,
      "outputs": [
        {
          "output_type": "stream",
          "name": "stdout",
          "text": [
            "[0.041026387363672256, 0.08796846121549606, -0.011694437824189663, 0.01444687508046627, -0.012194258160889149, -0.015473904088139534, -0.009393892250955105, 0.002410094952210784, -0.009537676349282265, 0.019417695701122284, 0.016692645847797394, -0.0026480231899768114, -0.01828111708164215, 0.036836110055446625, -0.01147533766925335, -0.016939133405685425, -0.035685837268829346, 0.037192147225141525, -0.005073523614555597, -0.0066380309872329235, 0.0061792912892997265, 0.03642529621720314, 0.03702782094478607, -0.02158130332827568, -0.010270290076732635, 0.009120018221437931, 0.024922572076320648, 0.011858762241899967, 0.041820622980594635, 0.03735646978020668, 0.0046147839166224, -0.01502201147377491, 0.06134786829352379, -0.02971537411212921, 0.011694437824189663, -0.0009713983163237572, -0.006908481940627098, -0.03639790788292885, 0.01331714354455471, -0.012132636271417141, 0.0010141911916434765, -0.02652473747730255, -0.013775883242487907, -0.032782766968011856, 0.025662032887339592, 0.06408661603927612, -0.017610125243663788, 0.024443291127681732, 0.02979753538966179, -0.0008571413345634937, -0.031851593405008316, 0.012988493777811527, -0.005015325266867876, 0.08588701486587524, -0.04505234211683273, 0.004395684227347374, -0.03858890384435654, 0.026511043310165405, 0.0322624072432518, -0.01090020127594471, 0.009612991474568844, 0.01530957967042923, -0.007490465417504311, 0.033823490142822266, 0.0222249086946249, 0.012207952328026295, -0.03582277148962021, 0.031139520928263664, -0.021855177357792854, 0.024046173319220543, 0.02692185528576374, 0.007011184934526682, -0.03398781642317772, -0.017021294683218002, 0.00126153405290097, 0.042861346155405045, -0.008510647341609001, 0.008791368454694748, -0.007161816116422415, -0.014542731456458569, 0.03026312217116356, -0.03456295281648636, -0.024826714769005775, -0.008072447963058949, 0.007332987617701292, 0.04004044085741043, -0.0423135980963707, 0.012064168229699135, 0.027455909177660942, -0.01229696162045002, 0.04351864382624626, 0.011810834519565105, 0.02505950815975666, -0.04557270184159279, 0.041491974145174026, -0.020198237150907516, 0.0036048719193786383, -0.04212188348174095, -0.002286851406097412, 0.029551049694418907, 0.051789652556180954, -0.028838975355029106, -0.024278966709971428, -0.02803104557096958, 0.06709922850131989, 0.011632815934717655, -0.044367656111717224, 0.02512797713279724, -0.028921138495206833, 0.031714655458927155, -0.09711586683988571, 0.012611916288733482, 0.04880442097783089, 0.0029218976851552725, -0.01588471606373787, -0.0012136059813201427, 0.016185978427529335, 0.0038376653101295233, 0.035439349710941315, 0.03524763882160187, -0.004594243131577969, 0.01357047725468874, 0.0058266781270504, -0.0016346878837794065, 0.056199029088020325, 0.035685837268829346, 0.04894135892391205, -0.001864057732746005, -0.01570669747889042, 0.04384729266166687, 0.01976003870368004, -0.017582736909389496, -0.025497708469629288, 0.0013419846072793007, 0.004234783351421356, -0.004700369667261839, -0.02631933055818081, -0.053295962512493134, 0.0670444592833519, 0.08336737006902695, 0.006405238062143326, -0.005292622838169336, 0.02552509494125843, -0.006199832074344158, 0.035192862153053284, 0.06501778215169907, 0.01414561364799738, 0.04083467647433281, 0.03198853135108948, 0.007230284623801708, 0.014049757272005081, 0.027483297511935234, -0.00814091693609953, 0.021307429298758507, 0.0009602721547707915, -0.029605824500322342, -0.014953543432056904, 0.049927305430173874, -0.017692286521196365, -0.012187411077320576, 0.0088735306635499, -0.009154252707958221, 0.0021482023876160383, -0.006162174511700869, 0.010694796219468117, -0.00930488295853138, 0.008188844658434391, 0.017117150127887726, -0.05436407029628754, 0.006905058864504099, -0.01854129694402218, 0.020609049126505852, -0.030591772869229317, 0.06052624434232712, -0.010694796219468117, 0.025867437943816185, -0.035548899322748184, -0.07049527764320374, -0.010174434632062912, -0.013200746849179268, 0.007504159118980169, 0.08090250194072723, 0.028866363689303398, -0.023566892370581627, -0.01602165400981903, 0.007127581629902124, -0.048064958304166794, 0.007367221638560295, 0.0047380272299051285, -0.015542373061180115, -0.02782564051449299, -0.021814096719026566, -0.008825602941215038, 0.03015357255935669, 0.024785634130239487, -0.04001305252313614, 0.04918784648180008, -0.015829941257834435, 0.0037007280625402927, -0.013584170490503311, 0.00030211772536858916, 0.04792802408337593, 0.07175509631633759, -0.018869947642087936, 0.0062272194772958755, 0.03941052779555321, 0.03390565142035484, 0.025867437943816185, -0.007011184934526682, 0.005559650715440512, 0.013803270645439625, -0.044367656111717224, -0.03505592420697212, -0.02104724943637848, -0.02319716289639473, 0.0181030984967947, 0.009900559671223164, -0.017514267936348915, 0.04664081335067749, 0.06375796347856522, -0.02720942348241806, 0.019582020118832588, 0.03809593245387077, 0.006600373424589634, -0.04154674708843231, -0.01403606403619051, 0.02924978733062744, -0.004929739516228437, -0.0466134250164032, 0.08358646929264069, -0.00905154924839735, -0.007914970628917217, -0.027154648676514626, -0.04905090853571892, -0.0004767126520164311, -0.011557499878108501, 0.02638779953122139, -0.03941052779555321, -0.013563630171120167, -0.05860912427306175, -0.03716475889086723, -0.0049639735370874405, 0.01695282571017742, -0.012892638333141804, -0.04220404848456383, 0.009393892250955105, 0.008777675218880177, -0.04940694570541382, 0.043436482548713684, 0.026689061895012856, 0.06162174418568611, 0.055842991918325424, 0.02556617558002472, 0.009400739334523678, -0.0057205515913665295, 0.011639663018286228, 0.005241271574050188, 0.026798611506819725, 0.05258388817310333, -0.0451618917286396, -0.0062203723937273026, 0.024320047348737717, -0.0057342457585036755, -0.01814417913556099, 0.009777316823601723, 0.016090121120214462, 0.047133784741163254, -0.007148122414946556, 0.03982133790850639, -0.021485447883605957, -0.007141275331377983, -0.018062017858028412, 0.03294709324836731, -0.031851593405008316, -0.058663900941610336, -0.01770598068833351, 0.015446516685187817, 0.04288873448967934, -0.008168304339051247, 0.011803987435996532, 0.030920421704649925, 0.010105965659022331, 0.025155365467071533, -0.026223475113511086, -0.016007959842681885, 0.03409736603498459, -0.016651565209031105, 0.062005165964365005, 0.0008383124368265271, 0.005227577872574329, -0.05217307433485985, -0.054473619908094406, 0.005843795370310545, 0.025689419358968735, -0.0545010082423687, 0.033001866191625595, 0.004813342820852995, -0.05740407854318619, 0.03861629217863083, 0.008195691742002964, 0.0505572184920311, 0.07569888979196548, 0.07055004686117172, -0.011982006020843983, 0.020458418875932693, 0.03856151923537254, 0.002969825640320778, 0.012618763372302055, -0.02703140489757061, 0.022649414837360382, -0.03086564689874649, -0.0047791083343327045, -0.019705263897776604, -0.010078578256070614, -0.0035090160090476274, -0.06321021169424057, 0.01509048044681549, 0.004114963114261627, 0.01785661093890667, -0.000502816285006702, 0.029277175664901733, -0.004265593830496073, -0.040177375078201294, -0.0020061300601810217, -0.017692286521196365, 0.008784521371126175, -0.02251247689127922, -0.0188288651406765, 0.05200875177979469, 0.03574061021208763, -0.04581918939948082, -0.08134070038795471, -0.04373774304986, 0.01491246186196804, -0.014090838842093945, -0.032892316579818726, 0.04573702812194824, 0.002322797430679202, -0.00033057498512789607, -0.019513551145792007, -0.0034422590397298336, 0.010907048359513283, -0.009797857142984867, 0.021567609161138535, -0.02900329977273941, 0.02736005373299122, -0.015980571508407593, -0.05499398335814476, -0.017432106658816338, 0.016870664432644844, -0.02082814835011959, -0.013015881180763245, 0.004227936267852783, -0.03141339495778084, 0.008983081206679344, -0.030564384534955025, -0.020910311490297318, 0.01947247050702572, 0.04735288769006729, 0.03828764334321022, -0.043573420494794846, -0.003351538209244609, 0.01663787104189396, -0.0044470359571278095, -0.04091683775186539, 0.023744910955429077, -0.038917552679777145, -0.0020609048660844564, -0.022252297028899193, -0.031605105847120285, -0.036945659667253494, -0.0006380418199114501, -0.02642888016998768, 0.04094422608613968, 0.009886866435408592, 0.021019861102104187, -0.00858596246689558, -0.01208470854908228, 0.061895616352558136, -0.0034148716367781162, 0.005744515918195248, -0.04677775129675865, -0.03302925452589989, -0.025401851162314415, 0.03204330801963806, 0.022211214527487755, 0.023813379928469658, 0.023539505898952484, -0.007983439601957798, -0.023183468729257584, 0.012481826357543468, -0.006781815085560083, -0.008503800258040428, 0.015035705640912056, -0.010941282846033573, -0.04532621428370476, -0.004909198731184006, 0.09618469327688217, 0.010509930551052094, -0.0062203723937273026, 0.007531546521931887, -0.011523266322910786, -0.04650387540459633, 0.027127260342240334, 0.004491540603339672, 0.026223475113511086, -0.014775524847209454, 0.004265593830496073, -0.006035507190972567, -0.036617010831832886, 0.03784944489598274, 0.010551012121140957, 0.03864368051290512, -0.014994624070823193, 0.021375898271799088, -0.04283395782113075, -0.004323792178183794, -0.05625380575656891, 0.03921881690621376, 0.004635324236005545, -0.06638715416193008, -0.013556783087551594, -0.019801119342446327, -0.027551766484975815, -0.012139483354985714, 0.055842991918325424, 0.04710640013217926, -0.0030177535954862833, -0.002286851406097412, -0.0821075513958931, -0.043929457664489746, 0.02452545426785946, -0.021129410713911057, 0.016856970265507698, 0.012269573286175728, -0.028702039271593094, -0.046805135905742645, -0.011311013251543045, -0.003598025068640709, -0.028263838961720467, 0.03847935423254967, -0.03563106060028076, -0.024265272542834282, 0.009784162975847721, -0.052364788949489594, 0.042505308985710144, 0.007538393139839172, 0.0019119858043268323, 0.018335891887545586, -0.018445441499352455, -0.01455642469227314, -0.03957485407590866, -0.014063451439142227, -0.005094063933938742, -0.03316619247198105, -0.039164040237665176, 0.01710345782339573, 0.0003635254979599267, -0.0007634249050170183, 0.009565063752233982, 0.02982492372393608, -0.021704547107219696, -0.021594997495412827, 0.007367221638560295, -0.028975913301110268, 0.03861629217863083, 0.03141339495778084, 4.177654773229733e-05, 0.031495556235313416, -0.019308146089315414, 0.0319063700735569, -0.042039722204208374, 0.0028277533128857613, 0.006401814520359039, 0.017911385744810104, -0.008805062621831894, -0.03524763882160187, 0.009106324054300785, 0.04469630494713783, -0.0326184444129467, 0.042970895767211914, 0.004409377928823233, -0.027168340981006622, 0.0052036140114068985, -0.06819473206996918, 0.0020780221093446016, 0.012872097082436085, 0.00806560181081295, -0.011160382069647312, 0.03365916386246681, -0.02408725395798683, -0.02204689010977745, -0.012687232345342636, -0.015158948488533497, 0.02408725395798683, -0.01976003870368004, 0.022813739255070686, -0.020526887848973274, -0.0051317219622433186, 0.0025145094841718674, 0.0002467009471729398, -0.013337683863937855, 0.014460569247603416, -0.0038068543653935194, -0.03040006011724472, 0.01584363542497158, -0.010619480162858963, 0.01172182522714138, -0.02614131197333336, 0.025648338720202446, -0.02359428070485592, -0.017801836133003235, -0.0329744778573513, -0.011358940973877907, -0.03710998222231865, -0.01079065166413784, -0.0011776599567383528, 0.040998999029397964, -0.018993191421031952, -0.017733369022607803, -0.01581624709069729, 0.017651205882430077, 0.018979497253894806, -0.007504159118980169, -0.0012127500958740711, 0.022676801308989525, 0.010482543148100376, 0.05893777310848236, -0.00607658876106143, -0.031550332903862, 0.016555707901716232, -0.024251580238342285, -0.005141992121934891, 0.007271365728229284, 0.018048323690891266, -0.0006466003833338618, 0.01796616241335869, -0.021197879686951637, 0.009585604071617126, 0.018308505415916443, 0.00017363209917675704, 0.014789218083024025, 0.08583223819732666, -0.003438835497945547, -0.008770828135311604, 0.025086896494030952, 0.021553916856646538, 0.045298829674720764, -0.001879463205114007, -0.02065013162791729, -0.0005802714149467647, 0.02663428708910942, 0.009688307531177998, -0.02323824353516102, 0.009619838558137417, 0.008695513010025024, 0.02075968123972416, -0.011968311853706837, 0.03270060569047928, -0.025032121688127518, -0.05003685504198074, -0.025620952248573303, 0.0012572547420859337, -0.015268498100340366, 0.016007959842681885, 0.021211573854088783, -0.0023878426291048527, 0.03050960972905159, -0.03664439544081688, -0.018418055027723312, -0.028482938185334206, -0.01850021630525589, -0.0029218976851552725, -0.002718203468248248, 0.035658448934555054, -0.020389949902892113, 0.005210460629314184, 0.025798968970775604, -0.01677480712532997, 0.018267422914505005, 0.0011417139321565628, -0.004063611384481192, -0.014173001050949097, 0.03360439091920853, 0.020047606900334358, -0.012570835649967194, -0.04212188348174095, 0.012125790119171143, -0.05789704993367195, 0.0030040598940104246, -0.0016107239061966538, -0.028619876131415367, -0.011489031836390495, -0.0026189240161329508, 0.024443291127681732, -0.028044739738106728, -0.00030211772536858916, 0.011536959558725357, 0.0058883000165224075, -0.005350821185857058, 0.018267422914505005, -0.019746344536542892, 0.002656581811606884, 0.0010621192632243037, -0.007702718023210764, -0.004789378959685564, -0.04647648707032204, -0.045189280062913895, 0.02319716289639473, 0.014953543432056904, -0.02552509494125843, 0.005833525210618973, 0.002754149492830038, 0.0019136974588036537, 0.00600469671189785, 0.03459033742547035, 0.009092630818486214, -0.011523266322910786, 0.018226342275738716, 0.00908578373491764, 0.02968798577785492, 0.038232866674661636, 0.0035038806963711977, 0.006021813489496708, 0.0116533562541008, -0.009387045167386532, -0.040889449417591095, 0.025620952248573303, 0.029770148918032646, -0.005850641988217831, -0.013556783087551594, -0.03817809373140335, 0.008832450024783611, -0.0068639772944152355, 0.008668125607073307, -0.0037863138131797314, -0.009044702164828777, -0.03365916386246681, -0.03374132886528969, -0.027195729315280914, 0.029195012524724007, -0.01150957215577364, 0.021211573854088783, 0.009167945943772793, -0.007928663864731789, -0.01750057563185692, 0.004419648554176092, -0.00031880693859420717, -0.031112132593989372, -0.016788501292467117, 0.008921459317207336, 0.024361129850149155, 0.04932478070259094, 0.021280042827129364, -0.005463794339448214, 0.011824527755379677, 0.00980470422655344, 0.007702718023210764, 0.009934794157743454, -0.022471396252512932, 0.015254804864525795, -0.009934794157743454, -0.011441103182733059, 0.012974800541996956, 0.0008815332548692822, -0.04384729266166687, 0.02864726446568966, -0.00642577838152647, 0.04140981286764145, -0.027907803654670715, -0.016117509454488754, 0.006230643019080162, 0.0031581143848598003, 0.04154674708843231, 0.015473904088139534, 0.0036254124715924263, -0.007867042906582355, -0.01947247050702572, -0.03272799402475357, -0.008038214407861233, 0.02058166265487671, -0.020157156512141228, -0.032070692628622055, -0.004272440914064646, 0.022936983034014702, 0.012317501939833164, 0.0076205553486943245, -0.01947247050702572, 0.007962898351252079, 0.01903427205979824, 0.025045815855264664, 0.02441590465605259, 0.011338400654494762, -0.00539532583206892, 0.028263838961720467, -0.05094064027070999, -0.010208669118583202, 0.01513156108558178, -0.016678951680660248, -0.06841383129358292, -0.004416225012391806, -0.0025247796438634396, -0.02968798577785492, 0.0034319886472076178, 0.007182356435805559, -0.08621566742658615, 0.008250466547906399, 0.030673934146761894, -0.011639663018286228, -0.01785661093890667, -0.033933039754629135, 0.0408620610833168, 0.024676084518432617, -0.024689778685569763, -0.00908578373491764, 0.01741841249167919, -0.005292622838169336, -0.01936292089521885, -0.02348473109304905, -0.017596431076526642, -0.03396042808890343, 0.00977046974003315, 0.010557858273386955, -0.03806854411959648, 0.012365429662168026, 0.0014344172086566687, 0.012310654856264591, 0.02423788607120514, 0.009640379808843136, 0.0032573938369750977, -0.013098043389618397, -0.005621272139251232, -0.006881094537675381, -0.010489390231668949, 0.0423135980963707, 0.037301696836948395, -0.001567075145430863, 0.04905090853571892, -0.031276457011699677, -0.025826357305049896, -0.004340909421443939, -0.002543608658015728, 0.028346002101898193, 0.03187898173928261, -0.0011554076336324215, 0.057842276990413666, -0.008538034744560719, 0.03469988703727722, -0.00302117713727057, -0.0010082002263516188, -0.041218098253011703, 0.013036422431468964, -0.032426729798316956, -0.0036014486104249954, -0.004861271008849144, 0.022676801308989525, 0.0004441900528036058, 0.01982850767672062, -0.02193734049797058, -0.059923723340034485, 0.027017710730433464, 0.0030160420574247837, -0.005816407967358828, 0.017788143828511238, 0.014980930835008621, 0.0505572184920311, -0.003074240405112505, -0.010455155745148659, 0.017733369022607803, 0.001364236930385232, -0.021143104881048203, 0.006312805227935314, 0.0009927947539836168, -0.01803462952375412, 0.0014429758302867413, -0.018335891887545586, -0.00664145452901721, -0.04683252424001694, 0.016980214044451714, -0.02681230567395687, 0.03847935423254967, -0.005073523614555597, -0.03804115578532219, 0.0014729307731613517, -0.006768121384084225, -0.011749212630093098, 0.01599426567554474, 0.013255521655082703, 0.02388184890151024, -0.027948884293437004, 0.014926155097782612, 0.02753807231783867, -0.001975319115445018, -0.021786710247397423, -0.008565422147512436, -0.03815070539712906, -0.012228492647409439, -0.10697534680366516, -0.007867042906582355, -0.0012367141898721457, -0.019335534423589706, -0.03689088299870491, 0.04603828862309456, -0.009202180430293083, 0.051241904497146606, 0.006086858920753002, -0.015158948488533497, 0.041464585810899734, 0.04458675533533096, -0.019992832094430923, -0.0006941004539839923, 0.06556553393602371, 0.02842816337943077, -0.03122168406844139, -0.01349516212940216, -0.027264198288321495, -0.03316619247198105, -0.008332628756761551, -0.01965048909187317, -0.05932119861245155, -0.028482938185334206, -0.03086564689874649, 0.009811551310122013, -0.024443291127681732, -0.01656940206885338, -0.03700043261051178, -0.04047863930463791, 0.024826714769005775, 0.00129748007748276, -0.007161816116422415, 0.011174076236784458, -0.0013650928158313036, -0.032892316579818726, 0.013406152836978436, 0.021033555269241333, 0.012981647625565529, 0.033220965415239334, -0.0002636041317600757, -0.01432363223284483, 0.03828764334321022, 0.004772261716425419, -0.023361487314105034, 0.001089506666176021, -0.01967787742614746, -0.0015619400655850768, 0.011180923320353031, -0.038451965898275375, -0.05740407854318619, -0.008154611103236675, 0.03782205656170845, -0.012392817065119743, 0.01854129694402218, 0.019691569730639458, -0.007949205115437508, 0.004224512726068497, -0.01663787104189396, -0.011598581448197365, 0.0037931606639176607, 0.0019188326550647616, 0.0444498173892498, -0.034754663705825806, 0.010537317954003811, -0.004241629969328642, -0.005973885767161846, -0.023785993456840515, 0.0010141911916434765, -0.006874247919768095, -0.014980930835008621, -0.018157873302698135, -0.007332987617701292, -0.0240187868475914, -0.012214798480272293, -0.014186694286763668, 0.006816049572080374, 0.030482221394777298, -0.07109779864549637, -0.025538789108395576, -0.010818039067089558, 0.003594601759687066, 0.004929739516228437, 0.004067034926265478, -0.009852631948888302, 0.017774449661374092, -0.011954618617892265, 0.01414561364799738, 0.032864928245544434, -0.02312869392335415, -0.004522351082414389, -0.004888658411800861, -0.03248150646686554, 0.03237195685505867, -0.020266706123948097, -0.008449025452136993, 0.007846501655876637, -0.007483618333935738, 0.013050115667283535, 0.0241968035697937, -0.013796423561871052, 0.0372743085026741, 0.01462489366531372, -0.03535718843340874, -0.018116792663931847, -0.015775166451931, 0.009708847850561142, -0.004176585003733635, 0.0023604549933224916, 0.016227059066295624, -0.01096867024898529, -0.04039647430181503, 0.009133711457252502, -0.0020044182892888784, 0.0018161296611651778, 0.025264915078878403, 0.013645792379975319, 0.027948884293437004, 0.027702396735548973, -0.027839334681630135, -0.006196408532559872, 0.025333384051918983, 0.02136220410466194, 0.006737310439348221, 0.01570669747889042, 0.02829122729599476, -0.016610482707619667, -0.01854129694402218, -0.013632099144160748, -0.005258388817310333, -0.034617725759744644, -0.01943138986825943, 0.011735518462955952, -0.011790293268859386, -0.0038445121608674526, -0.05789704993367195, 0.017295168712735176, 0.004251900129020214, -0.003279646160081029, 0.013734801672399044, 0.0005648660007864237, -0.0019838777370750904, -0.0031238801311701536, -0.006658571772277355, 0.02785302698612213, 0.013193899765610695, -0.02014346234500408, 0.03459033742547035, 0.015158948488533497, -0.007079653441905975, 0.003248835215345025, 0.024936266243457794, 0.04190278425812721, -0.006877670995891094, -0.008079295046627522, 0.0071686627343297005, 0.011920384131371975, -0.025388158857822418, 0.024402210488915443, -0.03467250242829323, 0.003964331932365894, 0.009236414916813374, -0.0018863100558519363, -0.0055425334721803665, 0.03538457304239273, -0.015446516685187817, -0.0076753306202590466, -0.0046661351807415485, -0.0154191292822361, 0.03617880865931511, -0.026469962671399117, 0.018267422914505005, 0.0073946090415120125, -0.02007499523460865, 0.015556066296994686, 0.026935549452900887, -0.006309381686151028, -0.0038992869667708874, 0.024032479152083397, 0.016720032319426537, 0.022430313751101494, 0.00940758641809225, -0.01530957967042923, 0.00940758641809225, 0.08260052651166916, 0.01363894622772932, 0.02208797074854374, -0.012351736426353455, 0.03250889107584953, 0.005545957013964653, 0.0394379161298275, 0.009366504848003387, -0.05105018988251686, 0.021567609161138535, 0.020773373544216156, -0.028729425743222237, 0.03993089124560356, 0.018486522138118744, -0.021567609161138535, 0.015241110697388649, -0.035658448934555054, -0.003690457670018077, 0.01256398856639862, 0.006258030422031879, 0.002567572519183159, -0.0010381551692262292, -0.010619480162858963, -0.010044343769550323, -0.033357903361320496, -0.00930488295853138, -0.013022728264331818, -0.04943433031439781, 0.03376871347427368, 0.018240036442875862, 0.0039164042100310326, 0.017897693440318108, -0.02290959469974041, -0.016199670732021332, 0.02323824353516102, 0.007901276461780071, -0.021389592438936234, 0.004193701781332493, -0.01324867457151413, 0.029085462912917137, 0.0003915548149961978, -0.002264599082991481, 0.016391383484005928, -0.017938774079084396, 0.023977704346179962, -0.005936227738857269, -0.012255880050361156, -0.01688435673713684, -0.0014960389817133546, 1.2082301509508397e-05, -0.00022380675363820046, -0.015980571508407593, 0.05165271461009979, 0.013625252060592175, -0.026798611506819725, 0.0015927508939057589, -0.020266706123948097, -0.05466533452272415, -0.027620235458016396, -0.02971537411212921, 0.00760001502931118, -0.0067167701199650764, 0.02782564051449299, 0.013844351284205914, -0.01455642469227314, 0.018404360860586166, 0.021170491352677345, 0.02623716928064823, 0.008106682449579239, 0.0002509802288841456, -0.056089479476213455, 0.029414111748337746, -0.00969515461474657, 0.022416621446609497, 0.014789218083024025, 0.02211535908281803, 0.011468491517007351, -0.027907803654670715, 0.00756578054279089, -0.006271724123507738, 0.02703140489757061, 0.015788860619068146, -0.04162891209125519, 0.03316619247198105, -0.03795899450778961, -0.06195039302110672, -0.02692185528576374, 0.0020352292340248823, 0.016049040481448174, 0.03283754363656044, -0.05441884696483612, -0.025648338720202446, -0.02620978094637394, -0.011605428531765938, 0.005710281431674957, 0.03697304427623749, 0.018842559307813644, -0.0256346445530653, 0.005491182208061218, -0.010270290076732635, 0.007682177238166332, 0.002543608658015728, -0.022471396252512932, -0.018486522138118744, -0.04381990432739258, -0.03420691564679146, 0.03176943212747574, -0.013700567185878754, -0.01724039390683174, 0.01321444008499384, -0.0016526608960703015, -0.022498782724142075, 0.01628183387219906, 0.0390818789601326, -0.03420691564679146, 0.0245528407394886, -0.035658448934555054, -0.01781553030014038, 0.03500115126371384, -0.022348152473568916, -0.009907406754791737, -0.019595714285969734, -0.024361129850149155, -0.05113235116004944, -0.03004402294754982, 0.005946498364210129, 0.021499142050743103, -0.015610842034220695, 0.003346402896568179, -0.004245053511112928, -0.010818039067089558, 0.016158590093255043, -0.020745987072587013, 0.01502201147377491, -0.006045777816325426, -0.007237131241708994, -0.018198953941464424, 0.023566892370581627, 0.0029595554806292057, -0.0030725286342203617, 0.021211573854088783, -0.042861346155405045, -0.026004375889897346, -0.019061658531427383, 0.02237553894519806, 0.011523266322910786, -0.018801478669047356, -0.004933163058012724, 0.032289791852235794, 0.011160382069647312, 0.004275864455848932, 0.001192209543660283, -0.01817156746983528, 0.026291944086551666, -0.026716448366642, -0.007517852820456028, -0.020992474630475044, -0.0003761494008358568, 0.025840051472187042, 0.003171808086335659, -0.0016809041844680905, 0.016446158289909363, -0.008216232061386108, 0.004683252424001694, -0.027880415320396423, 0.005583614576607943, 0.08687296509742737, -0.004114963114261627, -0.015254804864525795, 0.03215285763144493, 0.03237195685505867, 0.010174434632062912, 0.005528839770704508, 0.020732292905449867, -0.03374132886528969, -0.0026651404332369566, -0.01828111708164215, -0.022430313751101494, -0.0016680663684383035, -0.019732652232050896, -0.004193701781332493, 0.030317896977066994, 0.0046147839166224, -0.008928305469453335, -0.0008455872302874923, 0.0020609048660844564, 0.010427768342196941, 0.021540222689509392, -0.013406152836978436, -0.0326184444129467, -0.025319689884781837, -0.012920025736093521, 0.00575478607788682, -0.02656581811606884, 0.003991719800978899, 0.03209808096289635, 0.029195012524724007, 0.00919533334672451, -0.020636437460780144, 0.0095924511551857, -0.027127260342240334, 0.0038273949176073074, 0.004953703377395868, 0.03086564689874649, -0.020622743293642998, 0.003954061772674322, -0.025073202326893806, 0.04650387540459633, -0.010188127867877483, -0.014118226245045662, 0.014679668471217155, -0.0059533449821174145, -0.02054058015346527, -0.03223501890897751, -0.024142028763890266, 0.004354603122919798, -0.0012341465335339308, -0.026935549452900887, 0.033713940531015396, 0.00494000967592001, 0.001400182954967022, -0.037767279893159866, -0.005289199762046337, -0.027551766484975815, 0.01588471606373787, 0.03376871347427368, -0.02111571654677391, 0.0026240593288093805, 0.0006316228536888957, -0.02516905777156353, -0.010434615425765514, -0.01907535269856453, -0.0038445121608674526, 0.0015182913048192859, -0.010119659826159477, -0.016514627262949944, -0.0038445121608674526, 0.01082488615065813, -0.009215873666107655, 0.009606145322322845, 0.022964369505643845, 0.015610842034220695, 0.002603518543764949, 0.007935510948300362, 0.00025547348195686936, 0.013851198367774487, 0.0026993746869266033, -0.029304562136530876, -0.03130384534597397, -0.023251937702298164, 0.0029047804418951273, -0.007415149826556444, -0.0022954100277274847, -0.008695513010025024, 0.004649018403142691, -0.0277845598757267, 0.008113529533147812, -0.00613821018487215, -0.028619876131415367, -0.03697304427623749, 0.0047448743134737015, -0.0027558612637221813, -0.02782564051449299, -9.574906289344653e-05, 0.031166907399892807, -0.00844217836856842, 0.0322624072432518, -0.005169379524886608, 0.011694437824189663, -0.013666333630681038, 0.03500115126371384, -0.0102155152708292, 0.005076947156339884, 0.010044343769550323, 0.007764339447021484, 0.012324349023401737, -0.039027102291584015, -0.027086179703474045, 0.0002424216509098187, 0.002158472780138254, 0.027469603344798088, -0.04272440820932388, 0.021211573854088783, -0.022320764139294624, 0.007873889058828354, -0.009633532725274563, 0.009284342639148235, -0.016227059066295624, -0.01455642469227314, -0.029277175664901733, -0.018979497253894806, 0.0154191292822361, 0.014994624070823193, 0.0684686005115509, 0.012789934873580933, -0.014652281068265438, 0.0029064922127872705, 0.05096802860498428, -0.0007338978466577828, -0.008688665926456451, -0.01020182203501463, 0.020335175096988678, 0.026730142533779144, 0.04822928458452225, 0.0014635163825005293, -0.04883180931210518, 0.023032838478684425, 0.027236809954047203, -0.015172642655670643, 0.033357903361320496, -0.007202897220849991, 0.010256596840918064, 0.007593167945742607, 0.00045788378338329494, -0.03779466822743416, 0.026223475113511086, 0.012611916288733482, 0.02323824353516102, -0.027223115786910057, -0.027332667261362076, -0.001436128979548812, 0.01706237532198429, 0.0018007243052124977, -0.01331714354455471, 0.014077144674956799, -0.005135145038366318, 0.0011408580467104912, -0.00829839427024126, -0.026155006140470505, 0.010270290076732635, 0.04811973497271538, 0.011817680671811104, -0.021882565692067146, -0.0555691197514534, 0.022389233112335205, -0.01432363223284483, 0.02853771299123764, -0.03086564689874649, -0.03385087847709656, -0.025442933663725853, -0.028044739738106728, -0.003228294663131237, 0.010783804580569267, -0.005744515918195248, 0.0002274441358167678, 0.02248508855700493, -0.010715336538851261, -0.027551766484975815, 0.013652639463543892, 0.017089763656258583, -0.020307788625359535, -0.01584363542497158, -0.018733009696006775, -0.010249749757349491, 0.03609664738178253, -0.007504159118980169, -0.04896874353289604, 0.0042792875319719315, 0.0034936105366796255, 0.0007424564100801945, 0.0001141500033554621, -0.003978025633841753, -0.012933718971908092, 0.009667767211794853, -0.023142388090491295, 0.0088735306635499, -0.0099484883248806, -0.024278966709971428, 0.001181939267553389, -0.0308382585644722, 0.02065013162791729, 0.0005165100446902215, -0.00022915586305316538, -0.017404718324542046, -0.03215285763144493, 0.029304562136530876, -0.031276457011699677, -0.013666333630681038, -0.022389233112335205, -0.0225809458643198, 0.025976987555623055, 0.024826714769005775, -0.01717192493379116, 0.025675727054476738, -0.03459033742547035, 0.001930814585648477, -0.03793160617351532, 0.014460569247603416, -0.003960908856242895, 0.01240651123225689, -0.0014138766564428806, -0.03283754363656044, 0.010948129929602146, -0.03806854411959648, -0.007634249050170183, 0.00589857017621398, -0.011680743657052517, -0.02935933694243431, -0.021266348659992218, -0.040095213800668716, 0.04365558177232742, -0.02129373513162136, -0.010571552440524101, -0.009825244545936584, -0.019910668954253197, 0.027291584759950638, 0.004032800905406475, -0.01648723892867565, 0.032289791852235794, 0.013091197237372398, 0.003022888908162713, -0.021375898271799088, -0.029660599306225777, -0.009585604071617126, 0.014419487677514553, -0.0041731614619493484, -0.026196086779236794, -0.0008772540022619069, 0.0177470613270998, -0.012495520524680614, 0.027702396735548973, -0.0050906408578157425, -0.029961861670017242, -0.03853413090109825, 0.008579116314649582, -0.040642961859703064, -0.027811946347355843, 0.00020326617232058197, 0.014392100274562836, -0.007024878636002541, 0.01034560613334179, -0.002538473578169942, -0.006511364132165909, 0.016980214044451714, -0.01114668883383274, -0.001869192929007113, -0.002007841831073165, -0.02029409445822239, -0.00017780440975911915, 0.029441500082612038, -0.007374068722128868, 0.007846501655876637, -0.001838381984271109, 0.0041012694127857685, -0.013159665279090405, 0.01781553030014038, 0.015035705640912056, -0.042039722204208374, -0.03894494101405144, -0.005443254020065069, 0.01491246186196804, 0.00557334441691637, -0.007024878636002541, 0.005973885767161846, 0.03716475889086723, 0.013412998989224434, -0.012433898635208607, 0.0003630975552368909, 0.0010432903654873371, 0.001992436358705163, 0.05740407854318619, -0.002492257161065936, -0.015282192267477512, 0.0006765553844161332, -0.013125431723892689, 0.02100616693496704, -0.020773373544216156, 0.018062017858028412, 0.008572269231081009, -0.0028910867404192686, 0.012221645563840866, 0.011215156875550747, -0.019691569730639458, 0.0017057240474969149, -0.0025521672796458006, 0.0052446951158344746, 0.006364156492054462, -0.017158232629299164, 0.0021653196308761835, -0.0036733406595885754, -0.019636794924736023, -0.0011545518646016717, -0.002475139917805791, 0.006343616172671318, 0.023717524483799934, -0.03004402294754982, 0.013323990628123283, 0.011612274684011936, -0.007791726849973202, 0.0013727955520153046, -0.0001848652318585664, -0.002120814984664321, 0.010304524563252926, -0.006141633726656437, -0.00983893871307373, -0.004491540603339672, 0.003639106173068285, 0.031851593405008316, 0.010722183622419834, -0.012427051551640034, 0.0394379161298275, -0.002836311934515834, -0.03409736603498459, -0.04965342953801155, 0.033248353749513626, -0.007682177238166332, 0.042286209762096405, 0.009975875727832317, 0.014789218083024025, -0.015501291491091251, -0.03642529621720314, 0.009715694934129715, 0.005385055672377348, -0.01310489047318697, -0.006446319166570902, -0.026839692145586014, 0.031961143016815186, 0.004679828882217407, -0.01921229064464569, 0.0019582021050155163, -0.008914612233638763, 0.009606145322322845, 0.028154289349913597, -0.03990350291132927, 0.030701322481036186, 0.0006889653159305453, 0.004991361405700445, -0.004008836578577757, 0.009866326116025448, -0.01595318503677845, -0.025894826278090477, -0.0015525255585089326, -0.017254088073968887, -0.042751796543598175, -0.025785276666283607, -0.004532621707767248, -0.010366146452724934, -0.036945659667253494, -0.023649055510759354, -0.00472433352842927, -0.005391902290284634, -0.018226342275738716, -0.004741450771689415, -0.005015325266867876, -0.0390818789601326, -0.018294811248779297, -0.020663823932409286, -0.013632099144160748, -0.0026805459056049585, -0.01885625347495079, 0.022389233112335205, 0.005617849063128233, -0.04190278425812721, -0.009181640110909939, -0.0038787464145570993]\n"
          ]
        }
      ]
    },
    {
      "cell_type": "markdown",
      "source": [
        "# 3. Vector Store"
      ],
      "metadata": {
        "id": "DI47qd7h3qsJ"
      }
    },
    {
      "cell_type": "code",
      "source": [
        "print(len(all_docs))"
      ],
      "metadata": {
        "colab": {
          "base_uri": "https://localhost:8080/"
        },
        "id": "JEaDbwLW33CC",
        "outputId": "84ca2df2-30f5-4a72-943a-876c60bddbd6"
      },
      "execution_count": 80,
      "outputs": [
        {
          "output_type": "stream",
          "name": "stdout",
          "text": [
            "8927\n"
          ]
        }
      ]
    },
    {
      "cell_type": "code",
      "source": [
        "db = FAISS.from_documents(all_docs, embeddings)"
      ],
      "metadata": {
        "id": "xZUogyOE4Cuj"
      },
      "execution_count": 81,
      "outputs": []
    },
    {
      "cell_type": "code",
      "source": [
        "question = \"Who is Mr. Dursley?\"\n",
        "searchDocs = db.similarity_search(question)\n",
        "print_lines(searchDocs[0].page_content)"
      ],
      "metadata": {
        "colab": {
          "base_uri": "https://localhost:8080/"
        },
        "id": "LN3iZOtN9Egy",
        "outputId": "40e87955-3575-4a38-80e1-6a765dd6aac4"
      },
      "execution_count": 82,
      "outputs": [
        {
          "output_type": "stream",
          "name": "stdout",
          "text": [
            "As he had expected, Mrs. Dursley looked shocked and \n",
            "angry. After all, they normally pretended she didn’t \n",
            "have a sister. “No,” she said sharply. “Why?” “Funny \n",
            "stuff on the news,” Mr. Dursley mumbled. “Owls…shooting \n",
            "stars…and there were a lot of funny-looking people \n",
            "in town today.…” “So?” snapped Mrs. Dursley. “Well, \n",
            "I just thought…maybe…it was something to do with…you \n",
            "know…her crowd.” Mrs. Dursley sipped her tea through \n",
            "pursed lips. Mr. Dursley wondered whether he dared \n",
            "tell her he’d heard the name “Potter.” He decided he \n",
            "didn’t dare. Instead he said, as casually as he could, \n",
            "“Their son — he’d be about Dudley’s age now, wouldn’t \n",
            "he?” “I suppose so,” said Mrs. Dursley stiffly. “What’s \n",
            "his name again? Howard, isn’t it?” “Harry. Nasty, common \n",
            "name, if you ask me.” “Oh, yes,” said Mr. Dursley, \n",
            "his heart sinking horribly. “Yes, I quite \n"
          ]
        }
      ]
    },
    {
      "cell_type": "markdown",
      "source": [
        "## 5. RAG"
      ],
      "metadata": {
        "id": "f4sxbgr2BkO7"
      }
    },
    {
      "cell_type": "code",
      "source": [
        "from langchain import hub\n",
        "from langchain_core.runnables import RunnablePassthrough\n",
        "from langchain_core.output_parsers import StrOutputParser"
      ],
      "metadata": {
        "id": "yd5RkkgZCDkx"
      },
      "execution_count": 93,
      "outputs": []
    },
    {
      "cell_type": "code",
      "source": [
        "llm = ChatOpenAI(model=\"gpt-4o-mini\")\n",
        "retriever = db.as_retriever()\n",
        "prompt = hub.pull(\"rlm/rag-prompt\")\n",
        "\n",
        "def format_docs(docs):\n",
        "    return \"\\n\\n\".join(doc.page_content for doc in docs)\n",
        "\n",
        "\n",
        "rag_chain = (\n",
        "    {\"context\": retriever | format_docs, \"question\": RunnablePassthrough()}\n",
        "    | prompt\n",
        "    | llm\n",
        "    | StrOutputParser()\n",
        ")"
      ],
      "metadata": {
        "colab": {
          "base_uri": "https://localhost:8080/"
        },
        "id": "pdS7DCUYBiq1",
        "outputId": "1f1258b9-0e53-4d88-b76e-3cdb59049240"
      },
      "execution_count": 94,
      "outputs": [
        {
          "output_type": "stream",
          "name": "stderr",
          "text": [
            "/usr/local/lib/python3.10/dist-packages/langsmith/client.py:354: LangSmithMissingAPIKeyWarning: API key must be provided when using hosted LangSmith API\n",
            "  warnings.warn(\n"
          ]
        }
      ]
    },
    {
      "cell_type": "code",
      "source": [
        "rag_chain.invoke(\"Who is Mr. Dursley?\")"
      ],
      "metadata": {
        "colab": {
          "base_uri": "https://localhost:8080/",
          "height": 70
        },
        "id": "QmDqda2X_ZOL",
        "outputId": "9b888037-7c22-4609-c2c8-4f37275858d4"
      },
      "execution_count": 95,
      "outputs": [
        {
          "output_type": "execute_result",
          "data": {
            "text/plain": [
              "\"Mr. Dursley, also known as Vernon Dursley, is Harry Potter's uncle and a Muggle. He is married to Petunia Dursley and is characterized by his disdain for anything magical. The Dursleys raised Harry after the death of his parents, hoping to suppress his magical abilities.\""
            ],
            "application/vnd.google.colaboratory.intrinsic+json": {
              "type": "string"
            }
          },
          "metadata": {},
          "execution_count": 95
        }
      ]
    }
  ]
}