{
  "cells": [
    {
      "cell_type": "code",
      "execution_count": 1,
      "metadata": {},
      "outputs": [
        {
          "name": "stdout",
          "output_type": "stream",
          "text": [
            "Requirement already satisfied: openai in c:\\users\\jdmartinev\\onedrive - universidad eafit\\cursos\\inteligencia artificial - im\\lecture13\\notebooks\\ragenv\\lib\\site-packages (1.76.0)\n",
            "Requirement already satisfied: langchain in c:\\users\\jdmartinev\\onedrive - universidad eafit\\cursos\\inteligencia artificial - im\\lecture13\\notebooks\\ragenv\\lib\\site-packages (0.3.24)\n",
            "Requirement already satisfied: langchain_community in c:\\users\\jdmartinev\\onedrive - universidad eafit\\cursos\\inteligencia artificial - im\\lecture13\\notebooks\\ragenv\\lib\\site-packages (0.3.22)\n",
            "Collecting streamlit\n",
            "  Downloading streamlit-1.44.1-py3-none-any.whl (9.8 MB)\n",
            "     ---------------------------------------- 9.8/9.8 MB 13.1 MB/s eta 0:00:00\n",
            "Requirement already satisfied: anyio<5,>=3.5.0 in c:\\users\\jdmartinev\\onedrive - universidad eafit\\cursos\\inteligencia artificial - im\\lecture13\\notebooks\\ragenv\\lib\\site-packages (from openai) (4.9.0)\n",
            "Requirement already satisfied: distro<2,>=1.7.0 in c:\\users\\jdmartinev\\onedrive - universidad eafit\\cursos\\inteligencia artificial - im\\lecture13\\notebooks\\ragenv\\lib\\site-packages (from openai) (1.9.0)\n",
            "Requirement already satisfied: httpx<1,>=0.23.0 in c:\\users\\jdmartinev\\onedrive - universidad eafit\\cursos\\inteligencia artificial - im\\lecture13\\notebooks\\ragenv\\lib\\site-packages (from openai) (0.28.1)\n",
            "Requirement already satisfied: jiter<1,>=0.4.0 in c:\\users\\jdmartinev\\onedrive - universidad eafit\\cursos\\inteligencia artificial - im\\lecture13\\notebooks\\ragenv\\lib\\site-packages (from openai) (0.9.0)\n",
            "Requirement already satisfied: pydantic<3,>=1.9.0 in c:\\users\\jdmartinev\\onedrive - universidad eafit\\cursos\\inteligencia artificial - im\\lecture13\\notebooks\\ragenv\\lib\\site-packages (from openai) (2.11.3)\n",
            "Requirement already satisfied: sniffio in c:\\users\\jdmartinev\\onedrive - universidad eafit\\cursos\\inteligencia artificial - im\\lecture13\\notebooks\\ragenv\\lib\\site-packages (from openai) (1.3.1)\n",
            "Requirement already satisfied: tqdm>4 in c:\\users\\jdmartinev\\onedrive - universidad eafit\\cursos\\inteligencia artificial - im\\lecture13\\notebooks\\ragenv\\lib\\site-packages (from openai) (4.67.1)\n",
            "Requirement already satisfied: typing-extensions<5,>=4.11 in c:\\users\\jdmartinev\\onedrive - universidad eafit\\cursos\\inteligencia artificial - im\\lecture13\\notebooks\\ragenv\\lib\\site-packages (from openai) (4.13.2)\n",
            "Requirement already satisfied: langchain-core<1.0.0,>=0.3.55 in c:\\users\\jdmartinev\\onedrive - universidad eafit\\cursos\\inteligencia artificial - im\\lecture13\\notebooks\\ragenv\\lib\\site-packages (from langchain) (0.3.56)\n",
            "Requirement already satisfied: langchain-text-splitters<1.0.0,>=0.3.8 in c:\\users\\jdmartinev\\onedrive - universidad eafit\\cursos\\inteligencia artificial - im\\lecture13\\notebooks\\ragenv\\lib\\site-packages (from langchain) (0.3.8)\n",
            "Requirement already satisfied: langsmith<0.4,>=0.1.17 in c:\\users\\jdmartinev\\onedrive - universidad eafit\\cursos\\inteligencia artificial - im\\lecture13\\notebooks\\ragenv\\lib\\site-packages (from langchain) (0.3.37)\n",
            "Requirement already satisfied: SQLAlchemy<3,>=1.4 in c:\\users\\jdmartinev\\onedrive - universidad eafit\\cursos\\inteligencia artificial - im\\lecture13\\notebooks\\ragenv\\lib\\site-packages (from langchain) (2.0.40)\n",
            "Requirement already satisfied: requests<3,>=2 in c:\\users\\jdmartinev\\onedrive - universidad eafit\\cursos\\inteligencia artificial - im\\lecture13\\notebooks\\ragenv\\lib\\site-packages (from langchain) (2.32.3)\n",
            "Requirement already satisfied: PyYAML>=5.3 in c:\\users\\jdmartinev\\onedrive - universidad eafit\\cursos\\inteligencia artificial - im\\lecture13\\notebooks\\ragenv\\lib\\site-packages (from langchain) (6.0.2)\n",
            "Requirement already satisfied: aiohttp<4.0.0,>=3.8.3 in c:\\users\\jdmartinev\\onedrive - universidad eafit\\cursos\\inteligencia artificial - im\\lecture13\\notebooks\\ragenv\\lib\\site-packages (from langchain_community) (3.11.18)\n",
            "Requirement already satisfied: tenacity!=8.4.0,<10,>=8.1.0 in c:\\users\\jdmartinev\\onedrive - universidad eafit\\cursos\\inteligencia artificial - im\\lecture13\\notebooks\\ragenv\\lib\\site-packages (from langchain_community) (9.1.2)\n",
            "Requirement already satisfied: dataclasses-json<0.7,>=0.5.7 in c:\\users\\jdmartinev\\onedrive - universidad eafit\\cursos\\inteligencia artificial - im\\lecture13\\notebooks\\ragenv\\lib\\site-packages (from langchain_community) (0.6.7)\n",
            "Requirement already satisfied: pydantic-settings<3.0.0,>=2.4.0 in c:\\users\\jdmartinev\\onedrive - universidad eafit\\cursos\\inteligencia artificial - im\\lecture13\\notebooks\\ragenv\\lib\\site-packages (from langchain_community) (2.9.1)\n",
            "Requirement already satisfied: httpx-sse<1.0.0,>=0.4.0 in c:\\users\\jdmartinev\\onedrive - universidad eafit\\cursos\\inteligencia artificial - im\\lecture13\\notebooks\\ragenv\\lib\\site-packages (from langchain_community) (0.4.0)\n",
            "Requirement already satisfied: numpy>=1.26.2 in c:\\users\\jdmartinev\\onedrive - universidad eafit\\cursos\\inteligencia artificial - im\\lecture13\\notebooks\\ragenv\\lib\\site-packages (from langchain_community) (2.2.5)\n",
            "Collecting altair<6,>=4.0\n",
            "  Downloading altair-5.5.0-py3-none-any.whl (731 kB)\n",
            "     ------------------------------------- 731.2/731.2 kB 15.3 MB/s eta 0:00:00\n",
            "Collecting blinker<2,>=1.0.0\n",
            "  Downloading blinker-1.9.0-py3-none-any.whl (8.5 kB)\n",
            "Requirement already satisfied: cachetools<6,>=4.0 in c:\\users\\jdmartinev\\onedrive - universidad eafit\\cursos\\inteligencia artificial - im\\lecture13\\notebooks\\ragenv\\lib\\site-packages (from streamlit) (5.5.2)\n",
            "Requirement already satisfied: click<9,>=7.0 in c:\\users\\jdmartinev\\onedrive - universidad eafit\\cursos\\inteligencia artificial - im\\lecture13\\notebooks\\ragenv\\lib\\site-packages (from streamlit) (8.1.8)\n",
            "Requirement already satisfied: packaging<25,>=20 in c:\\users\\jdmartinev\\onedrive - universidad eafit\\cursos\\inteligencia artificial - im\\lecture13\\notebooks\\ragenv\\lib\\site-packages (from streamlit) (24.2)\n",
            "Collecting pandas<3,>=1.4.0\n",
            "  Downloading pandas-2.2.3-cp311-cp311-win_amd64.whl (11.6 MB)\n",
            "     --------------------------------------- 11.6/11.6 MB 14.9 MB/s eta 0:00:00\n",
            "Collecting pillow<12,>=7.1.0\n",
            "  Downloading pillow-11.2.1-cp311-cp311-win_amd64.whl (2.7 MB)\n",
            "     ---------------------------------------- 2.7/2.7 MB 15.5 MB/s eta 0:00:00\n",
            "Requirement already satisfied: protobuf<6,>=3.20 in c:\\users\\jdmartinev\\onedrive - universidad eafit\\cursos\\inteligencia artificial - im\\lecture13\\notebooks\\ragenv\\lib\\site-packages (from streamlit) (5.29.4)\n",
            "Collecting pyarrow>=7.0\n",
            "  Downloading pyarrow-20.0.0-cp311-cp311-win_amd64.whl (25.8 MB)\n",
            "     --------------------------------------- 25.8/25.8 MB 15.2 MB/s eta 0:00:00\n",
            "Collecting toml<2,>=0.10.1\n",
            "  Downloading toml-0.10.2-py2.py3-none-any.whl (16 kB)\n",
            "Collecting watchdog<7,>=2.1.5\n",
            "  Downloading watchdog-6.0.0-py3-none-win_amd64.whl (79 kB)\n",
            "     ---------------------------------------- 79.1/79.1 kB 4.6 MB/s eta 0:00:00\n",
            "Collecting gitpython!=3.1.19,<4,>=3.0.7\n",
            "  Downloading GitPython-3.1.44-py3-none-any.whl (207 kB)\n",
            "     -------------------------------------- 207.6/207.6 kB 6.2 MB/s eta 0:00:00\n",
            "Collecting pydeck<1,>=0.8.0b4\n",
            "  Downloading pydeck-0.9.1-py2.py3-none-any.whl (6.9 MB)\n",
            "     ---------------------------------------- 6.9/6.9 MB 16.3 MB/s eta 0:00:00\n",
            "Requirement already satisfied: tornado<7,>=6.0.3 in c:\\users\\jdmartinev\\onedrive - universidad eafit\\cursos\\inteligencia artificial - im\\lecture13\\notebooks\\ragenv\\lib\\site-packages (from streamlit) (6.4.2)\n",
            "Requirement already satisfied: aiohappyeyeballs>=2.3.0 in c:\\users\\jdmartinev\\onedrive - universidad eafit\\cursos\\inteligencia artificial - im\\lecture13\\notebooks\\ragenv\\lib\\site-packages (from aiohttp<4.0.0,>=3.8.3->langchain_community) (2.6.1)\n",
            "Requirement already satisfied: aiosignal>=1.1.2 in c:\\users\\jdmartinev\\onedrive - universidad eafit\\cursos\\inteligencia artificial - im\\lecture13\\notebooks\\ragenv\\lib\\site-packages (from aiohttp<4.0.0,>=3.8.3->langchain_community) (1.3.2)\n",
            "Requirement already satisfied: attrs>=17.3.0 in c:\\users\\jdmartinev\\onedrive - universidad eafit\\cursos\\inteligencia artificial - im\\lecture13\\notebooks\\ragenv\\lib\\site-packages (from aiohttp<4.0.0,>=3.8.3->langchain_community) (25.3.0)\n",
            "Requirement already satisfied: frozenlist>=1.1.1 in c:\\users\\jdmartinev\\onedrive - universidad eafit\\cursos\\inteligencia artificial - im\\lecture13\\notebooks\\ragenv\\lib\\site-packages (from aiohttp<4.0.0,>=3.8.3->langchain_community) (1.6.0)\n",
            "Requirement already satisfied: multidict<7.0,>=4.5 in c:\\users\\jdmartinev\\onedrive - universidad eafit\\cursos\\inteligencia artificial - im\\lecture13\\notebooks\\ragenv\\lib\\site-packages (from aiohttp<4.0.0,>=3.8.3->langchain_community) (6.4.3)\n",
            "Requirement already satisfied: propcache>=0.2.0 in c:\\users\\jdmartinev\\onedrive - universidad eafit\\cursos\\inteligencia artificial - im\\lecture13\\notebooks\\ragenv\\lib\\site-packages (from aiohttp<4.0.0,>=3.8.3->langchain_community) (0.3.1)\n",
            "Requirement already satisfied: yarl<2.0,>=1.17.0 in c:\\users\\jdmartinev\\onedrive - universidad eafit\\cursos\\inteligencia artificial - im\\lecture13\\notebooks\\ragenv\\lib\\site-packages (from aiohttp<4.0.0,>=3.8.3->langchain_community) (1.20.0)\n",
            "Requirement already satisfied: jinja2 in c:\\users\\jdmartinev\\onedrive - universidad eafit\\cursos\\inteligencia artificial - im\\lecture13\\notebooks\\ragenv\\lib\\site-packages (from altair<6,>=4.0->streamlit) (3.1.6)\n",
            "Collecting jsonschema>=3.0\n",
            "  Downloading jsonschema-4.23.0-py3-none-any.whl (88 kB)\n",
            "     ---------------------------------------- 88.5/88.5 kB ? eta 0:00:00\n",
            "Collecting narwhals>=1.14.2\n",
            "  Downloading narwhals-1.37.0-py3-none-any.whl (331 kB)\n",
            "     ------------------------------------- 331.9/331.9 kB 10.1 MB/s eta 0:00:00\n",
            "Requirement already satisfied: idna>=2.8 in c:\\users\\jdmartinev\\onedrive - universidad eafit\\cursos\\inteligencia artificial - im\\lecture13\\notebooks\\ragenv\\lib\\site-packages (from anyio<5,>=3.5.0->openai) (3.10)\n",
            "Requirement already satisfied: colorama in c:\\users\\jdmartinev\\onedrive - universidad eafit\\cursos\\inteligencia artificial - im\\lecture13\\notebooks\\ragenv\\lib\\site-packages (from click<9,>=7.0->streamlit) (0.4.6)\n",
            "Requirement already satisfied: marshmallow<4.0.0,>=3.18.0 in c:\\users\\jdmartinev\\onedrive - universidad eafit\\cursos\\inteligencia artificial - im\\lecture13\\notebooks\\ragenv\\lib\\site-packages (from dataclasses-json<0.7,>=0.5.7->langchain_community) (3.26.1)\n",
            "Requirement already satisfied: typing-inspect<1,>=0.4.0 in c:\\users\\jdmartinev\\onedrive - universidad eafit\\cursos\\inteligencia artificial - im\\lecture13\\notebooks\\ragenv\\lib\\site-packages (from dataclasses-json<0.7,>=0.5.7->langchain_community) (0.9.0)\n",
            "Collecting gitdb<5,>=4.0.1\n",
            "  Downloading gitdb-4.0.12-py3-none-any.whl (62 kB)\n",
            "     ---------------------------------------- 62.8/62.8 kB 3.3 MB/s eta 0:00:00\n",
            "Requirement already satisfied: certifi in c:\\users\\jdmartinev\\onedrive - universidad eafit\\cursos\\inteligencia artificial - im\\lecture13\\notebooks\\ragenv\\lib\\site-packages (from httpx<1,>=0.23.0->openai) (2025.4.26)\n",
            "Requirement already satisfied: httpcore==1.* in c:\\users\\jdmartinev\\onedrive - universidad eafit\\cursos\\inteligencia artificial - im\\lecture13\\notebooks\\ragenv\\lib\\site-packages (from httpx<1,>=0.23.0->openai) (1.0.9)\n",
            "Requirement already satisfied: h11>=0.16 in c:\\users\\jdmartinev\\onedrive - universidad eafit\\cursos\\inteligencia artificial - im\\lecture13\\notebooks\\ragenv\\lib\\site-packages (from httpcore==1.*->httpx<1,>=0.23.0->openai) (0.16.0)\n",
            "Requirement already satisfied: jsonpatch<2.0,>=1.33 in c:\\users\\jdmartinev\\onedrive - universidad eafit\\cursos\\inteligencia artificial - im\\lecture13\\notebooks\\ragenv\\lib\\site-packages (from langchain-core<1.0.0,>=0.3.55->langchain) (1.33)\n",
            "Requirement already satisfied: orjson<4.0.0,>=3.9.14 in c:\\users\\jdmartinev\\onedrive - universidad eafit\\cursos\\inteligencia artificial - im\\lecture13\\notebooks\\ragenv\\lib\\site-packages (from langsmith<0.4,>=0.1.17->langchain) (3.10.16)\n",
            "Requirement already satisfied: requests-toolbelt<2.0.0,>=1.0.0 in c:\\users\\jdmartinev\\onedrive - universidad eafit\\cursos\\inteligencia artificial - im\\lecture13\\notebooks\\ragenv\\lib\\site-packages (from langsmith<0.4,>=0.1.17->langchain) (1.0.0)\n",
            "Requirement already satisfied: zstandard<0.24.0,>=0.23.0 in c:\\users\\jdmartinev\\onedrive - universidad eafit\\cursos\\inteligencia artificial - im\\lecture13\\notebooks\\ragenv\\lib\\site-packages (from langsmith<0.4,>=0.1.17->langchain) (0.23.0)\n",
            "Requirement already satisfied: python-dateutil>=2.8.2 in c:\\users\\jdmartinev\\onedrive - universidad eafit\\cursos\\inteligencia artificial - im\\lecture13\\notebooks\\ragenv\\lib\\site-packages (from pandas<3,>=1.4.0->streamlit) (2.9.0.post0)\n",
            "Collecting pytz>=2020.1\n",
            "  Downloading pytz-2025.2-py2.py3-none-any.whl (509 kB)\n",
            "     ------------------------------------- 509.2/509.2 kB 10.8 MB/s eta 0:00:00\n",
            "Collecting tzdata>=2022.7\n",
            "  Downloading tzdata-2025.2-py2.py3-none-any.whl (347 kB)\n",
            "     ------------------------------------- 347.8/347.8 kB 21.1 MB/s eta 0:00:00\n",
            "Requirement already satisfied: annotated-types>=0.6.0 in c:\\users\\jdmartinev\\onedrive - universidad eafit\\cursos\\inteligencia artificial - im\\lecture13\\notebooks\\ragenv\\lib\\site-packages (from pydantic<3,>=1.9.0->openai) (0.7.0)\n",
            "Requirement already satisfied: pydantic-core==2.33.1 in c:\\users\\jdmartinev\\onedrive - universidad eafit\\cursos\\inteligencia artificial - im\\lecture13\\notebooks\\ragenv\\lib\\site-packages (from pydantic<3,>=1.9.0->openai) (2.33.1)\n",
            "Requirement already satisfied: typing-inspection>=0.4.0 in c:\\users\\jdmartinev\\onedrive - universidad eafit\\cursos\\inteligencia artificial - im\\lecture13\\notebooks\\ragenv\\lib\\site-packages (from pydantic<3,>=1.9.0->openai) (0.4.0)\n",
            "Requirement already satisfied: python-dotenv>=0.21.0 in c:\\users\\jdmartinev\\onedrive - universidad eafit\\cursos\\inteligencia artificial - im\\lecture13\\notebooks\\ragenv\\lib\\site-packages (from pydantic-settings<3.0.0,>=2.4.0->langchain_community) (1.1.0)\n",
            "Requirement already satisfied: charset-normalizer<4,>=2 in c:\\users\\jdmartinev\\onedrive - universidad eafit\\cursos\\inteligencia artificial - im\\lecture13\\notebooks\\ragenv\\lib\\site-packages (from requests<3,>=2->langchain) (3.4.1)\n",
            "Requirement already satisfied: urllib3<3,>=1.21.1 in c:\\users\\jdmartinev\\onedrive - universidad eafit\\cursos\\inteligencia artificial - im\\lecture13\\notebooks\\ragenv\\lib\\site-packages (from requests<3,>=2->langchain) (2.4.0)\n",
            "Requirement already satisfied: greenlet>=1 in c:\\users\\jdmartinev\\onedrive - universidad eafit\\cursos\\inteligencia artificial - im\\lecture13\\notebooks\\ragenv\\lib\\site-packages (from SQLAlchemy<3,>=1.4->langchain) (3.2.1)\n",
            "Collecting smmap<6,>=3.0.1\n",
            "  Downloading smmap-5.0.2-py3-none-any.whl (24 kB)\n",
            "Requirement already satisfied: MarkupSafe>=2.0 in c:\\users\\jdmartinev\\onedrive - universidad eafit\\cursos\\inteligencia artificial - im\\lecture13\\notebooks\\ragenv\\lib\\site-packages (from jinja2->altair<6,>=4.0->streamlit) (3.0.2)\n",
            "Requirement already satisfied: jsonpointer>=1.9 in c:\\users\\jdmartinev\\onedrive - universidad eafit\\cursos\\inteligencia artificial - im\\lecture13\\notebooks\\ragenv\\lib\\site-packages (from jsonpatch<2.0,>=1.33->langchain-core<1.0.0,>=0.3.55->langchain) (3.0.0)\n",
            "Collecting jsonschema-specifications>=2023.03.6\n",
            "  Downloading jsonschema_specifications-2025.4.1-py3-none-any.whl (18 kB)\n",
            "Collecting referencing>=0.28.4\n",
            "  Downloading referencing-0.36.2-py3-none-any.whl (26 kB)\n",
            "Collecting rpds-py>=0.7.1\n",
            "  Downloading rpds_py-0.24.0-cp311-cp311-win_amd64.whl (234 kB)\n",
            "     -------------------------------------- 234.7/234.7 kB 7.2 MB/s eta 0:00:00\n",
            "Requirement already satisfied: six>=1.5 in c:\\users\\jdmartinev\\onedrive - universidad eafit\\cursos\\inteligencia artificial - im\\lecture13\\notebooks\\ragenv\\lib\\site-packages (from python-dateutil>=2.8.2->pandas<3,>=1.4.0->streamlit) (1.17.0)\n",
            "Requirement already satisfied: mypy-extensions>=0.3.0 in c:\\users\\jdmartinev\\onedrive - universidad eafit\\cursos\\inteligencia artificial - im\\lecture13\\notebooks\\ragenv\\lib\\site-packages (from typing-inspect<1,>=0.4.0->dataclasses-json<0.7,>=0.5.7->langchain_community) (1.1.0)\n",
            "Installing collected packages: pytz, watchdog, tzdata, toml, smmap, rpds-py, pyarrow, pillow, narwhals, blinker, referencing, pydeck, pandas, gitdb, jsonschema-specifications, gitpython, jsonschema, altair, streamlit\n",
            "Successfully installed altair-5.5.0 blinker-1.9.0 gitdb-4.0.12 gitpython-3.1.44 jsonschema-4.23.0 jsonschema-specifications-2025.4.1 narwhals-1.37.0 pandas-2.2.3 pillow-11.2.1 pyarrow-20.0.0 pydeck-0.9.1 pytz-2025.2 referencing-0.36.2 rpds-py-0.24.0 smmap-5.0.2 streamlit-1.44.1 toml-0.10.2 tzdata-2025.2 watchdog-6.0.0\n",
            "Note: you may need to restart the kernel to use updated packages.\n"
          ]
        },
        {
          "name": "stderr",
          "output_type": "stream",
          "text": [
            "\n",
            "[notice] A new release of pip available: 22.3 -> 25.1\n",
            "[notice] To update, run: python.exe -m pip install --upgrade pip\n"
          ]
        },
        {
          "name": "stdout",
          "output_type": "stream",
          "text": [
            "Collecting faiss-cpu\n",
            "  Downloading faiss_cpu-1.11.0-cp311-cp311-win_amd64.whl (15.0 MB)\n",
            "     --------------------------------------- 15.0/15.0 MB 20.4 MB/s eta 0:00:00\n",
            "Requirement already satisfied: numpy<3.0,>=1.25.0 in c:\\users\\jdmartinev\\onedrive - universidad eafit\\cursos\\inteligencia artificial - im\\lecture13\\notebooks\\ragenv\\lib\\site-packages (from faiss-cpu) (2.2.5)\n",
            "Requirement already satisfied: packaging in c:\\users\\jdmartinev\\onedrive - universidad eafit\\cursos\\inteligencia artificial - im\\lecture13\\notebooks\\ragenv\\lib\\site-packages (from faiss-cpu) (24.2)\n",
            "Installing collected packages: faiss-cpu\n",
            "Successfully installed faiss-cpu-1.11.0\n",
            "Note: you may need to restart the kernel to use updated packages.\n"
          ]
        },
        {
          "name": "stderr",
          "output_type": "stream",
          "text": [
            "\n",
            "[notice] A new release of pip available: 22.3 -> 25.1\n",
            "[notice] To update, run: python.exe -m pip install --upgrade pip\n"
          ]
        },
        {
          "name": "stdout",
          "output_type": "stream",
          "text": [
            "Requirement already satisfied: chromadb in c:\\users\\jdmartinev\\onedrive - universidad eafit\\cursos\\inteligencia artificial - im\\lecture13\\notebooks\\ragenv\\lib\\site-packages (0.6.3)\n",
            "Requirement already satisfied: build>=1.0.3 in c:\\users\\jdmartinev\\onedrive - universidad eafit\\cursos\\inteligencia artificial - im\\lecture13\\notebooks\\ragenv\\lib\\site-packages (from chromadb) (1.2.2.post1)\n",
            "Requirement already satisfied: pydantic>=1.9 in c:\\users\\jdmartinev\\onedrive - universidad eafit\\cursos\\inteligencia artificial - im\\lecture13\\notebooks\\ragenv\\lib\\site-packages (from chromadb) (2.11.3)\n",
            "Requirement already satisfied: chroma-hnswlib==0.7.6 in c:\\users\\jdmartinev\\onedrive - universidad eafit\\cursos\\inteligencia artificial - im\\lecture13\\notebooks\\ragenv\\lib\\site-packages (from chromadb) (0.7.6)\n",
            "Requirement already satisfied: fastapi>=0.95.2 in c:\\users\\jdmartinev\\onedrive - universidad eafit\\cursos\\inteligencia artificial - im\\lecture13\\notebooks\\ragenv\\lib\\site-packages (from chromadb) (0.115.12)\n",
            "Requirement already satisfied: uvicorn[standard]>=0.18.3 in c:\\users\\jdmartinev\\onedrive - universidad eafit\\cursos\\inteligencia artificial - im\\lecture13\\notebooks\\ragenv\\lib\\site-packages (from chromadb) (0.34.2)\n",
            "Requirement already satisfied: numpy>=1.22.5 in c:\\users\\jdmartinev\\onedrive - universidad eafit\\cursos\\inteligencia artificial - im\\lecture13\\notebooks\\ragenv\\lib\\site-packages (from chromadb) (2.2.5)\n",
            "Requirement already satisfied: posthog>=2.4.0 in c:\\users\\jdmartinev\\onedrive - universidad eafit\\cursos\\inteligencia artificial - im\\lecture13\\notebooks\\ragenv\\lib\\site-packages (from chromadb) (4.0.0)\n",
            "Requirement already satisfied: typing_extensions>=4.5.0 in c:\\users\\jdmartinev\\onedrive - universidad eafit\\cursos\\inteligencia artificial - im\\lecture13\\notebooks\\ragenv\\lib\\site-packages (from chromadb) (4.13.2)\n",
            "Requirement already satisfied: onnxruntime>=1.14.1 in c:\\users\\jdmartinev\\onedrive - universidad eafit\\cursos\\inteligencia artificial - im\\lecture13\\notebooks\\ragenv\\lib\\site-packages (from chromadb) (1.21.1)\n",
            "Requirement already satisfied: opentelemetry-api>=1.2.0 in c:\\users\\jdmartinev\\onedrive - universidad eafit\\cursos\\inteligencia artificial - im\\lecture13\\notebooks\\ragenv\\lib\\site-packages (from chromadb) (1.32.1)\n",
            "Requirement already satisfied: opentelemetry-exporter-otlp-proto-grpc>=1.2.0 in c:\\users\\jdmartinev\\onedrive - universidad eafit\\cursos\\inteligencia artificial - im\\lecture13\\notebooks\\ragenv\\lib\\site-packages (from chromadb) (1.32.1)\n",
            "Requirement already satisfied: opentelemetry-instrumentation-fastapi>=0.41b0 in c:\\users\\jdmartinev\\onedrive - universidad eafit\\cursos\\inteligencia artificial - im\\lecture13\\notebooks\\ragenv\\lib\\site-packages (from chromadb) (0.53b1)\n",
            "Requirement already satisfied: opentelemetry-sdk>=1.2.0 in c:\\users\\jdmartinev\\onedrive - universidad eafit\\cursos\\inteligencia artificial - im\\lecture13\\notebooks\\ragenv\\lib\\site-packages (from chromadb) (1.32.1)\n",
            "Requirement already satisfied: tokenizers>=0.13.2 in c:\\users\\jdmartinev\\onedrive - universidad eafit\\cursos\\inteligencia artificial - im\\lecture13\\notebooks\\ragenv\\lib\\site-packages (from chromadb) (0.21.1)\n",
            "Requirement already satisfied: pypika>=0.48.9 in c:\\users\\jdmartinev\\onedrive - universidad eafit\\cursos\\inteligencia artificial - im\\lecture13\\notebooks\\ragenv\\lib\\site-packages (from chromadb) (0.48.9)\n",
            "Requirement already satisfied: tqdm>=4.65.0 in c:\\users\\jdmartinev\\onedrive - universidad eafit\\cursos\\inteligencia artificial - im\\lecture13\\notebooks\\ragenv\\lib\\site-packages (from chromadb) (4.67.1)\n",
            "Requirement already satisfied: overrides>=7.3.1 in c:\\users\\jdmartinev\\onedrive - universidad eafit\\cursos\\inteligencia artificial - im\\lecture13\\notebooks\\ragenv\\lib\\site-packages (from chromadb) (7.7.0)\n",
            "Requirement already satisfied: importlib-resources in c:\\users\\jdmartinev\\onedrive - universidad eafit\\cursos\\inteligencia artificial - im\\lecture13\\notebooks\\ragenv\\lib\\site-packages (from chromadb) (6.5.2)\n",
            "Requirement already satisfied: grpcio>=1.58.0 in c:\\users\\jdmartinev\\onedrive - universidad eafit\\cursos\\inteligencia artificial - im\\lecture13\\notebooks\\ragenv\\lib\\site-packages (from chromadb) (1.71.0)\n",
            "Requirement already satisfied: bcrypt>=4.0.1 in c:\\users\\jdmartinev\\onedrive - universidad eafit\\cursos\\inteligencia artificial - im\\lecture13\\notebooks\\ragenv\\lib\\site-packages (from chromadb) (4.3.0)\n",
            "Requirement already satisfied: typer>=0.9.0 in c:\\users\\jdmartinev\\onedrive - universidad eafit\\cursos\\inteligencia artificial - im\\lecture13\\notebooks\\ragenv\\lib\\site-packages (from chromadb) (0.15.2)\n",
            "Requirement already satisfied: kubernetes>=28.1.0 in c:\\users\\jdmartinev\\onedrive - universidad eafit\\cursos\\inteligencia artificial - im\\lecture13\\notebooks\\ragenv\\lib\\site-packages (from chromadb) (32.0.1)\n",
            "Requirement already satisfied: tenacity>=8.2.3 in c:\\users\\jdmartinev\\onedrive - universidad eafit\\cursos\\inteligencia artificial - im\\lecture13\\notebooks\\ragenv\\lib\\site-packages (from chromadb) (9.1.2)\n",
            "Requirement already satisfied: PyYAML>=6.0.0 in c:\\users\\jdmartinev\\onedrive - universidad eafit\\cursos\\inteligencia artificial - im\\lecture13\\notebooks\\ragenv\\lib\\site-packages (from chromadb) (6.0.2)\n",
            "Requirement already satisfied: mmh3>=4.0.1 in c:\\users\\jdmartinev\\onedrive - universidad eafit\\cursos\\inteligencia artificial - im\\lecture13\\notebooks\\ragenv\\lib\\site-packages (from chromadb) (5.1.0)\n",
            "Requirement already satisfied: orjson>=3.9.12 in c:\\users\\jdmartinev\\onedrive - universidad eafit\\cursos\\inteligencia artificial - im\\lecture13\\notebooks\\ragenv\\lib\\site-packages (from chromadb) (3.10.16)\n",
            "Requirement already satisfied: httpx>=0.27.0 in c:\\users\\jdmartinev\\onedrive - universidad eafit\\cursos\\inteligencia artificial - im\\lecture13\\notebooks\\ragenv\\lib\\site-packages (from chromadb) (0.28.1)\n",
            "Requirement already satisfied: rich>=10.11.0 in c:\\users\\jdmartinev\\onedrive - universidad eafit\\cursos\\inteligencia artificial - im\\lecture13\\notebooks\\ragenv\\lib\\site-packages (from chromadb) (14.0.0)\n",
            "Requirement already satisfied: packaging>=19.1 in c:\\users\\jdmartinev\\onedrive - universidad eafit\\cursos\\inteligencia artificial - im\\lecture13\\notebooks\\ragenv\\lib\\site-packages (from build>=1.0.3->chromadb) (24.2)\n",
            "Requirement already satisfied: pyproject_hooks in c:\\users\\jdmartinev\\onedrive - universidad eafit\\cursos\\inteligencia artificial - im\\lecture13\\notebooks\\ragenv\\lib\\site-packages (from build>=1.0.3->chromadb) (1.2.0)\n",
            "Requirement already satisfied: colorama in c:\\users\\jdmartinev\\onedrive - universidad eafit\\cursos\\inteligencia artificial - im\\lecture13\\notebooks\\ragenv\\lib\\site-packages (from build>=1.0.3->chromadb) (0.4.6)\n",
            "Requirement already satisfied: starlette<0.47.0,>=0.40.0 in c:\\users\\jdmartinev\\onedrive - universidad eafit\\cursos\\inteligencia artificial - im\\lecture13\\notebooks\\ragenv\\lib\\site-packages (from fastapi>=0.95.2->chromadb) (0.46.2)\n",
            "Requirement already satisfied: anyio in c:\\users\\jdmartinev\\onedrive - universidad eafit\\cursos\\inteligencia artificial - im\\lecture13\\notebooks\\ragenv\\lib\\site-packages (from httpx>=0.27.0->chromadb) (4.9.0)\n",
            "Requirement already satisfied: certifi in c:\\users\\jdmartinev\\onedrive - universidad eafit\\cursos\\inteligencia artificial - im\\lecture13\\notebooks\\ragenv\\lib\\site-packages (from httpx>=0.27.0->chromadb) (2025.4.26)\n",
            "Requirement already satisfied: httpcore==1.* in c:\\users\\jdmartinev\\onedrive - universidad eafit\\cursos\\inteligencia artificial - im\\lecture13\\notebooks\\ragenv\\lib\\site-packages (from httpx>=0.27.0->chromadb) (1.0.9)\n",
            "Requirement already satisfied: idna in c:\\users\\jdmartinev\\onedrive - universidad eafit\\cursos\\inteligencia artificial - im\\lecture13\\notebooks\\ragenv\\lib\\site-packages (from httpx>=0.27.0->chromadb) (3.10)\n",
            "Requirement already satisfied: h11>=0.16 in c:\\users\\jdmartinev\\onedrive - universidad eafit\\cursos\\inteligencia artificial - im\\lecture13\\notebooks\\ragenv\\lib\\site-packages (from httpcore==1.*->httpx>=0.27.0->chromadb) (0.16.0)\n",
            "Requirement already satisfied: six>=1.9.0 in c:\\users\\jdmartinev\\onedrive - universidad eafit\\cursos\\inteligencia artificial - im\\lecture13\\notebooks\\ragenv\\lib\\site-packages (from kubernetes>=28.1.0->chromadb) (1.17.0)\n",
            "Requirement already satisfied: python-dateutil>=2.5.3 in c:\\users\\jdmartinev\\onedrive - universidad eafit\\cursos\\inteligencia artificial - im\\lecture13\\notebooks\\ragenv\\lib\\site-packages (from kubernetes>=28.1.0->chromadb) (2.9.0.post0)\n",
            "Requirement already satisfied: google-auth>=1.0.1 in c:\\users\\jdmartinev\\onedrive - universidad eafit\\cursos\\inteligencia artificial - im\\lecture13\\notebooks\\ragenv\\lib\\site-packages (from kubernetes>=28.1.0->chromadb) (2.39.0)\n",
            "Requirement already satisfied: websocket-client!=0.40.0,!=0.41.*,!=0.42.*,>=0.32.0 in c:\\users\\jdmartinev\\onedrive - universidad eafit\\cursos\\inteligencia artificial - im\\lecture13\\notebooks\\ragenv\\lib\\site-packages (from kubernetes>=28.1.0->chromadb) (1.8.0)\n",
            "Requirement already satisfied: requests in c:\\users\\jdmartinev\\onedrive - universidad eafit\\cursos\\inteligencia artificial - im\\lecture13\\notebooks\\ragenv\\lib\\site-packages (from kubernetes>=28.1.0->chromadb) (2.32.3)\n",
            "Requirement already satisfied: requests-oauthlib in c:\\users\\jdmartinev\\onedrive - universidad eafit\\cursos\\inteligencia artificial - im\\lecture13\\notebooks\\ragenv\\lib\\site-packages (from kubernetes>=28.1.0->chromadb) (2.0.0)\n",
            "Requirement already satisfied: oauthlib>=3.2.2 in c:\\users\\jdmartinev\\onedrive - universidad eafit\\cursos\\inteligencia artificial - im\\lecture13\\notebooks\\ragenv\\lib\\site-packages (from kubernetes>=28.1.0->chromadb) (3.2.2)\n",
            "Requirement already satisfied: urllib3>=1.24.2 in c:\\users\\jdmartinev\\onedrive - universidad eafit\\cursos\\inteligencia artificial - im\\lecture13\\notebooks\\ragenv\\lib\\site-packages (from kubernetes>=28.1.0->chromadb) (2.4.0)\n",
            "Requirement already satisfied: durationpy>=0.7 in c:\\users\\jdmartinev\\onedrive - universidad eafit\\cursos\\inteligencia artificial - im\\lecture13\\notebooks\\ragenv\\lib\\site-packages (from kubernetes>=28.1.0->chromadb) (0.9)\n",
            "Requirement already satisfied: coloredlogs in c:\\users\\jdmartinev\\onedrive - universidad eafit\\cursos\\inteligencia artificial - im\\lecture13\\notebooks\\ragenv\\lib\\site-packages (from onnxruntime>=1.14.1->chromadb) (15.0.1)\n",
            "Requirement already satisfied: flatbuffers in c:\\users\\jdmartinev\\onedrive - universidad eafit\\cursos\\inteligencia artificial - im\\lecture13\\notebooks\\ragenv\\lib\\site-packages (from onnxruntime>=1.14.1->chromadb) (25.2.10)\n",
            "Requirement already satisfied: protobuf in c:\\users\\jdmartinev\\onedrive - universidad eafit\\cursos\\inteligencia artificial - im\\lecture13\\notebooks\\ragenv\\lib\\site-packages (from onnxruntime>=1.14.1->chromadb) (5.29.4)\n",
            "Requirement already satisfied: sympy in c:\\users\\jdmartinev\\onedrive - universidad eafit\\cursos\\inteligencia artificial - im\\lecture13\\notebooks\\ragenv\\lib\\site-packages (from onnxruntime>=1.14.1->chromadb) (1.14.0)\n",
            "Requirement already satisfied: deprecated>=1.2.6 in c:\\users\\jdmartinev\\onedrive - universidad eafit\\cursos\\inteligencia artificial - im\\lecture13\\notebooks\\ragenv\\lib\\site-packages (from opentelemetry-api>=1.2.0->chromadb) (1.2.18)\n",
            "Requirement already satisfied: importlib-metadata<8.7.0,>=6.0 in c:\\users\\jdmartinev\\onedrive - universidad eafit\\cursos\\inteligencia artificial - im\\lecture13\\notebooks\\ragenv\\lib\\site-packages (from opentelemetry-api>=1.2.0->chromadb) (8.6.1)\n",
            "Requirement already satisfied: googleapis-common-protos~=1.52 in c:\\users\\jdmartinev\\onedrive - universidad eafit\\cursos\\inteligencia artificial - im\\lecture13\\notebooks\\ragenv\\lib\\site-packages (from opentelemetry-exporter-otlp-proto-grpc>=1.2.0->chromadb) (1.70.0)\n",
            "Requirement already satisfied: opentelemetry-exporter-otlp-proto-common==1.32.1 in c:\\users\\jdmartinev\\onedrive - universidad eafit\\cursos\\inteligencia artificial - im\\lecture13\\notebooks\\ragenv\\lib\\site-packages (from opentelemetry-exporter-otlp-proto-grpc>=1.2.0->chromadb) (1.32.1)\n",
            "Requirement already satisfied: opentelemetry-proto==1.32.1 in c:\\users\\jdmartinev\\onedrive - universidad eafit\\cursos\\inteligencia artificial - im\\lecture13\\notebooks\\ragenv\\lib\\site-packages (from opentelemetry-exporter-otlp-proto-grpc>=1.2.0->chromadb) (1.32.1)\n",
            "Requirement already satisfied: opentelemetry-instrumentation-asgi==0.53b1 in c:\\users\\jdmartinev\\onedrive - universidad eafit\\cursos\\inteligencia artificial - im\\lecture13\\notebooks\\ragenv\\lib\\site-packages (from opentelemetry-instrumentation-fastapi>=0.41b0->chromadb) (0.53b1)\n",
            "Requirement already satisfied: opentelemetry-instrumentation==0.53b1 in c:\\users\\jdmartinev\\onedrive - universidad eafit\\cursos\\inteligencia artificial - im\\lecture13\\notebooks\\ragenv\\lib\\site-packages (from opentelemetry-instrumentation-fastapi>=0.41b0->chromadb) (0.53b1)\n",
            "Requirement already satisfied: opentelemetry-semantic-conventions==0.53b1 in c:\\users\\jdmartinev\\onedrive - universidad eafit\\cursos\\inteligencia artificial - im\\lecture13\\notebooks\\ragenv\\lib\\site-packages (from opentelemetry-instrumentation-fastapi>=0.41b0->chromadb) (0.53b1)\n",
            "Requirement already satisfied: opentelemetry-util-http==0.53b1 in c:\\users\\jdmartinev\\onedrive - universidad eafit\\cursos\\inteligencia artificial - im\\lecture13\\notebooks\\ragenv\\lib\\site-packages (from opentelemetry-instrumentation-fastapi>=0.41b0->chromadb) (0.53b1)\n",
            "Requirement already satisfied: wrapt<2.0.0,>=1.0.0 in c:\\users\\jdmartinev\\onedrive - universidad eafit\\cursos\\inteligencia artificial - im\\lecture13\\notebooks\\ragenv\\lib\\site-packages (from opentelemetry-instrumentation==0.53b1->opentelemetry-instrumentation-fastapi>=0.41b0->chromadb) (1.17.2)\n",
            "Requirement already satisfied: asgiref~=3.0 in c:\\users\\jdmartinev\\onedrive - universidad eafit\\cursos\\inteligencia artificial - im\\lecture13\\notebooks\\ragenv\\lib\\site-packages (from opentelemetry-instrumentation-asgi==0.53b1->opentelemetry-instrumentation-fastapi>=0.41b0->chromadb) (3.8.1)\n",
            "Requirement already satisfied: monotonic>=1.5 in c:\\users\\jdmartinev\\onedrive - universidad eafit\\cursos\\inteligencia artificial - im\\lecture13\\notebooks\\ragenv\\lib\\site-packages (from posthog>=2.4.0->chromadb) (1.6)\n",
            "Requirement already satisfied: backoff>=1.10.0 in c:\\users\\jdmartinev\\onedrive - universidad eafit\\cursos\\inteligencia artificial - im\\lecture13\\notebooks\\ragenv\\lib\\site-packages (from posthog>=2.4.0->chromadb) (2.2.1)\n",
            "Requirement already satisfied: distro>=1.5.0 in c:\\users\\jdmartinev\\onedrive - universidad eafit\\cursos\\inteligencia artificial - im\\lecture13\\notebooks\\ragenv\\lib\\site-packages (from posthog>=2.4.0->chromadb) (1.9.0)\n",
            "Requirement already satisfied: annotated-types>=0.6.0 in c:\\users\\jdmartinev\\onedrive - universidad eafit\\cursos\\inteligencia artificial - im\\lecture13\\notebooks\\ragenv\\lib\\site-packages (from pydantic>=1.9->chromadb) (0.7.0)\n",
            "Requirement already satisfied: pydantic-core==2.33.1 in c:\\users\\jdmartinev\\onedrive - universidad eafit\\cursos\\inteligencia artificial - im\\lecture13\\notebooks\\ragenv\\lib\\site-packages (from pydantic>=1.9->chromadb) (2.33.1)\n",
            "Requirement already satisfied: typing-inspection>=0.4.0 in c:\\users\\jdmartinev\\onedrive - universidad eafit\\cursos\\inteligencia artificial - im\\lecture13\\notebooks\\ragenv\\lib\\site-packages (from pydantic>=1.9->chromadb) (0.4.0)\n",
            "Requirement already satisfied: markdown-it-py>=2.2.0 in c:\\users\\jdmartinev\\onedrive - universidad eafit\\cursos\\inteligencia artificial - im\\lecture13\\notebooks\\ragenv\\lib\\site-packages (from rich>=10.11.0->chromadb) (3.0.0)\n",
            "Requirement already satisfied: pygments<3.0.0,>=2.13.0 in c:\\users\\jdmartinev\\onedrive - universidad eafit\\cursos\\inteligencia artificial - im\\lecture13\\notebooks\\ragenv\\lib\\site-packages (from rich>=10.11.0->chromadb) (2.19.1)\n",
            "Requirement already satisfied: huggingface-hub<1.0,>=0.16.4 in c:\\users\\jdmartinev\\onedrive - universidad eafit\\cursos\\inteligencia artificial - im\\lecture13\\notebooks\\ragenv\\lib\\site-packages (from tokenizers>=0.13.2->chromadb) (0.30.2)\n",
            "Requirement already satisfied: click>=8.0.0 in c:\\users\\jdmartinev\\onedrive - universidad eafit\\cursos\\inteligencia artificial - im\\lecture13\\notebooks\\ragenv\\lib\\site-packages (from typer>=0.9.0->chromadb) (8.1.8)\n",
            "Requirement already satisfied: shellingham>=1.3.0 in c:\\users\\jdmartinev\\onedrive - universidad eafit\\cursos\\inteligencia artificial - im\\lecture13\\notebooks\\ragenv\\lib\\site-packages (from typer>=0.9.0->chromadb) (1.5.4)\n",
            "Requirement already satisfied: httptools>=0.6.3 in c:\\users\\jdmartinev\\onedrive - universidad eafit\\cursos\\inteligencia artificial - im\\lecture13\\notebooks\\ragenv\\lib\\site-packages (from uvicorn[standard]>=0.18.3->chromadb) (0.6.4)\n",
            "Requirement already satisfied: python-dotenv>=0.13 in c:\\users\\jdmartinev\\onedrive - universidad eafit\\cursos\\inteligencia artificial - im\\lecture13\\notebooks\\ragenv\\lib\\site-packages (from uvicorn[standard]>=0.18.3->chromadb) (1.1.0)\n",
            "Requirement already satisfied: watchfiles>=0.13 in c:\\users\\jdmartinev\\onedrive - universidad eafit\\cursos\\inteligencia artificial - im\\lecture13\\notebooks\\ragenv\\lib\\site-packages (from uvicorn[standard]>=0.18.3->chromadb) (1.0.5)\n",
            "Requirement already satisfied: websockets>=10.4 in c:\\users\\jdmartinev\\onedrive - universidad eafit\\cursos\\inteligencia artificial - im\\lecture13\\notebooks\\ragenv\\lib\\site-packages (from uvicorn[standard]>=0.18.3->chromadb) (15.0.1)\n",
            "Requirement already satisfied: cachetools<6.0,>=2.0.0 in c:\\users\\jdmartinev\\onedrive - universidad eafit\\cursos\\inteligencia artificial - im\\lecture13\\notebooks\\ragenv\\lib\\site-packages (from google-auth>=1.0.1->kubernetes>=28.1.0->chromadb) (5.5.2)\n",
            "Requirement already satisfied: pyasn1-modules>=0.2.1 in c:\\users\\jdmartinev\\onedrive - universidad eafit\\cursos\\inteligencia artificial - im\\lecture13\\notebooks\\ragenv\\lib\\site-packages (from google-auth>=1.0.1->kubernetes>=28.1.0->chromadb) (0.4.2)\n",
            "Requirement already satisfied: rsa<5,>=3.1.4 in c:\\users\\jdmartinev\\onedrive - universidad eafit\\cursos\\inteligencia artificial - im\\lecture13\\notebooks\\ragenv\\lib\\site-packages (from google-auth>=1.0.1->kubernetes>=28.1.0->chromadb) (4.9.1)\n",
            "Requirement already satisfied: filelock in c:\\users\\jdmartinev\\onedrive - universidad eafit\\cursos\\inteligencia artificial - im\\lecture13\\notebooks\\ragenv\\lib\\site-packages (from huggingface-hub<1.0,>=0.16.4->tokenizers>=0.13.2->chromadb) (3.18.0)\n",
            "Requirement already satisfied: fsspec>=2023.5.0 in c:\\users\\jdmartinev\\onedrive - universidad eafit\\cursos\\inteligencia artificial - im\\lecture13\\notebooks\\ragenv\\lib\\site-packages (from huggingface-hub<1.0,>=0.16.4->tokenizers>=0.13.2->chromadb) (2025.3.2)\n",
            "Requirement already satisfied: zipp>=3.20 in c:\\users\\jdmartinev\\onedrive - universidad eafit\\cursos\\inteligencia artificial - im\\lecture13\\notebooks\\ragenv\\lib\\site-packages (from importlib-metadata<8.7.0,>=6.0->opentelemetry-api>=1.2.0->chromadb) (3.21.0)\n",
            "Requirement already satisfied: mdurl~=0.1 in c:\\users\\jdmartinev\\onedrive - universidad eafit\\cursos\\inteligencia artificial - im\\lecture13\\notebooks\\ragenv\\lib\\site-packages (from markdown-it-py>=2.2.0->rich>=10.11.0->chromadb) (0.1.2)\n",
            "Requirement already satisfied: charset-normalizer<4,>=2 in c:\\users\\jdmartinev\\onedrive - universidad eafit\\cursos\\inteligencia artificial - im\\lecture13\\notebooks\\ragenv\\lib\\site-packages (from requests->kubernetes>=28.1.0->chromadb) (3.4.1)\n",
            "Requirement already satisfied: sniffio>=1.1 in c:\\users\\jdmartinev\\onedrive - universidad eafit\\cursos\\inteligencia artificial - im\\lecture13\\notebooks\\ragenv\\lib\\site-packages (from anyio->httpx>=0.27.0->chromadb) (1.3.1)\n",
            "Requirement already satisfied: humanfriendly>=9.1 in c:\\users\\jdmartinev\\onedrive - universidad eafit\\cursos\\inteligencia artificial - im\\lecture13\\notebooks\\ragenv\\lib\\site-packages (from coloredlogs->onnxruntime>=1.14.1->chromadb) (10.0)\n",
            "Requirement already satisfied: mpmath<1.4,>=1.1.0 in c:\\users\\jdmartinev\\onedrive - universidad eafit\\cursos\\inteligencia artificial - im\\lecture13\\notebooks\\ragenv\\lib\\site-packages (from sympy->onnxruntime>=1.14.1->chromadb) (1.3.0)\n",
            "Requirement already satisfied: pyreadline3 in c:\\users\\jdmartinev\\onedrive - universidad eafit\\cursos\\inteligencia artificial - im\\lecture13\\notebooks\\ragenv\\lib\\site-packages (from humanfriendly>=9.1->coloredlogs->onnxruntime>=1.14.1->chromadb) (3.5.4)\n",
            "Requirement already satisfied: pyasn1<0.7.0,>=0.6.1 in c:\\users\\jdmartinev\\onedrive - universidad eafit\\cursos\\inteligencia artificial - im\\lecture13\\notebooks\\ragenv\\lib\\site-packages (from pyasn1-modules>=0.2.1->google-auth>=1.0.1->kubernetes>=28.1.0->chromadb) (0.6.1)\n",
            "Note: you may need to restart the kernel to use updated packages.\n"
          ]
        },
        {
          "name": "stderr",
          "output_type": "stream",
          "text": [
            "\n",
            "[notice] A new release of pip available: 22.3 -> 25.1\n",
            "[notice] To update, run: python.exe -m pip install --upgrade pip\n"
          ]
        }
      ],
      "source": [
        "# instalar dependencias\n",
        "%pip install openai langchain langchain_community streamlit\n",
        "%pip install faiss-cpu\n",
        "# instalar ChromaDB como retriever \n",
        "%pip install chromadb"
      ]
    },
    {
      "cell_type": "code",
      "execution_count": 3,
      "metadata": {},
      "outputs": [],
      "source": [
        "# paso 1:\n",
        "import os\n",
        "from langchain.chat_models import ChatOpenAI\n",
        "from dotenv import load_dotenv\n",
        "\n",
        "\n",
        "load_dotenv('api_keys.env')\n",
        "\n",
        "\n",
        "# Configurar la API Key (puedes establecerla como variable de entorno)\n",
        "os.environ[\"OPENAI_API_KEY\"] = os.getenv('OPENAI_API_KEY')\n",
        "# bash: export OPENAI_API_KEY=\"your-openai-api-key\"\n",
        "\n",
        "# Inicializar el modelo GPT-4\n",
        "llm = ChatOpenAI(model_name=\"gpt-4\")\n"
      ]
    },
    {
      "cell_type": "code",
      "execution_count": 4,
      "metadata": {},
      "outputs": [],
      "source": [
        "# Inicializar la Base de Datos Vectorial\n",
        "\n",
        "import chromadb\n",
        "\n",
        "# Inicializar la base de datos ChromaDB\n",
        "chroma_client = chromadb.PersistentClient(path=\"./chroma_db\")\n",
        "\n",
        "# Crear una colección en ChromaDB\n",
        "collection = chroma_client.get_or_create_collection(name=\"chatbot_knowledge\")\n",
        "\n",
        "#\n"
      ]
    },
    {
      "cell_type": "code",
      "execution_count": 5,
      "metadata": {},
      "outputs": [
        {
          "name": "stderr",
          "output_type": "stream",
          "text": [
            "C:\\Users\\jdmartinev\\.cache\\chroma\\onnx_models\\all-MiniLM-L6-v2\\onnx.tar.gz: 100%|██████████| 79.3M/79.3M [00:23<00:00, 3.50MiB/s]\n"
          ]
        }
      ],
      "source": [
        "# Agregar Datos de Referencia a la Base de Datos\n",
        "\n",
        "documents = [\n",
        "    {\"id\": \"1\", \"text\": \"La inteligencia artificial es el campo de la informática que estudia cómo crear sistemas capaces de realizar tareas que requieren inteligencia humana.\"},\n",
        "    {\"id\": \"2\", \"text\": \"GPT-4 es un modelo de lenguaje de OpenAI basado en la arquitectura de transformers.\"},\n",
        "    {\"id\": \"3\", \"text\": \"LangChain es una biblioteca para desarrollar aplicaciones basadas en modelos de lenguaje.\"}\n",
        "]\n",
        "\n",
        "# Agregar documentos a ChromaDB\n",
        "for doc in documents:\n",
        "    collection.add(ids=[doc[\"id\"]], documents=[doc[\"text\"]])\n"
      ]
    },
    {
      "cell_type": "code",
      "execution_count": 7,
      "metadata": {},
      "outputs": [],
      "source": [
        "# Crear un Retriever con ChromaDB\n",
        "\n",
        "from langchain_chroma import Chroma\n",
        "from langchain.embeddings.openai import OpenAIEmbeddings\n",
        "\n",
        "# Inicializar embeddings con OpenAI\n",
        "embeddings = OpenAIEmbeddings()\n",
        "\n",
        "# Crear el VectorStore con ChromaDB\n",
        "vectorstore = Chroma(persist_directory=\"./chroma_db\", embedding_function=embeddings)\n",
        "\n",
        "# Crear el retriever para buscar documentos relevantes\n",
        "retriever = vectorstore.as_retriever()\n"
      ]
    },
    {
      "cell_type": "code",
      "execution_count": 8,
      "metadata": {},
      "outputs": [
        {
          "name": "stderr",
          "output_type": "stream",
          "text": [
            "C:\\Users\\jdmartinev\\AppData\\Local\\Temp\\ipykernel_21296\\2690817752.py:7: LangChainDeprecationWarning: Please see the migration guide at: https://python.langchain.com/docs/versions/migrating_memory/\n",
            "  memory = ConversationBufferMemory(memory_key=\"chat_history\", return_messages=True)\n"
          ]
        }
      ],
      "source": [
        "# paso 2\n",
        "\n",
        "from langchain.memory import ConversationBufferMemory\n",
        "from langchain.chains import ConversationalRetrievalChain\n",
        "\n",
        "# Crear memoria de la conversación\n",
        "memory = ConversationBufferMemory(memory_key=\"chat_history\", return_messages=True)\n",
        "\n",
        "# Integrar memoria en la cadena conversacional\n",
        "\n",
        "#chat_chain = ConversationalRetrievalChain.from_llm(llm, memory=memory)\n",
        "\n",
        "# fix con un retriever en chromadb\n",
        "chat_chain = ConversationalRetrievalChain.from_llm(llm, memory=memory,retriever=retriever)\n"
      ]
    },
    {
      "cell_type": "code",
      "execution_count": 9,
      "metadata": {},
      "outputs": [],
      "source": [
        "# Paso 3: Construir la Función del Chatbot\n",
        "\n",
        "def chat_with_gpt(user_input):\n",
        "    response = chat_chain({\"question\": user_input})\n",
        "    return response[\"answer\"]\n"
      ]
    },
    {
      "cell_type": "code",
      "execution_count": 11,
      "metadata": {},
      "outputs": [
        {
          "name": "stdout",
          "output_type": "stream",
          "text": [
            "Requirement already satisfied: streamlit in c:\\users\\jdmartinev\\onedrive - universidad eafit\\cursos\\inteligencia artificial - im\\lecture13\\notebooks\\ragenv\\lib\\site-packages (1.44.1)\n",
            "Requirement already satisfied: altair<6,>=4.0 in c:\\users\\jdmartinev\\onedrive - universidad eafit\\cursos\\inteligencia artificial - im\\lecture13\\notebooks\\ragenv\\lib\\site-packages (from streamlit) (5.5.0)\n",
            "Requirement already satisfied: blinker<2,>=1.0.0 in c:\\users\\jdmartinev\\onedrive - universidad eafit\\cursos\\inteligencia artificial - im\\lecture13\\notebooks\\ragenv\\lib\\site-packages (from streamlit) (1.9.0)\n",
            "Requirement already satisfied: cachetools<6,>=4.0 in c:\\users\\jdmartinev\\onedrive - universidad eafit\\cursos\\inteligencia artificial - im\\lecture13\\notebooks\\ragenv\\lib\\site-packages (from streamlit) (5.5.2)\n",
            "Requirement already satisfied: click<9,>=7.0 in c:\\users\\jdmartinev\\onedrive - universidad eafit\\cursos\\inteligencia artificial - im\\lecture13\\notebooks\\ragenv\\lib\\site-packages (from streamlit) (8.1.8)\n",
            "Requirement already satisfied: numpy<3,>=1.23 in c:\\users\\jdmartinev\\onedrive - universidad eafit\\cursos\\inteligencia artificial - im\\lecture13\\notebooks\\ragenv\\lib\\site-packages (from streamlit) (2.2.5)\n",
            "Requirement already satisfied: packaging<25,>=20 in c:\\users\\jdmartinev\\onedrive - universidad eafit\\cursos\\inteligencia artificial - im\\lecture13\\notebooks\\ragenv\\lib\\site-packages (from streamlit) (24.2)\n",
            "Requirement already satisfied: pandas<3,>=1.4.0 in c:\\users\\jdmartinev\\onedrive - universidad eafit\\cursos\\inteligencia artificial - im\\lecture13\\notebooks\\ragenv\\lib\\site-packages (from streamlit) (2.2.3)\n",
            "Requirement already satisfied: pillow<12,>=7.1.0 in c:\\users\\jdmartinev\\onedrive - universidad eafit\\cursos\\inteligencia artificial - im\\lecture13\\notebooks\\ragenv\\lib\\site-packages (from streamlit) (11.2.1)\n",
            "Requirement already satisfied: protobuf<6,>=3.20 in c:\\users\\jdmartinev\\onedrive - universidad eafit\\cursos\\inteligencia artificial - im\\lecture13\\notebooks\\ragenv\\lib\\site-packages (from streamlit) (5.29.4)\n",
            "Requirement already satisfied: pyarrow>=7.0 in c:\\users\\jdmartinev\\onedrive - universidad eafit\\cursos\\inteligencia artificial - im\\lecture13\\notebooks\\ragenv\\lib\\site-packages (from streamlit) (20.0.0)\n",
            "Requirement already satisfied: requests<3,>=2.27 in c:\\users\\jdmartinev\\onedrive - universidad eafit\\cursos\\inteligencia artificial - im\\lecture13\\notebooks\\ragenv\\lib\\site-packages (from streamlit) (2.32.3)\n",
            "Requirement already satisfied: tenacity<10,>=8.1.0 in c:\\users\\jdmartinev\\onedrive - universidad eafit\\cursos\\inteligencia artificial - im\\lecture13\\notebooks\\ragenv\\lib\\site-packages (from streamlit) (9.1.2)\n",
            "Requirement already satisfied: toml<2,>=0.10.1 in c:\\users\\jdmartinev\\onedrive - universidad eafit\\cursos\\inteligencia artificial - im\\lecture13\\notebooks\\ragenv\\lib\\site-packages (from streamlit) (0.10.2)\n",
            "Requirement already satisfied: typing-extensions<5,>=4.4.0 in c:\\users\\jdmartinev\\onedrive - universidad eafit\\cursos\\inteligencia artificial - im\\lecture13\\notebooks\\ragenv\\lib\\site-packages (from streamlit) (4.13.2)\n",
            "Requirement already satisfied: watchdog<7,>=2.1.5 in c:\\users\\jdmartinev\\onedrive - universidad eafit\\cursos\\inteligencia artificial - im\\lecture13\\notebooks\\ragenv\\lib\\site-packages (from streamlit) (6.0.0)\n",
            "Requirement already satisfied: gitpython!=3.1.19,<4,>=3.0.7 in c:\\users\\jdmartinev\\onedrive - universidad eafit\\cursos\\inteligencia artificial - im\\lecture13\\notebooks\\ragenv\\lib\\site-packages (from streamlit) (3.1.44)\n",
            "Requirement already satisfied: pydeck<1,>=0.8.0b4 in c:\\users\\jdmartinev\\onedrive - universidad eafit\\cursos\\inteligencia artificial - im\\lecture13\\notebooks\\ragenv\\lib\\site-packages (from streamlit) (0.9.1)\n",
            "Requirement already satisfied: tornado<7,>=6.0.3 in c:\\users\\jdmartinev\\onedrive - universidad eafit\\cursos\\inteligencia artificial - im\\lecture13\\notebooks\\ragenv\\lib\\site-packages (from streamlit) (6.4.2)\n",
            "Requirement already satisfied: jinja2 in c:\\users\\jdmartinev\\onedrive - universidad eafit\\cursos\\inteligencia artificial - im\\lecture13\\notebooks\\ragenv\\lib\\site-packages (from altair<6,>=4.0->streamlit) (3.1.6)\n",
            "Requirement already satisfied: jsonschema>=3.0 in c:\\users\\jdmartinev\\onedrive - universidad eafit\\cursos\\inteligencia artificial - im\\lecture13\\notebooks\\ragenv\\lib\\site-packages (from altair<6,>=4.0->streamlit) (4.23.0)\n",
            "Requirement already satisfied: narwhals>=1.14.2 in c:\\users\\jdmartinev\\onedrive - universidad eafit\\cursos\\inteligencia artificial - im\\lecture13\\notebooks\\ragenv\\lib\\site-packages (from altair<6,>=4.0->streamlit) (1.37.0)\n",
            "Requirement already satisfied: colorama in c:\\users\\jdmartinev\\onedrive - universidad eafit\\cursos\\inteligencia artificial - im\\lecture13\\notebooks\\ragenv\\lib\\site-packages (from click<9,>=7.0->streamlit) (0.4.6)\n",
            "Requirement already satisfied: gitdb<5,>=4.0.1 in c:\\users\\jdmartinev\\onedrive - universidad eafit\\cursos\\inteligencia artificial - im\\lecture13\\notebooks\\ragenv\\lib\\site-packages (from gitpython!=3.1.19,<4,>=3.0.7->streamlit) (4.0.12)\n",
            "Requirement already satisfied: python-dateutil>=2.8.2 in c:\\users\\jdmartinev\\onedrive - universidad eafit\\cursos\\inteligencia artificial - im\\lecture13\\notebooks\\ragenv\\lib\\site-packages (from pandas<3,>=1.4.0->streamlit) (2.9.0.post0)\n",
            "Requirement already satisfied: pytz>=2020.1 in c:\\users\\jdmartinev\\onedrive - universidad eafit\\cursos\\inteligencia artificial - im\\lecture13\\notebooks\\ragenv\\lib\\site-packages (from pandas<3,>=1.4.0->streamlit) (2025.2)\n",
            "Requirement already satisfied: tzdata>=2022.7 in c:\\users\\jdmartinev\\onedrive - universidad eafit\\cursos\\inteligencia artificial - im\\lecture13\\notebooks\\ragenv\\lib\\site-packages (from pandas<3,>=1.4.0->streamlit) (2025.2)\n",
            "Requirement already satisfied: charset-normalizer<4,>=2 in c:\\users\\jdmartinev\\onedrive - universidad eafit\\cursos\\inteligencia artificial - im\\lecture13\\notebooks\\ragenv\\lib\\site-packages (from requests<3,>=2.27->streamlit) (3.4.1)\n",
            "Requirement already satisfied: idna<4,>=2.5 in c:\\users\\jdmartinev\\onedrive - universidad eafit\\cursos\\inteligencia artificial - im\\lecture13\\notebooks\\ragenv\\lib\\site-packages (from requests<3,>=2.27->streamlit) (3.10)\n",
            "Requirement already satisfied: urllib3<3,>=1.21.1 in c:\\users\\jdmartinev\\onedrive - universidad eafit\\cursos\\inteligencia artificial - im\\lecture13\\notebooks\\ragenv\\lib\\site-packages (from requests<3,>=2.27->streamlit) (2.4.0)\n",
            "Requirement already satisfied: certifi>=2017.4.17 in c:\\users\\jdmartinev\\onedrive - universidad eafit\\cursos\\inteligencia artificial - im\\lecture13\\notebooks\\ragenv\\lib\\site-packages (from requests<3,>=2.27->streamlit) (2025.4.26)\n",
            "Requirement already satisfied: smmap<6,>=3.0.1 in c:\\users\\jdmartinev\\onedrive - universidad eafit\\cursos\\inteligencia artificial - im\\lecture13\\notebooks\\ragenv\\lib\\site-packages (from gitdb<5,>=4.0.1->gitpython!=3.1.19,<4,>=3.0.7->streamlit) (5.0.2)\n",
            "Requirement already satisfied: MarkupSafe>=2.0 in c:\\users\\jdmartinev\\onedrive - universidad eafit\\cursos\\inteligencia artificial - im\\lecture13\\notebooks\\ragenv\\lib\\site-packages (from jinja2->altair<6,>=4.0->streamlit) (3.0.2)\n",
            "Requirement already satisfied: attrs>=22.2.0 in c:\\users\\jdmartinev\\onedrive - universidad eafit\\cursos\\inteligencia artificial - im\\lecture13\\notebooks\\ragenv\\lib\\site-packages (from jsonschema>=3.0->altair<6,>=4.0->streamlit) (25.3.0)\n",
            "Requirement already satisfied: jsonschema-specifications>=2023.03.6 in c:\\users\\jdmartinev\\onedrive - universidad eafit\\cursos\\inteligencia artificial - im\\lecture13\\notebooks\\ragenv\\lib\\site-packages (from jsonschema>=3.0->altair<6,>=4.0->streamlit) (2025.4.1)\n",
            "Requirement already satisfied: referencing>=0.28.4 in c:\\users\\jdmartinev\\onedrive - universidad eafit\\cursos\\inteligencia artificial - im\\lecture13\\notebooks\\ragenv\\lib\\site-packages (from jsonschema>=3.0->altair<6,>=4.0->streamlit) (0.36.2)\n",
            "Requirement already satisfied: rpds-py>=0.7.1 in c:\\users\\jdmartinev\\onedrive - universidad eafit\\cursos\\inteligencia artificial - im\\lecture13\\notebooks\\ragenv\\lib\\site-packages (from jsonschema>=3.0->altair<6,>=4.0->streamlit) (0.24.0)\n",
            "Requirement already satisfied: six>=1.5 in c:\\users\\jdmartinev\\onedrive - universidad eafit\\cursos\\inteligencia artificial - im\\lecture13\\notebooks\\ragenv\\lib\\site-packages (from python-dateutil>=2.8.2->pandas<3,>=1.4.0->streamlit) (1.17.0)\n",
            "Note: you may need to restart the kernel to use updated packages.\n"
          ]
        },
        {
          "name": "stderr",
          "output_type": "stream",
          "text": [
            "\n",
            "[notice] A new release of pip available: 22.3 -> 25.1\n",
            "[notice] To update, run: python.exe -m pip install --upgrade pip\n"
          ]
        },
        {
          "name": "stdout",
          "output_type": "stream",
          "text": [
            "Requirement already satisfied: tiktoken in c:\\users\\jdmartinev\\onedrive - universidad eafit\\cursos\\inteligencia artificial - im\\lecture13\\notebooks\\ragenv\\lib\\site-packages (0.9.0)\n",
            "Requirement already satisfied: regex>=2022.1.18 in c:\\users\\jdmartinev\\onedrive - universidad eafit\\cursos\\inteligencia artificial - im\\lecture13\\notebooks\\ragenv\\lib\\site-packages (from tiktoken) (2024.11.6)\n",
            "Requirement already satisfied: requests>=2.26.0 in c:\\users\\jdmartinev\\onedrive - universidad eafit\\cursos\\inteligencia artificial - im\\lecture13\\notebooks\\ragenv\\lib\\site-packages (from tiktoken) (2.32.3)\n",
            "Requirement already satisfied: charset-normalizer<4,>=2 in c:\\users\\jdmartinev\\onedrive - universidad eafit\\cursos\\inteligencia artificial - im\\lecture13\\notebooks\\ragenv\\lib\\site-packages (from requests>=2.26.0->tiktoken) (3.4.1)\n",
            "Requirement already satisfied: idna<4,>=2.5 in c:\\users\\jdmartinev\\onedrive - universidad eafit\\cursos\\inteligencia artificial - im\\lecture13\\notebooks\\ragenv\\lib\\site-packages (from requests>=2.26.0->tiktoken) (3.10)\n",
            "Requirement already satisfied: urllib3<3,>=1.21.1 in c:\\users\\jdmartinev\\onedrive - universidad eafit\\cursos\\inteligencia artificial - im\\lecture13\\notebooks\\ragenv\\lib\\site-packages (from requests>=2.26.0->tiktoken) (2.4.0)\n",
            "Requirement already satisfied: certifi>=2017.4.17 in c:\\users\\jdmartinev\\onedrive - universidad eafit\\cursos\\inteligencia artificial - im\\lecture13\\notebooks\\ragenv\\lib\\site-packages (from requests>=2.26.0->tiktoken) (2025.4.26)\n",
            "Note: you may need to restart the kernel to use updated packages.\n"
          ]
        },
        {
          "name": "stderr",
          "output_type": "stream",
          "text": [
            "\n",
            "[notice] A new release of pip available: 22.3 -> 25.1\n",
            "[notice] To update, run: python.exe -m pip install --upgrade pip\n"
          ]
        }
      ],
      "source": [
        "# Ejecución del Chatbot\n",
        "%pip install streamlit\n",
        "%pip install tiktoken\n",
        "\n"
      ]
    },
    {
      "cell_type": "code",
      "execution_count": null,
      "metadata": {},
      "outputs": [],
      "source": [
        "!streamlit run app.py\n"
      ]
    },
    {
      "cell_type": "code",
      "execution_count": null,
      "metadata": {},
      "outputs": [],
      "source": [
        "# mejoras propuestas\n",
        "\n",
        "# Agregar RAG (Retrieval-Augmented Generation) con bases de datos vectoriales y tus propios datos.\n",
        "# Integrar API externas (ejemplo: Wikipedia, bases de datos de conocimiento).\n",
        "# Incluir Voice-to-Text para hacer un chatbot por voz.\n"
      ]
    }
  ],
  "metadata": {
    "colab": {
      "name": "lab1-nltk.ipynb",
      "provenance": []
    },
    "kernelspec": {
      "display_name": "Python 3.11.0 ('ragenv': venv)",
      "language": "python",
      "name": "python3"
    },
    "language_info": {
      "codemirror_mode": {
        "name": "ipython",
        "version": 3
      },
      "file_extension": ".py",
      "mimetype": "text/x-python",
      "name": "python",
      "nbconvert_exporter": "python",
      "pygments_lexer": "ipython3",
      "version": "3.11.0"
    },
    "vscode": {
      "interpreter": {
        "hash": "22c546e77d2fe8325e209a0f43f772143b9c34a54ef7c490a2c1a7d7af200d42"
      }
    }
  },
  "nbformat": 4,
  "nbformat_minor": 2
}
