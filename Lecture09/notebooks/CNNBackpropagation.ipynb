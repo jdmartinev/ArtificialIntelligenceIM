{
  "nbformat": 4,
  "nbformat_minor": 0,
  "metadata": {
    "colab": {
      "provenance": [],
      "authorship_tag": "ABX9TyPi46tPKJ643PcLYinYbLXo",
      "include_colab_link": true
    },
    "kernelspec": {
      "name": "python3",
      "display_name": "Python 3"
    },
    "language_info": {
      "name": "python"
    }
  },
  "cells": [
    {
      "cell_type": "markdown",
      "metadata": {
        "id": "view-in-github",
        "colab_type": "text"
      },
      "source": [
        "<a href=\"https://colab.research.google.com/github/jdmartinev/ArtificialIntelligenceIM/blob/main/Lecture05/notebooks/CNNBackpropagation.ipynb\" target=\"_parent\"><img src=\"https://colab.research.google.com/assets/colab-badge.svg\" alt=\"Open In Colab\"/></a>"
      ]
    },
    {
      "cell_type": "code",
      "execution_count": null,
      "metadata": {
        "id": "9h-HQfrNG8i8"
      },
      "outputs": [],
      "source": [
        "import numpy as np\n",
        "import torch"
      ]
    },
    {
      "cell_type": "code",
      "source": [
        "def conv2d(image, kernel, stride=1, padding=0):\n",
        "    \"\"\"\n",
        "    Perform a 2D convolution operation on an image using the specified kernel.\n",
        "\n",
        "    Parameters:\n",
        "    - image: 2D numpy array, the input image.\n",
        "    - kernel: 2D numpy array, the convolution kernel (filter).\n",
        "    - stride: int, the stride of the convolution. Default is 1.\n",
        "    - padding: int, the amount of zero-padding around the image. Default is 0.\n",
        "\n",
        "    Returns:\n",
        "    - output: 2D numpy array, the result of applying the convolution.\n",
        "    \"\"\"\n",
        "\n",
        "    # Add zero-padding to the image if required\n",
        "    if padding > 0:\n",
        "        image = np.pad(image, ((padding, padding), (padding, padding)), mode='constant')\n",
        "\n",
        "    # Get the dimensions of the image and the kernel\n",
        "    i_h, i_w = image.shape\n",
        "    k_h, k_w = kernel.shape\n",
        "\n",
        "    # Calculate the dimensions of the output\n",
        "    o_h = (i_h - k_h) // stride + 1\n",
        "    o_w = (i_w - k_w) // stride + 1\n",
        "\n",
        "    # Initialize the output image\n",
        "    output = np.zeros((o_h, o_w))\n",
        "\n",
        "    # Perform the convolution\n",
        "    for y in range(0, o_h):\n",
        "        for x in range(0, o_w):\n",
        "            # Extract the region of interest\n",
        "            region = image[y * stride:y * stride + k_h, x * stride:x * stride + k_w]\n",
        "\n",
        "            # Element-wise multiplication and summation\n",
        "            output[y, x] = np.sum(region * kernel)\n",
        "\n",
        "    return output"
      ],
      "metadata": {
        "id": "5ONV0RUpHu2f"
      },
      "execution_count": null,
      "outputs": []
    },
    {
      "cell_type": "code",
      "source": [
        "W = np.array(\n",
        "    [\n",
        "        [1,0,-1],\n",
        "        [2,0,-2],\n",
        "        [1,0,-1]\n",
        "    ]).astype(np.float32)\n",
        "\n",
        "X = np.array(\n",
        "    [\n",
        "        [1,1,1,2,3],\n",
        "        [1,1,1,2,3],\n",
        "        [1,1,1,2,3],\n",
        "        [2,2,2,2,3],\n",
        "        [3,3,3,3,3],\n",
        "        [4,4,4,4,4]\n",
        "    ]).astype(np.float32)\n"
      ],
      "metadata": {
        "id": "fVtTYq-bH2Kt"
      },
      "execution_count": null,
      "outputs": []
    },
    {
      "cell_type": "code",
      "source": [
        "conv = torch.nn.Conv2d(\n",
        "    in_channels=1,\n",
        "    out_channels=1,\n",
        "    kernel_size=3,\n",
        "    bias=False,\n",
        "    stride = 1,\n",
        "    padding_mode='zeros',\n",
        "    padding=0\n",
        ")\n",
        "\n",
        "X_tensor = torch.from_numpy(X.reshape(1,1,6,5))\n",
        "X_tensor.requires_grad = True\n",
        "conv.weight = torch.nn.Parameter(torch.from_numpy(W.reshape(1,1,3,3)))\n",
        "Z_tensor = conv(X_tensor)\n",
        "\n",
        "print(Z_tensor)\n"
      ],
      "metadata": {
        "colab": {
          "base_uri": "https://localhost:8080/"
        },
        "id": "qhXJxAwTIE4C",
        "outputId": "342319dc-64da-41ee-a5d0-fef78f1e6b9c"
      },
      "execution_count": null,
      "outputs": [
        {
          "output_type": "stream",
          "name": "stdout",
          "text": [
            "tensor([[[[ 0., -4., -8.],\n",
            "          [ 0., -3., -7.],\n",
            "          [ 0., -1., -4.],\n",
            "          [ 0.,  0., -1.]]]], grad_fn=<ConvolutionBackward0>)\n"
          ]
        }
      ]
    },
    {
      "cell_type": "code",
      "source": [
        "Z = conv2d(X,W,stride=1,padding=0)\n",
        "print(Z)"
      ],
      "metadata": {
        "colab": {
          "base_uri": "https://localhost:8080/"
        },
        "id": "aCZJt7N3IYpu",
        "outputId": "17681d92-498a-4da7-bf8c-77c5dc32592c"
      },
      "execution_count": null,
      "outputs": [
        {
          "output_type": "stream",
          "name": "stdout",
          "text": [
            "[[ 0. -4. -8.]\n",
            " [ 0. -3. -7.]\n",
            " [ 0. -1. -4.]\n",
            " [ 0.  0. -1.]]\n"
          ]
        }
      ]
    },
    {
      "cell_type": "code",
      "source": [
        "loss = Z_tensor.sum()\n",
        "loss.backward()\n",
        "\n",
        "print(conv.weight.grad)\n",
        "print(X_tensor.grad)\n"
      ],
      "metadata": {
        "colab": {
          "base_uri": "https://localhost:8080/"
        },
        "id": "FFVke1bjIno8",
        "outputId": "39317f9a-735b-44de-a377-d6a03d038caa"
      },
      "execution_count": null,
      "outputs": [
        {
          "output_type": "stream",
          "name": "stdout",
          "text": [
            "tensor([[[[15., 18., 25.],\n",
            "          [21., 23., 28.],\n",
            "          [30., 31., 34.]]]])\n",
            "tensor([[[[ 1.,  1.,  0., -1., -1.],\n",
            "          [ 3.,  3.,  0., -3., -3.],\n",
            "          [ 4.,  4.,  0., -4., -4.],\n",
            "          [ 4.,  4.,  0., -4., -4.],\n",
            "          [ 3.,  3.,  0., -3., -3.],\n",
            "          [ 1.,  1.,  0., -1., -1.]]]])\n"
          ]
        }
      ]
    },
    {
      "cell_type": "code",
      "source": [
        "L = Z.sum()\n",
        "Z_grad = np.ones_like(Z)\n",
        "\n",
        "W_grad = conv2d(X,Z_grad,stride=1,padding=0)\n",
        "print(W_grad)\n",
        "\n",
        "Z_grad_p = np.pad(Z_grad, ((2, 2), (2, 2)), mode='constant')\n",
        "Wf = np.flip(W, axis=(0, 1))\n",
        "\n",
        "X_grad = conv2d(Z_grad_p,Wf,stride=1,padding=0)\n",
        "print(X_grad)"
      ],
      "metadata": {
        "colab": {
          "base_uri": "https://localhost:8080/"
        },
        "id": "znTcnSrWJMIk",
        "outputId": "c1d63bc8-23b9-4ffd-9410-7d87775f5217"
      },
      "execution_count": null,
      "outputs": [
        {
          "output_type": "stream",
          "name": "stdout",
          "text": [
            "[[15. 18. 25.]\n",
            " [21. 23. 28.]\n",
            " [30. 31. 34.]]\n",
            "[[0. 0. 0. 0. 0. 0. 0.]\n",
            " [0. 0. 0. 0. 0. 0. 0.]\n",
            " [0. 0. 1. 1. 1. 0. 0.]\n",
            " [0. 0. 1. 1. 1. 0. 0.]\n",
            " [0. 0. 1. 1. 1. 0. 0.]\n",
            " [0. 0. 1. 1. 1. 0. 0.]\n",
            " [0. 0. 0. 0. 0. 0. 0.]\n",
            " [0. 0. 0. 0. 0. 0. 0.]]\n",
            "[[ 1.  1.  0. -1. -1.]\n",
            " [ 3.  3.  0. -3. -3.]\n",
            " [ 4.  4.  0. -4. -4.]\n",
            " [ 4.  4.  0. -4. -4.]\n",
            " [ 3.  3.  0. -3. -3.]\n",
            " [ 1.  1.  0. -1. -1.]]\n"
          ]
        }
      ]
    }
  ]
}