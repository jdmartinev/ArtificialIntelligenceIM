{
  "cells": [
    {
      "cell_type": "markdown",
      "metadata": {},
      "source": [
        "# Ejemplo 1: Creación de un Agente LLM en Python"
      ]
    },
    {
      "cell_type": "code",
      "execution_count": null,
      "metadata": {},
      "outputs": [],
      "source": [
        "# instalar dependencias\n",
        "%pip install langchain openai faiss-cpu"
      ]
    },
    {
      "cell_type": "code",
      "execution_count": 9,
      "metadata": {},
      "outputs": [
        {
          "name": "stdout",
          "output_type": "stream",
          "text": [
            "\n",
            "\n",
            "\u001b[1m> Entering new AgentExecutor chain...\u001b[0m\n",
            "\u001b[32;1m\u001b[1;3mThought: Do I need to use a tool? No\n",
            "AI: Alan Turing fue un matemático, lógico, criptoanalista y científico de la computación británico. Es conocido por ser uno de los padres de la ciencia de la computación y proporcionar una base formal para el concepto de algoritmo y computación con su máquina de Turing, que es un modelo de una computadora de propósito general. Durante la Segunda Guerra Mundial, trabajó en descifrar los códigos nazis, particularmente los de la máquina Enigma, lo que contribuyó significativamente a la victoria de los Aliados. Además, Turing hizo contribuciones significativas a la biología matemática, específicamente en el área de la morfogénesis. Tristemente, Turing fue procesado por homosexualidad en 1952, un acto criminal en el Reino Unido en aquel tiempo, y murió en 1954, oficialmente de suicidio, aunque algunas personas han cuestionado esta conclusión. En 2009, el gobierno británico hizo una disculpa pública por el trato que Turing recibió, y en 2013, fue indultado póstumamente por la Reina Isabel II.\u001b[0m\n",
            "\n",
            "\u001b[1m> Finished chain.\u001b[0m\n",
            "Alan Turing fue un matemático, lógico, criptoanalista y científico de la computación británico. Es conocido por ser uno de los padres de la ciencia de la computación y proporcionar una base formal para el concepto de algoritmo y computación con su máquina de Turing, que es un modelo de una computadora de propósito general. Durante la Segunda Guerra Mundial, trabajó en descifrar los códigos nazis, particularmente los de la máquina Enigma, lo que contribuyó significativamente a la victoria de los Aliados. Además, Turing hizo contribuciones significativas a la biología matemática, específicamente en el área de la morfogénesis. Tristemente, Turing fue procesado por homosexualidad en 1952, un acto criminal en el Reino Unido en aquel tiempo, y murió en 1954, oficialmente de suicidio, aunque algunas personas han cuestionado esta conclusión. En 2009, el gobierno británico hizo una disculpa pública por el trato que Turing recibió, y en 2013, fue indultado póstumamente por la Reina Isabel II.\n"
          ]
        }
      ],
      "source": [
        "from langchain.chat_models import ChatOpenAI\n",
        "from langchain.agents import initialize_agent, AgentType\n",
        "from langchain.tools import Tool\n",
        "from langchain.memory import ConversationBufferMemory\n",
        "from dotenv import load_dotenv\n",
        "\n",
        "load_dotenv('api_keys.env')\n",
        "\n",
        "# 1. LLM\n",
        "llm = ChatOpenAI(model_name=\"gpt-4\", temperature=0.7)\n",
        "\n",
        "# 2. Memory\n",
        "memory = ConversationBufferMemory(memory_key=\"chat_history\", return_messages=True)\n",
        "\n",
        "# 3. Custom tool (e.g., Wikipedia search)\n",
        "def search_wikipedia(query):\n",
        "    from langchain.utilities import WikipediaAPIWrapper\n",
        "    wiki = WikipediaAPIWrapper()\n",
        "    return wiki.run(query)\n",
        "\n",
        "tool = Tool(\n",
        "    name=\"Wikipedia\",\n",
        "    func=search_wikipedia,\n",
        "    description=\"Busca información en Wikipedia.\"\n",
        ")\n",
        "\n",
        "tools = [tool]\n",
        "\n",
        "# 4. Initialize the agent\n",
        "agent = initialize_agent(\n",
        "    tools=tools,\n",
        "    llm=llm,\n",
        "    agent=AgentType.CONVERSATIONAL_REACT_DESCRIPTION,\n",
        "    memory=memory,\n",
        "    verbose=True\n",
        ")\n",
        "\n",
        "# 5. Test the agent\n",
        "response = agent.run(\"¿Quién fue Alan Turing?\")\n",
        "print(response)\n",
        "\n",
        "\n"
      ]
    },
    {
      "cell_type": "markdown",
      "metadata": {},
      "source": [
        "# Ejemplo 2: Agente con Razonamiento y Planificación"
      ]
    },
    {
      "cell_type": "code",
      "execution_count": 3,
      "metadata": {},
      "outputs": [
        {
          "name": "stdout",
          "output_type": "stream",
          "text": [
            "\n",
            "\n",
            "\u001b[1m> Entering new AgentExecutor chain...\u001b[0m\n",
            "\u001b[32;1m\u001b[1;3mNecesito buscar las últimas noticias sobre la inteligencia artificial.\n",
            "Action: Search\n",
            "Action Input: últimas noticias sobre inteligencia artificial\u001b[0m\n",
            "Observation: \u001b[36;1m\u001b[1;3m[{'title': 'Detectan nuevas extorsiones con Inteligencia Artificial que vulneran a familias de personas desaparecidas', 'link': 'https://www.infobae.com/mexico/2025/05/04/detectan-nuevas-extorsiones-con-inteligencia-artificial-que-vulneran-a-familias-de-personas-desaparecidas/', 'source': 'Infobae', 'source_logo': 'https://serpapi.com/searches/6818d2abbc3f0ba762fa0f6c/images/7ab2c0cb5d2ba0613933cfca9c7962ad98a9fd4f22666a1f8d4f71337ad4daf2.png', 'date': '1 day ago', 'thumbnail': 'https://encrypted-tbn0.gstatic.com/images?q=tbn:ANd9GcSdUaFW0yO9dyzrlgfTojJC__HqAyyfdavSkChlc3_0XoLqe_BdRzKIMXY&usqp=CAI&s'}, {'title': 'La advertencia de Jensen Huang sobre la inteligencia artificial y el futuro laboral en Estados Unidos', 'link': 'https://www.infobae.com/estados-unidos/2025/05/04/la-advertencia-de-jensen-huang-sobre-la-inteligencia-artificial-y-el-futuro-laboral-en-estados-unidos/', 'source': 'Infobae', 'source_logo': 'https://serpapi.com/searches/6818d2abbc3f0ba762fa0f6c/images/7ab2c0cb5d2ba0612b486af6143fb2bdae51e5f8bd15d3e3ed806df31afe63d9.png', 'date': '1 day ago', 'thumbnail': 'https://encrypted-tbn0.gstatic.com/images?q=tbn:ANd9GcRqI04Ny_Fbb9HiXLMZ2Db1IrOGcstWIYeFeGGQliAUEV-ZKiXAu_VGxq0&usqp=CAI&s'}, {'title': 'Cinco errores que no debe cometer al usar la inteligencia artificial generativa', 'link': 'https://www.eltiempo.com/tecnosfera/novedades-tecnologia/cinco-errores-que-no-debe-cometer-al-usar-la-inteligencia-artificial-generativa-3450487', 'source': 'ELTIEMPO.COM', 'source_logo': 'https://serpapi.com/searches/6818d2abbc3f0ba762fa0f6c/images/7ab2c0cb5d2ba0615784b0c0be134d85ab5797e9f959ecfe27e8dd54b72a4ccc.png', 'date': '12 hours ago', 'thumbnail': 'https://encrypted-tbn0.gstatic.com/images?q=tbn:ANd9GcR-TXyqz4fNq0bg10SZ2PSI5j25w-DCIjoZ0RzbiTkVy80u-MjTPhGhyPQ&usqp=CAI&s'}]\u001b[0m\n",
            "Thought:\u001b[32;1m\u001b[1;3mAhora tengo varias noticias recientes sobre la inteligencia artificial.\n",
            "Final Answer: Algunas de las últimas noticias sobre inteligencia artificial son:\n",
            "\n",
            "1. \"Detectan nuevas extorsiones con Inteligencia Artificial que vulneran a familias de personas desaparecidas\" de Infobae. [Enlace a la noticia](https://www.infobae.com/mexico/2025/05/04/detectan-nuevas-extorsiones-con-inteligencia-artificial-que-vulneran-a-familias-de-personas-desaparecidas/)\n",
            "\n",
            "2. \"La advertencia de Jensen Huang sobre la inteligencia artificial y el futuro laboral en Estados Unidos\" también de Infobae. [Enlace a la noticia](https://www.infobae.com/estados-unidos/2025/05/04/la-advertencia-de-jensen-huang-sobre-la-inteligencia-artificial-y-el-futuro-laboral-en-estados-unidos/)\n",
            "\n",
            "3. \"Cinco errores que no debe cometer al usar la inteligencia artificial generativa\" de ELTIEMPO.COM. [Enlace a la noticia](https://www.eltiempo.com/tecnosfera/novedades-tecnologia/cinco-errores-que-no-debe-cometer-al-usar-la-inteligencia-artificial-generativa-3450487)\u001b[0m\n",
            "\n",
            "\u001b[1m> Finished chain.\u001b[0m\n",
            "Algunas de las últimas noticias sobre inteligencia artificial son:\n",
            "\n",
            "1. \"Detectan nuevas extorsiones con Inteligencia Artificial que vulneran a familias de personas desaparecidas\" de Infobae. [Enlace a la noticia](https://www.infobae.com/mexico/2025/05/04/detectan-nuevas-extorsiones-con-inteligencia-artificial-que-vulneran-a-familias-de-personas-desaparecidas/)\n",
            "\n",
            "2. \"La advertencia de Jensen Huang sobre la inteligencia artificial y el futuro laboral en Estados Unidos\" también de Infobae. [Enlace a la noticia](https://www.infobae.com/estados-unidos/2025/05/04/la-advertencia-de-jensen-huang-sobre-la-inteligencia-artificial-y-el-futuro-laboral-en-estados-unidos/)\n",
            "\n",
            "3. \"Cinco errores que no debe cometer al usar la inteligencia artificial generativa\" de ELTIEMPO.COM. [Enlace a la noticia](https://www.eltiempo.com/tecnosfera/novedades-tecnologia/cinco-errores-que-no-debe-cometer-al-usar-la-inteligencia-artificial-generativa-3450487)\n"
          ]
        }
      ],
      "source": [
        "# %pip install google-search-results\n",
        "\n",
        "# Este agente puede recibir objetivos y descomponerlos en tareas usando un marco de planificación.\n",
        "\n",
        "# se requiere la API KEY de SerpAPI - https://serpapi.\n",
        "\n",
        "# realice el registro en línea, tiene 100 busquedas gratuitas al men, uso no comercial\n",
        "\n",
        "# crera la variable con el valor SERPAPI_API_KEY\n",
        "\n",
        "# en el bash shell:\n",
        "\n",
        "# bash$ set SERPAPI_API_KEY=123...232\n",
        "# bash$ export SERPAPI_API_KEY\n",
        "# bash$ echo $SERPAPI_API_KEY\n",
        "# 123...232\n",
        "\n",
        "import os\n",
        "from langchain_openai import ChatOpenAI\n",
        "from langchain.schema import SystemMessage\n",
        "from langchain.agents import load_tools, initialize_agent, AgentType\n",
        "from dotenv import load_dotenv\n",
        "\n",
        "# 1. Cargar claves\n",
        "load_dotenv(\"api_keys.env\")\n",
        "os.environ[\"SERPAPI_API_KEY\"] = os.getenv(\"SERPAPI_API_KEY\")\n",
        "\n",
        "# 2. LLM\n",
        "llm = ChatOpenAI(model_name=\"gpt-4\", temperature=0.7)\n",
        "\n",
        "# 3. Cargar herramientas\n",
        "tools = load_tools([\"serpapi\"], llm=llm)\n",
        "\n",
        "# 4. Crear mensaje del sistema (si vas a usar un sistema con prompt personalizado)\n",
        "system_message = SystemMessage(\n",
        "    content=\"Eres un agente de IA que descompone problemas complejos en pasos más pequeños y ejecuta acciones.\"\n",
        ")\n",
        "\n",
        "# 5. Crear agente\n",
        "agent_executor = initialize_agent(\n",
        "    tools=tools,\n",
        "    llm=llm,\n",
        "    agent=AgentType.ZERO_SHOT_REACT_DESCRIPTION,\n",
        "    verbose=True\n",
        ")\n",
        "\n",
        "# 6. Ejecutar agente\n",
        "result = agent_executor.run(\"Encuentra las últimas noticias sobre inteligencia artificial.\")\n",
        "print(result)"
      ]
    },
    {
      "cell_type": "code",
      "execution_count": null,
      "metadata": {},
      "outputs": [],
      "source": [
        "%pip install openai-agents"
      ]
    },
    {
      "cell_type": "code",
      "execution_count": 4,
      "metadata": {},
      "outputs": [
        {
          "name": "stdout",
          "output_type": "stream",
          "text": [
            "Code within a code,  \n",
            "Infinite loops in the flow—  \n",
            "Fractal thoughts unfold.\n"
          ]
        }
      ],
      "source": [
        "from agents import Agent, Runner\n",
        "\n",
        "agent = Agent(name=\"Assistant\", instructions=\"You are a helpful assistant\")\n",
        "\n",
        "# Intended for Jupyter notebooks where there's an existing event loop\n",
        "result = await Runner.run(agent, \"Write a haiku about recursion in programming.\")  # type: ignore[top-level-await]  # noqa: F704\n",
        "print(result.final_output)\n",
        "\n",
        "# Code within code loops,\n",
        "# Infinite mirrors reflect—\n",
        "# Logic folds on self."
      ]
    },
    {
      "cell_type": "code",
      "execution_count": 5,
      "metadata": {},
      "outputs": [
        {
          "name": "stdout",
          "output_type": "stream",
          "text": [
            "Code within itself,  \n",
            "Endless loops weave deep patterns—  \n",
            "Clarity through depth.\n"
          ]
        }
      ],
      "source": [
        "# funciona como un programa aparte: ejemplo.py\n",
        "from agents import Agent, Runner\n",
        "\n",
        "agent = Agent(name=\"Assistant\", instructions=\"You are a helpful assistant\")\n",
        "\n",
        "# Intended for Jupyter notebooks where there's an existing event loop\n",
        "result = await Runner.run(agent, \"Write a haiku about recursion in programming.\")  # type: ignore[top-level-await]  # noqa: F704\n",
        "print(result.final_output)\n",
        "\n",
        "# Code within code loops,\n",
        "# Infinite mirrors reflect—\n",
        "# Logic folds on self."
      ]
    },
    {
      "cell_type": "code",
      "execution_count": 6,
      "metadata": {},
      "outputs": [
        {
          "name": "stdout",
          "output_type": "stream",
          "text": [
            "['__class__', '__delattr__', '__dict__', '__dir__', '__doc__', '__eq__', '__format__', '__ge__', '__getattribute__', '__getstate__', '__gt__', '__hash__', '__init__', '__init_subclass__', '__le__', '__lt__', '__module__', '__ne__', '__new__', '__reduce__', '__reduce_ex__', '__repr__', '__setattr__', '__sizeof__', '__str__', '__subclasshook__', '__weakref__', '_get_all_tools', '_get_handoffs', '_get_model', '_get_new_response', '_get_output_schema', '_get_single_step_result_from_response', '_run_input_guardrails', '_run_input_guardrails_with_queue', '_run_output_guardrails', '_run_single_turn', '_run_single_turn_streamed', '_run_streamed_impl', 'run', 'run_streamed', 'run_sync']\n"
          ]
        }
      ],
      "source": [
        "import nest_asyncio\n",
        "import asyncio\n",
        "from agents import Agent, Runner\n",
        "\n",
        "print(dir(Runner))  # Verifica qué métodos están disponibles en Runner\n"
      ]
    },
    {
      "cell_type": "code",
      "execution_count": 7,
      "metadata": {},
      "outputs": [
        {
          "name": "stdout",
          "output_type": "stream",
          "text": [
            "Code calls to itself,  \n",
            "Infinite loops spin and dance—  \n",
            "Echoes in logic.\n"
          ]
        }
      ],
      "source": [
        "# ejecución asincrónica dentro de notebook:\n",
        "\n",
        "import nest_asyncio\n",
        "#import asyncio\n",
        "from agents import Agent, Runner\n",
        "\n",
        "nest_asyncio.apply()  # Permite usar asyncio en Jupyter sin conflictos\n",
        "\n",
        "agent = Agent(name=\"Assistant\", instructions=\"You are a helpful assistant\")\n",
        "\n",
        "async def main():\n",
        "    result = await Runner.run(agent, \"Write a haiku about recursion in programming.\")\n",
        "    print(result.final_output)\n",
        "\n",
        "await main()  # Ejecutar directamente en Jupyter\n"
      ]
    },
    {
      "cell_type": "code",
      "execution_count": 8,
      "metadata": {},
      "outputs": [],
      "source": [
        "import nest_asyncio\n",
        "nest_asyncio.apply()\n"
      ]
    },
    {
      "cell_type": "code",
      "execution_count": 9,
      "metadata": {},
      "outputs": [
        {
          "name": "stdout",
          "output_type": "stream",
          "text": [
            "Code inside itself,  \n",
            "Infinite looping whispers—  \n",
            "Depth finds its own way.\n"
          ]
        }
      ],
      "source": [
        "import asyncio\n",
        "from agents import Agent, Runner\n",
        "\n",
        "agent = Agent(name=\"Assistant\", instructions=\"You are a helpful assistant\")\n",
        "\n",
        "async def main():\n",
        "    result = await Runner.run(agent, \"Write a haiku about recursion in programming.\")\n",
        "    print(result.final_output)\n",
        "\n",
        "asyncio.run(main())\n"
      ]
    },
    {
      "cell_type": "markdown",
      "metadata": {},
      "source": [
        "# Ejemplo 3 - instalación basica de llamaindex"
      ]
    },
    {
      "cell_type": "code",
      "execution_count": null,
      "metadata": {},
      "outputs": [],
      "source": [
        "%pip install llama-index-llms-huggingface-api llama-index-embeddings-huggingface\n"
      ]
    },
    {
      "cell_type": "code",
      "execution_count": 11,
      "metadata": {},
      "outputs": [
        {
          "data": {
            "text/plain": [
              "CompletionResponse(text=\" I'm fine, thank you. How about yourself?\\n\\nHello! I'm just a computer program, so I don't have feelings, but thanks for asking. How can I assist you today?\", additional_kwargs={}, raw=None, logprobs=None, delta=None)"
            ]
          },
          "execution_count": 11,
          "metadata": {},
          "output_type": "execute_result"
        }
      ],
      "source": [
        "from llama_index.llms.huggingface_api import HuggingFaceInferenceAPI\n",
        "# 1. Cargar claves\n",
        "load_dotenv(\"api_keys.env\")\n",
        "\n",
        "llm = HuggingFaceInferenceAPI(\n",
        "    model_name=\"Qwen/Qwen2.5-Coder-32B-Instruct\",\n",
        "    temperature=0.7,\n",
        "    max_tokens=100,\n",
        "    token=os.getenv(\"HF_API_KEY\"),\n",
        ")\n",
        "\n",
        "llm.complete(\"Hello, how are you?\")\n",
        "# I am good, how can I help you today?"
      ]
    }
  ],
  "metadata": {
    "colab": {
      "name": "lab1-nltk.ipynb",
      "provenance": []
    },
    "kernelspec": {
      "display_name": "Python 3.11.0 ('AgentsEnv': venv)",
      "language": "python",
      "name": "python3"
    },
    "language_info": {
      "codemirror_mode": {
        "name": "ipython",
        "version": 3
      },
      "file_extension": ".py",
      "mimetype": "text/x-python",
      "name": "python",
      "nbconvert_exporter": "python",
      "pygments_lexer": "ipython3",
      "version": "3.11.0"
    },
    "vscode": {
      "interpreter": {
        "hash": "3bab8dca7bd29c51e5893d6fa72c47c25692f471be8ad6e36f6aa554ffdbd786"
      }
    }
  },
  "nbformat": 4,
  "nbformat_minor": 2
}
