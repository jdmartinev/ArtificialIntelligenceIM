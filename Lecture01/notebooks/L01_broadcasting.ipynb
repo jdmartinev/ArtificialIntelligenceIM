{
  "nbformat": 4,
  "nbformat_minor": 0,
  "metadata": {
    "colab": {
      "provenance": [],
      "authorship_tag": "ABX9TyMtFZmSx+5qo/Aglg3bKqgJ",
      "include_colab_link": true
    },
    "kernelspec": {
      "name": "python3",
      "display_name": "Python 3"
    },
    "language_info": {
      "name": "python"
    }
  },
  "cells": [
    {
      "cell_type": "markdown",
      "metadata": {
        "id": "view-in-github",
        "colab_type": "text"
      },
      "source": [
        "<a href=\"https://colab.research.google.com/github/jdmartinev/ArtificialIntelligenceIM/blob/main/Lecture01/notebooks/L01_broadcasting.ipynb\" target=\"_parent\"><img src=\"https://colab.research.google.com/assets/colab-badge.svg\" alt=\"Open In Colab\"/></a>"
      ]
    },
    {
      "cell_type": "code",
      "execution_count": 3,
      "metadata": {
        "id": "mlikRo7Q1Tcl"
      },
      "outputs": [],
      "source": [
        "import numpy as np\n",
        "import torch"
      ]
    },
    {
      "cell_type": "code",
      "source": [
        "a = np.array([1.,2.,3.])\n",
        "\n",
        "print(a.shape)\n",
        "\n",
        "print(a.ndim)\n",
        "\n",
        "print(a.dot(a))\n",
        "\n",
        "print(a*a)\n",
        "\n",
        "print(a.T@a)\n",
        "\n",
        "print(a @ a.T)"
      ],
      "metadata": {
        "colab": {
          "base_uri": "https://localhost:8080/"
        },
        "id": "TQmZitb31bb-",
        "outputId": "44375094-845d-4d1b-f5c6-8c30e64de24a"
      },
      "execution_count": 9,
      "outputs": [
        {
          "output_type": "stream",
          "name": "stdout",
          "text": [
            "(3,)\n",
            "1\n",
            "14.0\n",
            "[1. 4. 9.]\n",
            "14.0\n",
            "14.0\n"
          ]
        }
      ]
    },
    {
      "cell_type": "code",
      "source": [
        "b = torch.tensor([[1, 2, 3],[4, 5, 6]])\n",
        "print(b)\n",
        "print(b.shape)\n",
        "print(b.ndim)"
      ],
      "metadata": {
        "colab": {
          "base_uri": "https://localhost:8080/"
        },
        "id": "I7Gs3kKT2Jh1",
        "outputId": "cfe6029b-a3d3-4805-b35d-22e01b143a97"
      },
      "execution_count": 12,
      "outputs": [
        {
          "output_type": "stream",
          "name": "stdout",
          "text": [
            "tensor([[1, 2, 3],\n",
            "        [4, 5, 6]])\n",
            "torch.Size([2, 3])\n",
            "2\n"
          ]
        }
      ]
    },
    {
      "cell_type": "code",
      "source": [
        "b = torch.tensor([1., 2., 3.])\n",
        "print(b)\n",
        "print(b.dtype)\n",
        "print(b.shape)\n",
        "print(b.ndim)\n",
        "\n",
        "print(b.matmul(b))\n",
        "print(b.dot(b))\n",
        "print(b @ b)"
      ],
      "metadata": {
        "colab": {
          "base_uri": "https://localhost:8080/"
        },
        "id": "lsVUM1RV2mnJ",
        "outputId": "c3c3faf8-1a05-4856-dbc7-2e9388603ba8"
      },
      "execution_count": 16,
      "outputs": [
        {
          "output_type": "stream",
          "name": "stdout",
          "text": [
            "tensor([1., 2., 3.])\n",
            "torch.float32\n",
            "torch.Size([3])\n",
            "1\n",
            "tensor(14.)\n",
            "tensor(14.)\n",
            "tensor(14.)\n"
          ]
        }
      ]
    },
    {
      "cell_type": "code",
      "source": [
        "c = torch.tensor([1., 2., 3.])\n",
        "print(c.dtype)\n",
        "\n",
        "c = torch.tensor([1., 2., 3.], dtype = torch.double)\n",
        "print(c.dtype)\n",
        "\n",
        "c = torch.tensor([1., 2., 3.], dtype = torch.float64)\n",
        "print(c.dtype)\n",
        "\n",
        "f = c.to(torch.float32)\n",
        "print(f.dtype)\n",
        "\n"
      ],
      "metadata": {
        "colab": {
          "base_uri": "https://localhost:8080/"
        },
        "id": "PFq4yqBD2_1U",
        "outputId": "28d4f4c8-9964-44ab-d5a7-929a246cdb5a"
      },
      "execution_count": 21,
      "outputs": [
        {
          "output_type": "stream",
          "name": "stdout",
          "text": [
            "torch.float32\n",
            "torch.float64\n",
            "torch.float64\n",
            "torch.float32\n"
          ]
        }
      ]
    },
    {
      "cell_type": "code",
      "source": [
        "c = torch.tensor([1., 2., 3.])\n",
        "print(c.device)"
      ],
      "metadata": {
        "colab": {
          "base_uri": "https://localhost:8080/"
        },
        "id": "fBMX_koR2f6X",
        "outputId": "8f1506ee-a986-46e7-d9dc-66a81fe5b88d"
      },
      "execution_count": 3,
      "outputs": [
        {
          "output_type": "stream",
          "name": "stdout",
          "text": [
            "cpu\n"
          ]
        }
      ]
    },
    {
      "cell_type": "code",
      "source": [
        "device = torch.device('cuda') if torch.cuda.is_available() else torch.device('cpu')\n",
        "print(device)\n",
        "\n",
        "d = c.to(device)\n",
        "print(d.device)"
      ],
      "metadata": {
        "colab": {
          "base_uri": "https://localhost:8080/"
        },
        "id": "jb2VptVJ3mNR",
        "outputId": "527ae1d8-b31f-49c0-ea2b-3bdcf7e82e40"
      },
      "execution_count": 5,
      "outputs": [
        {
          "output_type": "stream",
          "name": "stdout",
          "text": [
            "cuda\n",
            "cuda:0\n"
          ]
        }
      ]
    },
    {
      "cell_type": "code",
      "source": [
        "e = d + c"
      ],
      "metadata": {
        "colab": {
          "base_uri": "https://localhost:8080/",
          "height": 143
        },
        "id": "qyDXkPMt36GH",
        "outputId": "3178c634-4a6e-444f-b3c2-7b88b22001da"
      },
      "execution_count": 6,
      "outputs": [
        {
          "output_type": "error",
          "ename": "RuntimeError",
          "evalue": "Expected all tensors to be on the same device, but found at least two devices, cuda:0 and cpu!",
          "traceback": [
            "\u001b[0;31m---------------------------------------------------------------------------\u001b[0m",
            "\u001b[0;31mRuntimeError\u001b[0m                              Traceback (most recent call last)",
            "\u001b[0;32m/tmp/ipython-input-6-83249622.py\u001b[0m in \u001b[0;36m<cell line: 0>\u001b[0;34m()\u001b[0m\n\u001b[0;32m----> 1\u001b[0;31m \u001b[0me\u001b[0m \u001b[0;34m=\u001b[0m \u001b[0md\u001b[0m \u001b[0;34m+\u001b[0m \u001b[0mc\u001b[0m\u001b[0;34m\u001b[0m\u001b[0;34m\u001b[0m\u001b[0m\n\u001b[0m",
            "\u001b[0;31mRuntimeError\u001b[0m: Expected all tensors to be on the same device, but found at least two devices, cuda:0 and cpu!"
          ]
        }
      ]
    },
    {
      "cell_type": "code",
      "source": [
        "!nvidia-smi"
      ],
      "metadata": {
        "colab": {
          "base_uri": "https://localhost:8080/"
        },
        "id": "Hd3zeIMf39fb",
        "outputId": "548bf4c2-24bb-4429-be71-af18564b1c7a"
      },
      "execution_count": 7,
      "outputs": [
        {
          "output_type": "stream",
          "name": "stdout",
          "text": [
            "Mon Jul 14 16:58:46 2025       \n",
            "+-----------------------------------------------------------------------------------------+\n",
            "| NVIDIA-SMI 550.54.15              Driver Version: 550.54.15      CUDA Version: 12.4     |\n",
            "|-----------------------------------------+------------------------+----------------------+\n",
            "| GPU  Name                 Persistence-M | Bus-Id          Disp.A | Volatile Uncorr. ECC |\n",
            "| Fan  Temp   Perf          Pwr:Usage/Cap |           Memory-Usage | GPU-Util  Compute M. |\n",
            "|                                         |                        |               MIG M. |\n",
            "|=========================================+========================+======================|\n",
            "|   0  Tesla T4                       Off |   00000000:00:04.0 Off |                    0 |\n",
            "| N/A   43C    P0             26W /   70W |     120MiB /  15360MiB |      0%      Default |\n",
            "|                                         |                        |                  N/A |\n",
            "+-----------------------------------------+------------------------+----------------------+\n",
            "                                                                                         \n",
            "+-----------------------------------------------------------------------------------------+\n",
            "| Processes:                                                                              |\n",
            "|  GPU   GI   CI        PID   Type   Process name                              GPU Memory |\n",
            "|        ID   ID                                                               Usage      |\n",
            "|=========================================================================================|\n",
            "+-----------------------------------------------------------------------------------------+\n"
          ]
        }
      ]
    },
    {
      "cell_type": "code",
      "source": [
        "a = torch.tensor([1., 2., 3.])\n",
        "b = torch.tensor([4., 5., 6.])\n",
        "print(a + b)\n",
        "print(a - b)\n",
        "print(a * b)\n",
        "print(a / b)\n",
        "\n",
        "print(a + 1)"
      ],
      "metadata": {
        "colab": {
          "base_uri": "https://localhost:8080/"
        },
        "id": "RBBPPIMM4F_Z",
        "outputId": "ca8334ae-7797-4b39-a114-f815de763f92"
      },
      "execution_count": 5,
      "outputs": [
        {
          "output_type": "stream",
          "name": "stdout",
          "text": [
            "tensor([5., 7., 9.])\n",
            "tensor([-3., -3., -3.])\n",
            "tensor([ 4., 10., 18.])\n",
            "tensor([0.2500, 0.4000, 0.5000])\n",
            "tensor([2., 3., 4.])\n"
          ]
        }
      ]
    },
    {
      "cell_type": "code",
      "source": [
        "X = torch.arange(6).view(2,3)\n",
        "print(X)\n",
        "w = torch.tensor([1,2,3])"
      ],
      "metadata": {
        "colab": {
          "base_uri": "https://localhost:8080/"
        },
        "id": "kqok0J4g4flr",
        "outputId": "2affe509-b234-448b-bd2e-a7b72605328b"
      },
      "execution_count": 7,
      "outputs": [
        {
          "output_type": "stream",
          "name": "stdout",
          "text": [
            "tensor([[0, 1, 2],\n",
            "        [3, 4, 5]])\n"
          ]
        }
      ]
    },
    {
      "cell_type": "code",
      "source": [
        "z = X.matmul(w)\n",
        "print(z)\n",
        "print(z.shape)"
      ],
      "metadata": {
        "colab": {
          "base_uri": "https://localhost:8080/"
        },
        "id": "OFk1XuzT4uTt",
        "outputId": "3a0bd97e-efd2-485f-fafb-2e120aa66bb6"
      },
      "execution_count": 9,
      "outputs": [
        {
          "output_type": "stream",
          "name": "stdout",
          "text": [
            "tensor([ 8, 26])\n",
            "torch.Size([2])\n"
          ]
        }
      ]
    },
    {
      "cell_type": "code",
      "source": [
        "w = w.view(-1,1)\n",
        "z = X.matmul(w)\n",
        "print(z)\n",
        "print(z.shape)"
      ],
      "metadata": {
        "colab": {
          "base_uri": "https://localhost:8080/"
        },
        "id": "dNF1a-sJ435N",
        "outputId": "10bac89e-b08a-4f30-afef-82038ebf8a32"
      },
      "execution_count": 10,
      "outputs": [
        {
          "output_type": "stream",
          "name": "stdout",
          "text": [
            "tensor([[ 8],\n",
            "        [26]])\n",
            "torch.Size([2, 1])\n"
          ]
        }
      ]
    },
    {
      "cell_type": "code",
      "source": [
        "a = torch.tensor([[4],[5],[6]])\n",
        "print(a.shape)\n",
        "\n",
        "b = torch.tensor([7,8,9])\n",
        "print(b.shape)\n",
        "\n",
        "print(a + b)"
      ],
      "metadata": {
        "colab": {
          "base_uri": "https://localhost:8080/"
        },
        "id": "Jyawy8T-O8OE",
        "outputId": "7cd5657b-09ac-41b2-9b04-6a9e435e76a0"
      },
      "execution_count": 12,
      "outputs": [
        {
          "output_type": "stream",
          "name": "stdout",
          "text": [
            "torch.Size([3, 1])\n",
            "torch.Size([3])\n",
            "tensor([[11, 12, 13],\n",
            "        [12, 13, 14],\n",
            "        [13, 14, 15]])\n"
          ]
        }
      ]
    },
    {
      "cell_type": "code",
      "source": [
        "X = torch.arange(6).view(2,3)\n",
        "print(X)\n",
        "print(X.shape)\n",
        "\n",
        "w = torch.tensor([1,2,3])\n",
        "print(w)\n",
        "print(w.shape)\n",
        "\n",
        "b = torch.tensor(2)\n",
        "print(b.shape)\n",
        "\n",
        "z = X.matmul(w) + b\n",
        "print(z)\n",
        "print(z.shape)\n",
        "\n"
      ],
      "metadata": {
        "colab": {
          "base_uri": "https://localhost:8080/"
        },
        "id": "sWlQQCamPQmT",
        "outputId": "04c308ed-7c06-4b9d-c0d9-a456d240b217"
      },
      "execution_count": 17,
      "outputs": [
        {
          "output_type": "stream",
          "name": "stdout",
          "text": [
            "tensor([[0, 1, 2],\n",
            "        [3, 4, 5]])\n",
            "torch.Size([2, 3])\n",
            "tensor([1, 2, 3])\n",
            "torch.Size([3])\n",
            "torch.Size([])\n",
            "tensor([10, 28])\n",
            "torch.Size([2])\n"
          ]
        }
      ]
    }
  ]
}